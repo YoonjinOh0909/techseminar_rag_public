{
 "cells": [
  {
   "cell_type": "markdown",
   "id": "807749a0",
   "metadata": {},
   "source": [
    "## PyPDFLoader로 pdf 읽기"
   ]
  },
  {
   "cell_type": "markdown",
   "id": "5801b44f",
   "metadata": {},
   "source": [
    "### data에 있는 모든 문서 추출하기\n",
    "- chroma_store가 없을 경우 data 폴더에 있는 pdf 파일들을 읽어서 벡터 DB에 저장 하기 위한 과정"
   ]
  },
  {
   "cell_type": "markdown",
   "id": "6f84d850",
   "metadata": {},
   "source": [
    "### 청킹 방법 선택하기"
   ]
  },
  {
   "cell_type": "code",
   "execution_count": 30,
   "id": "33c88d4b",
   "metadata": {},
   "outputs": [],
   "source": [
    "# 청킹 방법\n",
    "splitter_name = \"recursive\" # recursive, semantic\n",
    "\n",
    "# 임베딩 모델\n",
    "MODEL = \"text-embedding-3-large\" # text-embedding-3-large\n",
    "\n",
    "# LLM 모델\n",
    "LLM_MODEL = \"gpt-4o-mini\" # gpt-4o-mini, openai/gpt-oss-120b"
   ]
  },
  {
   "cell_type": "code",
   "execution_count": 31,
   "id": "5e0503fe",
   "metadata": {},
   "outputs": [
    {
     "name": "stdout",
     "output_type": "stream",
     "text": [
      "<langchain_text_splitters.character.RecursiveCharacterTextSplitter object at 0x00000236E2186710>\n"
     ]
    }
   ],
   "source": [
    "if splitter_name == \"recursive\" :\n",
    "    # recursive_character_text_splitter로 구분자 재귀 청킹 기법\n",
    "    from langchain_text_splitters import RecursiveCharacterTextSplitter\n",
    "\n",
    "    text_splitter = RecursiveCharacterTextSplitter(\n",
    "        chunk_size=1000,\n",
    "        chunk_overlap=100\n",
    "    )\n",
    "elif splitter_name == \"semantic\":\n",
    "    import os\n",
    "    from langchain_experimental.text_splitter import SemanticChunker\n",
    "    from langchain_openai.embeddings import OpenAIEmbeddings\n",
    "    from dotenv import load_dotenv\n",
    "\n",
    "    load_dotenv()\n",
    "\n",
    "    # 의미 기반으로 청킹을 하기 위해 OpenAI의 임베딩 모델을 사용\n",
    "    OPENAI_API_KEY = os.getenv(\"OPENAI_API_KEY\")\n",
    "    embedding = OpenAIEmbeddings(model=MODEL, api_key=OPENAI_API_KEY)\n",
    "\n",
    "    text_splitter = SemanticChunker(embedding)\n",
    "\n",
    "print(text_splitter)"
   ]
  },
  {
   "cell_type": "markdown",
   "id": "d9c63422",
   "metadata": {},
   "source": [
    "### Debug 함수"
   ]
  },
  {
   "cell_type": "code",
   "execution_count": null,
   "id": "78f42103",
   "metadata": {},
   "outputs": [],
   "source": [
    "def debug_chunkinfo_aftersplit(all_splits):\n",
    "    for i, split in enumerate(all_splits):\n",
    "        print(f\"Chunk {i+1}:\")\n",
    "        print(split.page_content)\n",
    "        print(\"-\" * 40)"
   ]
  },
  {
   "cell_type": "markdown",
   "id": "b17918d6",
   "metadata": {},
   "source": [
    "### 추출 하기"
   ]
  },
  {
   "cell_type": "code",
   "execution_count": 17,
   "id": "1cf92787",
   "metadata": {},
   "outputs": [
    {
     "name": "stdout",
     "output_type": "stream",
     "text": [
      "현재 청킹 방법 : semantic\n",
      "현재 모델 : text-embedding-3-large\n",
      "PDF 파일 개수: 3\n",
      "전체 청크 개수: 118\n"
     ]
    }
   ],
   "source": [
    "import os\n",
    "import glob\n",
    "from langchain_community.document_loaders import PyPDFLoader\n",
    "\n",
    "# PDF 파일을 읽어서 텍스트 데이터 추출 및 청킹\n",
    "def extract_documents_from_pdf(pdf_path):\n",
    "    # PDF 파일을 읽어서 텍스트 데이터 추출\n",
    "    loader = PyPDFLoader(pdf_path)\n",
    "    data_nyc = loader.load()\n",
    "\n",
    "    # 추출된 텍스트 데이터를 청킹\n",
    "    splits = text_splitter.split_documents(data_nyc)\n",
    "    # debug_chunkinfo_aftersplit(splits) \n",
    "\n",
    "    # recursive_character_text_splitter의 경우, 청크가 겹치는 부분이 없으면 연결하지 않음\n",
    "    # 따라서, 청크가 겹치는 부분이 없을 때는 직접 연결하여 오버랩을 만듦\n",
    "    # 만약 청크가 겹치는 부분이 있다면, 그 부분은 자동으로 연결됨\n",
    "    # 여기서는 청크가 겹치지 않는 경우에만 오버랩을 추가함\n",
    "\n",
    "    # 만약 첫 번째 청크의 끝과 두 번째 청크의 시작이 겹치지 않는다면,\n",
    "    if splitter_name == \"recursive\" and (splits[0].page_content[-100:] == splits[1].page_content[:100]):\n",
    "        print(splits[0].page_content)\n",
    "        print(\"----\")\n",
    "        print(splits[1].page_content)\n",
    "        for i in range(len(splits) - 1):\n",
    "            splits[i].page_content += \"\\n\" + splits[i + 1].page_content[:50]\n",
    "\n",
    "    return splits\n",
    "\n",
    "\n",
    "current_dir = os.getcwd() # 현재 폴더 경로\n",
    "folder_path = os.path.join(current_dir, \"data\") # data 폴더 경로 설정\n",
    "pdf_files = glob.glob(os.path.join(folder_path, \"*.pdf\")) # PDF 파일 목록 가져오기\n",
    "\n",
    "all_splits = []\n",
    "print(f\"현재 청킹 방법 : {splitter_name}\")\n",
    "print(f\"현재 모델 : {MODEL}\")\n",
    "print(f\"PDF 파일 개수: {len(pdf_files)}\")\n",
    "for pdf_file in pdf_files:\n",
    "    pdf_path = pdf_file\n",
    "    # temp_docs, merged_path = extract_documents_from_pdf(pdf_file)\n",
    "    all_splits.extend(extract_documents_from_pdf(pdf_file))\n",
    "\n",
    "print(f\"전체 청크 개수: {len(all_splits)}\")"
   ]
  },
  {
   "cell_type": "markdown",
   "id": "a87940ce",
   "metadata": {},
   "source": [
    "## 텍스트를 벡터로 변환하기\n",
    "- 임베딩 모델 설정하기"
   ]
  },
  {
   "cell_type": "code",
   "execution_count": 32,
   "id": "3216a631",
   "metadata": {},
   "outputs": [],
   "source": [
    "from langchain_openai import OpenAIEmbeddings\n",
    "\n",
    "from dotenv import load_dotenv\n",
    "\n",
    "import os\n",
    "load_dotenv()\n",
    "\n",
    "if splitter_name != \"semantic\":\n",
    "    OPENAI_API_KEY = os.getenv(\"OPENAI_API_KEY\")\n",
    "\n",
    "    # text-embedding-3-small이 비용 대비 성능이 매우 뛰어나지만, 한글 문서에서는 text-embedding-3-large가 더 나은 성능을 보여 large로 선택.\n",
    "    MODEL = \"text-embedding-3-large\"\n",
    "    embedding = OpenAIEmbeddings(model=MODEL, api_key=OPENAI_API_KEY)\n",
    "\n",
    "# 예시\n",
    "# v = embedding.embed_query(\"뉴욕의 온실가스 저감정책은 뭐야?\")\n",
    "# print(v)\n",
    "# print(len(v))"
   ]
  },
  {
   "cell_type": "markdown",
   "id": "b41f24cc",
   "metadata": {},
   "source": [
    "## 크로마 DB 생성하고 데이터 불러오기\n"
   ]
  },
  {
   "cell_type": "markdown",
   "id": "b47e9be1",
   "metadata": {},
   "source": [
    "- 최초에 chrom_store을 만들 때 data에 있는 pdf를 사용해서 생성할 때."
   ]
  },
  {
   "cell_type": "code",
   "execution_count": 33,
   "id": "40f077e7",
   "metadata": {},
   "outputs": [
    {
     "name": "stdout",
     "output_type": "stream",
     "text": [
      "Loading existing Chroma store...\n",
      "추가할 PDF 파일이 없습니다.\n"
     ]
    }
   ],
   "source": [
    "from langchain_chroma import Chroma\n",
    "import tiktoken\n",
    "import os\n",
    "import shutil\n",
    "import time\n",
    "\n",
    "persist_directory = './chroma_store' + '_' + splitter_name + '_' + MODEL.replace('.', '_')\n",
    "\n",
    "encoding = tiktoken.encoding_for_model(MODEL)\n",
    "\n",
    "TOKEN_LIMIT_PER_BATCH = 40000  # 적절한 토큰 제한\n",
    "\n",
    "def batch_save(vectorstore, splits):\n",
    "    current_batch = []\n",
    "    current_tokens = 0\n",
    "\n",
    "    for doc in splits: \n",
    "        tokens = len(encoding.encode(doc.page_content))\n",
    "        \n",
    "        if current_tokens + tokens > TOKEN_LIMIT_PER_BATCH:\n",
    "            try:\n",
    "                vectorstore.add_documents(current_batch)\n",
    "                print(f\"✅ {len(current_batch)}개 문서 배치 저장 완료\")\n",
    "            except Exception as e:\n",
    "                print(f\"❌ 배치 저장 중 오류 발생: {e}\")\n",
    "            current_batch = [doc]\n",
    "            current_tokens = tokens\n",
    "        else:\n",
    "            current_batch.append(doc)\n",
    "            current_tokens += tokens\n",
    "\n",
    "    # 마지막 배치 처리\n",
    "    if current_batch:\n",
    "        vectorstore.add_documents(current_batch)\n",
    "        print(f\"✅ 마지막 배치 {len(current_batch)}개 문서 저장 완료\")\n",
    "    \n",
    "    return vectorstore\n",
    "\n",
    "\n",
    "if not os.path.exists(persist_directory):\n",
    "    print(f\"Creating new Chroma store at {persist_directory}...\")    \n",
    "    vectorstore = Chroma(\n",
    "        embedding_function=embedding,\n",
    "        persist_directory=persist_directory\n",
    "    )\n",
    "    vectorstore = batch_save(vectorstore, all_splits)\n",
    "else :\n",
    "    # 이미 존재하는 Chroma store를 불러오기\n",
    "    print(\"Loading existing Chroma store...\")\n",
    "    vectorstore = Chroma(\n",
    "        embedding_function=embedding,\n",
    "        persist_directory=persist_directory\n",
    "    )\n",
    "    # 만약 새로 추가할 PDF 파일이 있다면 데이터 추출 및 저장후, extra_data 폴더에서 data 폴더로 이동\n",
    "    src_folder = 'extra_data'\n",
    "    dst_folder = 'data'\n",
    "\n",
    "    current_dir = os.getcwd() # 현재 폴더 경로\n",
    "    folder_path = os.path.join(current_dir, src_folder) # extra_data 폴더 경로 설정\n",
    "    pdf_files = glob.glob(os.path.join(folder_path, \"*.pdf\")) # PDF 파일 목록 가져오기\n",
    "\n",
    "    extra_splits = []\n",
    "    if not pdf_files:\n",
    "        print(\"추가할 PDF 파일이 없습니다.\")\n",
    "    else:\n",
    "        print(f\"추가할 PDF 파일 개수: {len(pdf_files)}\")\n",
    "        for pdf_file in pdf_files:\n",
    "            print(f\"Processing {pdf_file}...\")\n",
    "            extra_splits.extend(extract_documents_from_pdf(pdf_file))\n",
    "            time.sleep(1)\n",
    "\n",
    "        vectorstore = batch_save(vectorstore, extra_splits)\n",
    "\n",
    "        # extra_data 폴더의 모든 파일 중 .pdf만 이동\n",
    "        for filename in os.listdir(src_folder):\n",
    "            if filename.lower().endswith('.pdf'):\n",
    "                src_path = os.path.join(src_folder, filename)\n",
    "                dst_path = os.path.join(dst_folder, filename)\n",
    "                if os.path.isfile(src_path):\n",
    "                    shutil.move(src_path, dst_path)"
   ]
  },
  {
   "cell_type": "markdown",
   "id": "93d5f822",
   "metadata": {},
   "source": [
    "## LLM 설정 후 질문 및 답변"
   ]
  },
  {
   "cell_type": "code",
   "execution_count": 23,
   "id": "571fe2ce",
   "metadata": {},
   "outputs": [],
   "source": [
    "from langchain_core.prompts import ChatPromptTemplate, MessagesPlaceholder\n",
    "from langchain.chains.combine_documents import create_stuff_documents_chain\n",
    "from langchain_openai import ChatOpenAI\n",
    "from openai import OpenAI\n",
    "\n",
    "if LLM_MODEL == \"gpt-4o-mini\":\n",
    "    chat = ChatOpenAI(model=LLM_MODEL)\n",
    "# elif LLM_MODEL == \"gpt-oss-120b\":\n",
    "#     HF_API_KEY = os.getenv(\"HF_API_KEY\")\n",
    "#     chat = ChatOpenAI(\n",
    "#         base_url=\"https://router.huggingface.co/v1\",\n",
    "#         api_key=HF_API_KEY,\n",
    "#         model = LLM_MODEL\n",
    "#     )\n",
    "\n",
    "question_answering_promt = ChatPromptTemplate.from_messages(\n",
    "    [\n",
    "        (\n",
    "            \"system\",\n",
    "            \"You are an assistant for question-answering tasks. Use the following pieces of retrieved context to answer the question. If you don't know the answer, just say that you don't know. Please write your answer in a markdown table format with the main points. Be sure to include all your source and page numbers like (3 ~ 10) in your answer. If you have over one source, you should include all of them. Answer in Korean. \\n#Example Format: \\n(brief summary of the answer) \\n (table) \\n  (detailed answer to the question) \\n**출처** \\n- (file source) (page source and page number) (Please write the quoted text within 20 characters and follow it with ... )\\n #Context: {context}\",\n",
    "        ),\n",
    "        MessagesPlaceholder(variable_name=\"messages\"),\n",
    "    ]\n",
    ")\n",
    "\n",
    "document_chain = create_stuff_documents_chain(chat, question_answering_promt)"
   ]
  },
  {
   "cell_type": "markdown",
   "id": "3ef843e4",
   "metadata": {},
   "source": [
    "- meta data에 있는 정보는 llm이 알 수 없으므로 출처 filename을 포함시켜서 새로운 Document 타입을 생성"
   ]
  },
  {
   "cell_type": "code",
   "execution_count": 24,
   "id": "43f07455",
   "metadata": {},
   "outputs": [],
   "source": [
    "import os\n",
    "from langchain.schema import Document\n",
    "\n",
    "# Document type인 docs가 context로 넘겨졌을 때 llm은 content에 있는 정보 기반으로 답을 한다.\n",
    "# 따라서 meta data에 있는 정보는 llm이 알 수 없으므로 출처 filename을 포함시켜서 새로운 Document 타입을 생성한다.\n",
    "def format_docs_with_source_as_documents(docs):\n",
    "    new_docs = []\n",
    "    for d in docs:\n",
    "        filename = os.path.basename(d.metadata.get(\"source\", \"\"))\n",
    "        # 기존 page_content 뒤에 출처 붙이기\n",
    "        new_content = f\"{d.page_content}\\n출처: {filename}\"\n",
    "\n",
    "        # 새 리스트 생성 (metadata 유지)\n",
    "        new_docs.append(\n",
    "            Document(page_content=new_content, metadata=d.metadata)\n",
    "        )\n",
    "    return new_docs\n",
    "\n"
   ]
  },
  {
   "cell_type": "markdown",
   "id": "fc69b8f1",
   "metadata": {},
   "source": [
    "### 질문 입력 및 답변 생성"
   ]
  },
  {
   "cell_type": "code",
   "execution_count": 25,
   "id": "59c6572d",
   "metadata": {},
   "outputs": [],
   "source": [
    "retriever = vectorstore.as_retriever(k=3)\n",
    "question = \"우리 부부의 연소득은 총 합 6800만원이야. 받을 수 있는 대출은 뭐가 있을까?\"\n",
    "docs = retriever.invoke(question)\n",
    "# print(type(docs))\n",
    "# print(docs)\n",
    "formatted_context = format_docs_with_source_as_documents(docs)\n",
    "\n",
    "# for d in formatted_context:\n",
    "#     # print(d.metadata)\n",
    "#     print(d)\n",
    "#     print(\"-\" * 40)\n",
    "# for d in docs:\n",
    "#     print(d.metadata)\n",
    "#     print(d.page_content)\n",
    "#     print(\"-\" * 40)\n"
   ]
  },
  {
   "cell_type": "markdown",
   "id": "5e48fe9b",
   "metadata": {},
   "source": [
    "- openai/gpt-oss-120b 모델 사용"
   ]
  },
  {
   "cell_type": "code",
   "execution_count": null,
   "id": "900689de",
   "metadata": {},
   "outputs": [
    {
     "name": "stdout",
     "output_type": "stream",
     "text": [
      "질문: 우리 부부의 연소득은 총 합 6800만원이야. 받을 수 있는 대출은 뭐가 있을까?\n",
      "답변:\n",
      "----------------------------------------\n",
      "**요약**  \n",
      "연소득 6,800만원(5% 차감 후 6,460만원)은 첫‑주택구입자라면 `소득추정 70 백만원` 한도 이내이므로 디딤돌대출 신청 가능. 담보주택당 대출한도 2 억원(첫‑주택 2.4 억원) 내에서 10‑30 년 만기, 거치 1 년(또는 비거치) 조건으로 선택할 수 있다. 다만, 소득 60 백만원 초과(첫‑주택 70 백만원 초과) 경우는 취급 불가이니, 첫‑주택 여부를 확인해야 한다.  \n",
      "\n",
      "| 구분 | 주요 내용 | 비고 |\n",
      "|------|-----------|------|\n",
      "| **소득조건** | 5% 차감 후 추정소득 ≤ 5천만원(일반) / ≤ 70백만원(생애최초 주택구입자) | (page 24) |\n",
      "| **대출한도** | 담보주택당 2 억원 (생애최초 2.4 억원, 신혼·다자녀·2자녀 3.2 억원) | (page 13) |\n",
      "| **만기·거치** | 10·15·20·30 년, 거치 1 년 또는 비거치 | (page 13) |\n",
      "| **상환방식** | 원리금 균등·원금 균등·체증식(40세 미만 고정금리) | (page 13) |\n",
      "| **유의사항** | 첫‑주택이 아닌 경우 소득 60백만원 초과 시 취급 불가 | (page 24) |\n",
      "\n",
      "**출처**  \n",
      "- 디딤돌대출_업무처리기준.pdf (P 24) “5% 차감…70백만원…취급 불가”  \n",
      "- 디딤돌대출_업무처리기준.pdf (P 13) “담보주택 당 한도…대출만기·거치·상환방식”  \n",
      "\n",
      "청킹 방법 recursive\n",
      "임베딩 모델 text-embedding-3-large\n",
      "LLM 모델 openai/gpt-oss-120b\n"
     ]
    }
   ],
   "source": [
    "\n",
    "from openai import OpenAI\n",
    "from langchain_openai import ChatOpenAI\n",
    "\n",
    "load_dotenv()\n",
    "HF_API_KEY = os.getenv(\"HF_API_KEY\")\n",
    "client = OpenAI(\n",
    "    base_url=\"https://router.huggingface.co/v1\",\n",
    "    api_key=HF_API_KEY\n",
    ")\n",
    "# print(formatted_context)\n",
    "summary_completion = client.chat.completions.create(\n",
    "    model=\"openai/gpt-oss-120b\",\n",
    "    messages=[{\n",
    "        \"role\": \"user\", \n",
    "        \"content\": f\"You are an assistant for question-answering tasks. Use the following pieces of retrieved context to answer the question. If you don't know the answer, just say that you don't know. you should user performed_context. If the 'perforemd_context' is null, you just say 'it is empyt'. Please keep the answer under 100 characters. Please write your answer in a markdown table format with the main points. Be sure to include all your source and page numbers like (3 ~ 10) in your answer. If you have over one source, you should include all of them. Answer in Korean. \\n#Example Format: \\n(brief summary of the answer) \\n (table) \\n  (detailed answer to the question) \\n**출처** \\n- (file source) (page source and page number) (Please write the quoted text within 20 characters and follow it with ... )\\n #Context: {formatted_context}. The question is : 우리 부부의 연소득은 총 합 6800만원이야. 받을 수 있는 대출은 뭐가 있을까?\"\n",
    "        }],\n",
    ")\n",
    "print(\"질문:\", question)\n",
    "print(\"답변:\")\n",
    "print(\"-\" * 40)\n",
    "print(summary_completion.choices[0].message.content)\n",
    "\n",
    "print(\"\\n청킹 방법\", splitter_name)\n",
    "print(\"임베딩 모델\", MODEL)\n",
    "print(\"LLM 모델\", \"openai/gpt-oss-120b\")\n"
   ]
  },
  {
   "cell_type": "code",
   "execution_count": 35,
   "id": "69df40c4",
   "metadata": {},
   "outputs": [
    {
     "name": "stdout",
     "output_type": "stream",
     "text": [
      "질문: 우리 부부의 연소득은 총 합 6800만원이야. 받을 수 있는 대출은 뭐가 있을까?\n",
      "답변:\n",
      "----------------------------------------\n",
      "대출 가능성을 요약하면 다음과 같습니다. \n",
      "\n",
      "| 주요 내용               | 세부 사항                                     |\n",
      "|----------------------|--------------------------------------------|\n",
      "| 연소득               | 6800만원                                    |\n",
      "| 대출한도 — 일반      | 2억원 이내                                   |\n",
      "| 대출한도 — 생애최초  | 2.4억원                                     |\n",
      "| 대출한도 — 신혼·다자녀 | 3.2억원                                     |\n",
      "| 소득 추정 기준       | 5천만원 초과 시 대출 취급 불가             |\n",
      "\n",
      "부부의 연소득이 총 6800만원인 경우, 대출이 가능한 범위는 다음과 같습니다. 일반적인 대출한도는 주택당 최대 2억원이며, 생애 최초 주택 구입자나 신혼·다자녀 가구의 경우 2.4억원 또는 3.2억원까지 대출이 가능합니다. 하지만 소득이 5천만원을 초과하므로 추가 대출 취급은 불가할 수 있습니다. \n",
      "\n",
      "**출처** \n",
      "- 디딤돌대출_업무처리기준.pdf (22페이지) \"소득추정 금액이 60백만원 초과 시 ...\" \n",
      "\n",
      "청킹 방법 recursive\n",
      "임베딩 모델 text-embedding-3-large\n",
      "LLM 모델 gpt-4o-mini\n"
     ]
    }
   ],
   "source": [
    "from langchain.memory import ChatMessageHistory\n",
    "\n",
    "chat_history = ChatMessageHistory()\n",
    "\n",
    "chat_history.add_user_message(question)\n",
    "\n",
    "answer = document_chain.invoke(\n",
    "    {\n",
    "        \"messages\": chat_history.messages,\n",
    "        \"context\": formatted_context,\n",
    "    }\n",
    ")\n",
    "\n",
    "chat_history.add_ai_message(answer)\n",
    "print(\"질문:\", question)\n",
    "print(\"답변:\")\n",
    "print(\"-\" * 40)\n",
    "print(answer)\n",
    "\n",
    "print(\"\\n청킹 방법\", splitter_name)\n",
    "print(\"임베딩 모델\", MODEL)\n",
    "print(\"LLM 모델\", LLM_MODEL)"
   ]
  },
  {
   "cell_type": "markdown",
   "id": "58ad6218",
   "metadata": {},
   "source": [
    "### context 사용 없이 질문을 받았을 경우"
   ]
  },
  {
   "cell_type": "code",
   "execution_count": 44,
   "id": "30e9039a",
   "metadata": {},
   "outputs": [
    {
     "name": "stdout",
     "output_type": "stream",
     "text": [
      "질문: 우리 부부의 연소득은 총 합 6800만원이야. 받을 수 있는 대출은 뭐가 있을까?\n",
      "답변:\n",
      "----------------------------------------\n",
      "**핵심 요약**  \n",
      "연소득 6,800만원이면 주택·전세·신용·보증대출 등 4가지 유형을 주로 고려할 수 있습니다.  \n",
      "\n",
      "| 대출 유형 | 한도(예시) | 금리(연) | 주요 조건 |\n",
      "|---|---|---|---|\n",
      "| 주택담보대출 | 연소득 × 5~7배 | 3.1%~4.5% | 소득·신용·부동산 담보 |\n",
      "| 전세자금대출 | 연소득 × 4배 | 2.8%~4.0% | 전세보증금·소득·신용 |\n",
      "| 정책보증대출(주택도시보증) | 연소득 × 6배 | 2.5%~3.5% | 보증기관·소득·신용 |\n",
      "| 신용대출(소액) | 연소득 × 2배 | 4.0%~7.0% | 신용점수·소득 |\n",
      "\n",
      "**세부 안내**  \n",
      "- **주택담보**는 가장 높은 한도와 낮은 금리를 제공하지만 부동산 소유가 전제됩니다.  \n",
      "- **전세자금 대출**은 전세보증금을 담보로 하며, 초기 자금이 부족할 때 활용합니다.  \n",
      "- **보증대출**은 주택도시보증공사(HUG) 등이 보증해 주어 신용보강이 되며, 소득·주거 안정성에 따라 한도가 결정됩니다.  \n",
      "- **신용대출**은 담보가 없고 신용점수에 따라 금리가 다소 높으니, 급한 자금이 필요할 때 보조적으로 이용합니다.  \n",
      "\n",
      "**출처**  \n",
      "- 금융감독원, “가계대출 한도·금리 안내”, 2023년, https://www.fss.or.kr/... (인용: “연소득 × …”)  \n",
      "- 주택도시보증공사, “보증대출 상품개요”, 2024, https://www.hug.or.kr/... (인용: “보증·연소득 × 6…”)  \n",
      "- 한국은행, “주택·전세자금 대출 현황”, 2023, https://www.bok.or.kr/... (인용: “전세자금 연소득 × 4…”)  \n",
      "\n",
      "청킹 방법 context 사용 없음\n",
      "임베딩 모델 context 사용 없음\n",
      "LLM 모델 openai/gpt-oss-120b\n"
     ]
    }
   ],
   "source": [
    "\n",
    "from openai import OpenAI\n",
    "from langchain_openai import ChatOpenAI\n",
    "\n",
    "load_dotenv()\n",
    "HF_API_KEY = os.getenv(\"HF_API_KEY\")\n",
    "client = OpenAI(\n",
    "    base_url=\"https://router.huggingface.co/v1\",\n",
    "    api_key=HF_API_KEY\n",
    ")\n",
    "# print(formatted_context)\n",
    "summary_completion = client.chat.completions.create(\n",
    "    model=\"openai/gpt-oss-120b\",\n",
    "    messages=[{\n",
    "        \"role\": \"user\", \n",
    "        \"content\": f\"You are an assistant for question-answering tasks. Please keep the answer under 500 characters. Please write your answer in a markdown table format with the main points.  Answer in Korean. \\n#Example Format: \\n(brief summary of the answer) \\n (table) \\n  (detailed answer to the question) \\n**출처** \\n- (file source) (page source and page number and correct full url) (Please write the quoted text within 20 characters and follow it with ... )\\n The question is : 우리 부부의 연소득은 총 합 6800만원이야. 받을 수 있는 대출은 뭐가 있을까?\"\n",
    "        }],\n",
    ")\n",
    "print(\"질문:\", question)\n",
    "print(\"답변:\")\n",
    "print(\"-\" * 40)\n",
    "print(summary_completion.choices[0].message.content)\n",
    "\n",
    "print(\"\\n청킹 방법\", \"context 사용 없음\")\n",
    "print(\"임베딩 모델\", \"context 사용 없음\")\n",
    "print(\"LLM 모델\", \"openai/gpt-oss-120b\")"
   ]
  },
  {
   "cell_type": "markdown",
   "id": "1c3b1b86",
   "metadata": {},
   "source": [
    "## 질의 확장 구현\n",
    "- 챗본으로 만들 경우 첫번째 질문을 이어 받아서 두번째 질문도 답변을 해야하니 질의 확장에 대한 기능이다. (필수 x)"
   ]
  },
  {
   "cell_type": "code",
   "execution_count": 37,
   "id": "565825aa",
   "metadata": {},
   "outputs": [
    {
     "name": "stdout",
     "output_type": "stream",
     "text": [
      "부부의 연소득이 3000만원일 때 받을 수 있는 대출은 무엇인가요?\n"
     ]
    }
   ],
   "source": [
    "from langchain_core.output_parsers import StrOutputParser\n",
    "\n",
    "query_for_other = \"3천만원 일때는?\"\n",
    "\n",
    "query_augmentation_prompt = ChatPromptTemplate.from_messages(\n",
    "    [\n",
    "        MessagesPlaceholder(variable_name=\"messages\"),\n",
    "        (\n",
    "            \"system\",\n",
    "            \"기존의 대화 내용을 활용하여 사용자가 질문한 의도를 파악해서 한 문장의 명료한 질문으로 변환하라. 대명사나 이, 저, 그와 같은 표현을 명확한 명사로 표현하라. : \\n\\n{query}\",\n",
    "        ),\n",
    "    ]\n",
    ")\n",
    "query_augmentation_chain = query_augmentation_prompt | chat | StrOutputParser()\n",
    "\n",
    "augmented_query = query_augmentation_chain.invoke(\n",
    "    {\n",
    "        \"messages\": chat_history.messages,\n",
    "        \"query\": query_for_other,\n",
    "    }\n",
    ")\n",
    "\n",
    "print(augmented_query)"
   ]
  },
  {
   "cell_type": "code",
   "execution_count": 40,
   "id": "2076f592",
   "metadata": {},
   "outputs": [
    {
     "name": "stdout",
     "output_type": "stream",
     "text": [
      "질문: 3천만원 일때는?\n",
      "답변:\n",
      "----------------------------------------\n",
      "연소득이 3000만원일 때의 대출 가능성은 다음과 같이 요약할 수 있습니다.\n",
      "\n",
      "| 주요 내용               | 세부 사항                                     |\n",
      "|----------------------|--------------------------------------------|\n",
      "| 연소득               | 3000만원                                    |\n",
      "| 대출한도 — 일반      | 2억원 이내                                   |\n",
      "| 대출한도 — 생애최초  | 2.4억원                                     |\n",
      "| 대출한도 — 신혼·다자녀 | 3.2억원                                     |\n",
      "| 소득 추정 기준       | 5천만원 이하 대출 취급 가능                 |\n",
      "\n",
      "부부의 연소득이 3000만원인 경우, 일반적인 대출한도는 최대 2억원입니다. 또한 생애 최초 주택 구입자나 신혼 및 다자녀 가구의 경우 각각 2.4억원과 3.2억원까지 대출 가능성이 있습니다. 소득이 5천만원 이하이므로 대출 신청이 가능하다는 점 또한 주요합니다.\n",
      "\n",
      "**출처**\n",
      "- 디딤돌대출_업무처리기준.pdf (22페이지) \"소득추정 금액이 60백만원 이하 ...\" \n",
      "\n",
      "청킹 방법 recursive\n",
      "임베딩 모델 text-embedding-3-large\n",
      "LLM 모델 gpt-4o-mini\n"
     ]
    }
   ],
   "source": [
    "docs_other = retriever.invoke(augmented_query)\n",
    "# print(type(docs))\n",
    "# print(docs)\n",
    "formatted_context_other = format_docs_with_source_as_documents(docs_other)\n",
    "\n",
    "chat_history.add_user_message(query_for_other)\n",
    "\n",
    "answer = document_chain.invoke(\n",
    "    {\n",
    "        \"messages\": chat_history.messages,\n",
    "        \"context\": formatted_context_other,\n",
    "    }\n",
    ")\n",
    "\n",
    "chat_history.add_ai_message(answer)\n",
    "\n",
    "print(\"질문:\", query_for_other)\n",
    "print(\"답변:\")\n",
    "print(\"-\" * 40)\n",
    "print(answer)\n",
    "\n",
    "print(\"\\n청킹 방법\", splitter_name)\n",
    "print(\"임베딩 모델\", MODEL)\n",
    "print(\"LLM 모델\", LLM_MODEL)"
   ]
  }
 ],
 "metadata": {
  "kernelspec": {
   "display_name": ".venv",
   "language": "python",
   "name": "python3"
  },
  "language_info": {
   "codemirror_mode": {
    "name": "ipython",
    "version": 3
   },
   "file_extension": ".py",
   "mimetype": "text/x-python",
   "name": "python",
   "nbconvert_exporter": "python",
   "pygments_lexer": "ipython3",
   "version": "3.13.3"
  }
 },
 "nbformat": 4,
 "nbformat_minor": 5
}
