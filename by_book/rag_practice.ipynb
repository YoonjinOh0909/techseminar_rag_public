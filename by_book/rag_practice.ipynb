{
 "cells": [
  {
   "cell_type": "markdown",
   "id": "5801b44f",
   "metadata": {},
   "source": [
    "## 기본 설정"
   ]
  },
  {
   "cell_type": "markdown",
   "id": "7be84dcc",
   "metadata": {},
   "source": [
    "### 환경변수 로드"
   ]
  },
  {
   "cell_type": "code",
   "execution_count": null,
   "id": "a8a10725",
   "metadata": {},
   "outputs": [],
   "source": [
    "# pip install dotenv\n",
    "import os\n",
    "from dotenv import load_dotenv\n",
    "\n",
    "load_dotenv()\n",
    "HF_API_KEY = os.getenv(\"HF_API_KEY\")\n",
    "LANGSMITH_API_KEY = os.getenv(\"LANGSMITH_API_KEY\")\n",
    "OPENAI_API_KEY = os.getenv(\"OPENAI_API_KEY\")\n"
   ]
  },
  {
   "cell_type": "markdown",
   "id": "b7793815",
   "metadata": {},
   "source": [
    "### Langchain 연결"
   ]
  },
  {
   "cell_type": "code",
   "execution_count": null,
   "id": "8a701f7f",
   "metadata": {},
   "outputs": [],
   "source": [
    "os.environ[\"LANGCHAIN_TRACING_V2\"] = \"true\"\n",
    "os.environ[\"LANGCHAIN_ENDPOINT\"] = \"https://api.smith.langchain.com\" # 이건 그대로\n",
    "os.environ[\"LANGCHAIN_API_KEY\"] = LANGSMITH_API_KEY # 이거 API키 받은거\n",
    "os.environ[\"LANGCHAIN_PROJECT\"] = \"lm-studio-rag-tracing\"  # 프로젝트 이름 설정(아무거나 해도됨)\n",
    "os.environ[\"OPENAI_API_KEY\"] = OPENAI_API_KEY"
   ]
  },
  {
   "cell_type": "markdown",
   "id": "6f84d850",
   "metadata": {},
   "source": [
    "### 기본 방법 선택하기"
   ]
  },
  {
   "cell_type": "code",
   "execution_count": null,
   "id": "33c88d4b",
   "metadata": {},
   "outputs": [],
   "source": [
    "# 청킹 방법\n",
    "splitter_name = \"semantic\" # recursive, semantic\n",
    "\n",
    "# LLM 모델\n",
    "LLM_MODEL = \"openai/gpt-oss-120b\" # gpt-4o-mini, openai/gpt-oss-120b\n",
    "\n",
    "# 벡터 DB\n",
    "VECTOR_DB = \"chroma_store\" # chroma_store, faiss_index\n",
    "\n",
    "# 임베딩 모델\n",
    "# EB_MODEL = \"text-embedding-3-large\" # text-embedding-3-large -> 아래 임베딩 모델 섹션에서 설정\n",
    "\n"
   ]
  },
  {
   "cell_type": "markdown",
   "id": "00a5b1e0",
   "metadata": {},
   "source": [
    "## 임베딩 모델 설정하기\n",
    "- 임베딩 셀 중 한가지 선택해서 사용."
   ]
  },
  {
   "cell_type": "markdown",
   "id": "7f3fe06d",
   "metadata": {},
   "source": [
    "### OpenAI Embeddings"
   ]
  },
  {
   "cell_type": "code",
   "execution_count": null,
   "id": "cbee21fe",
   "metadata": {},
   "outputs": [],
   "source": [
    "# OpenAI Embeddings : text-embedding-3-large\n",
    "# pip install langchain_openai\n",
    "from langchain_openai import OpenAIEmbeddings\n",
    "\n",
    "# 의미 기반으로 청킹을 하기 위해 OpenAI의 임베딩 모델을 사용\n",
    "OPENAI_API_KEY = os.getenv(\"OPENAI_API_KEY\")\n",
    "EB_MODEL = \"text-embedding-3-large\" # text-embedding-3-large\n",
    "embedding = OpenAIEmbeddings(model=EB_MODEL, api_key=OPENAI_API_KEY)"
   ]
  },
  {
   "cell_type": "markdown",
   "id": "0663e78c",
   "metadata": {},
   "source": [
    "### HuggingFaceEmbddings (local 저장)"
   ]
  },
  {
   "cell_type": "code",
   "execution_count": null,
   "id": "0c2af919",
   "metadata": {},
   "outputs": [],
   "source": [
    "# 로컬에 저장해서 사용하는거라 api key가 필요없음\n",
    "# HuggingFaceEmbeddings : sentence-transformers/stsb-xlm-r-multilingual\n",
    "\n",
    "# pip install langchain sentence-transformers langchain-community\n",
    "from langchain_community.embeddings import HuggingFaceEmbeddings\n",
    "\n",
    "# HuggingFace 임베딩 클래스 이용\n",
    "EB_MODEL = \"stsb-xlm-r-multilingual\" # stsb-xlm-r-multilingual\n",
    "embedding = HuggingFaceEmbeddings(model_name=EB_MODEL)\n",
    "\n",
    "# 단일 텍스트 임베딩 생성\n",
    "sample_text = \"금융권 문서 임베딩 예제\"\n",
    "embedding_vector = embedding.embed_query(sample_text)\n",
    "\n",
    "print(\"임베딩 벡터 길이:\", len(embedding_vector))\n",
    "print(\"임베딩 벡터 일부:\", embedding_vector[:5])\n"
   ]
  },
  {
   "cell_type": "markdown",
   "id": "491f0168",
   "metadata": {},
   "source": [
    "### Hugginface embeddings (multilinual-e5)"
   ]
  },
  {
   "cell_type": "code",
   "execution_count": null,
   "id": "a6257139",
   "metadata": {},
   "outputs": [],
   "source": [
    "# pip install langchain_huggingface\n",
    "from langchain_huggingface.embeddings import HuggingFaceEndpointEmbeddings\n",
    "\n",
    "EB_MODEL = \"intfloat/multilingual-e5-large-instruct\"  # multilingual-e5-large, multilingual-e5-large-instruct\n",
    "model_name = EB_MODEL\n",
    "\n",
    "HF_API_KEY = os.getenv(\"HF_API_KEY\")\n",
    "\n",
    "embedding = HuggingFaceEndpointEmbeddings(\n",
    "    model=model_name,\n",
    "    task=\"feature-extraction\",\n",
    "    huggingfacehub_api_token=HF_API_KEY,\n",
    ")\n",
    "\n",
    "# 단일 텍스트 임베딩 생성\n",
    "sample_text = \"금융권 문서 임베딩 예제\"\n",
    "embedding_vector = embedding.embed_query(sample_text)\n",
    "\n",
    "print(\"임베딩 벡터 길이:\", len(embedding_vector))\n",
    "print(\"임베딩 벡터 일부:\", embedding_vector[:5])"
   ]
  },
  {
   "cell_type": "markdown",
   "id": "49b91604",
   "metadata": {},
   "source": [
    "### Google Gemini Embeddings\n",
    "- *호환성 문제로 genai 는 사용하지 않도록 한다.*"
   ]
  },
  {
   "cell_type": "code",
   "execution_count": null,
   "id": "471043c8",
   "metadata": {},
   "outputs": [],
   "source": [
    "# # pip install genai google google.genai\n",
    "# from langchain.embeddings.base import Embeddings\n",
    "# from google import genai\n",
    "# from google.genai.types import EmbedContentConfig\n",
    "\n",
    "# api_key = os.getenv(\"GC_API_KEY\")\n",
    "\n",
    "# client = genai.Client(api_key=api_key)\n",
    "# EB_MODEL = \"gemini-embedding-001\"  # Google Cloud 임베딩 모델\n",
    "# def call_google_cloud_embedding_api(text):\n",
    "#     response = client.models.embed_content(\n",
    "#         model=EB_MODEL,\n",
    "#         contents=text,\n",
    "#         config=EmbedContentConfig(\n",
    "#             task_type=\"RETRIEVAL_DOCUMENT\",\n",
    "#             output_dimensionality=768\n",
    "#         )\n",
    "#     )\n",
    "#     return response.embeddings[0].values\n",
    "\n",
    "# class GoogleCloudEmbeddings(Embeddings):\n",
    "#     def embed_documents(self, texts):\n",
    "#         # Google Cloud 임베딩 API 호출 코드\n",
    "#         # texts 리스트를 임베딩 벡터 리스트로 반환\n",
    "#         embeddings = []\n",
    "#         for text in texts:\n",
    "#             embedding_vector = call_google_cloud_embedding_api(text)\n",
    "#             embeddings.append(embedding_vector)\n",
    "#         return embeddings\n",
    "\n",
    "#     def embed_query(self, text):\n",
    "#         return call_google_cloud_embedding_api(text)\n",
    "\n",
    "# # 생성\n",
    "# embedding = GoogleCloudEmbeddings()\n",
    "\n",
    "# sample_text = \"금융권 문서 임베딩 예제\"\n",
    "# embedding_vector = embedding.embed_query(sample_text)\n",
    "\n",
    "# print(\"임베딩 벡터 길이:\", len(embedding_vector))\n",
    "# print(\"임베딩 벡터 일부:\", embedding_vector[:5])\n"
   ]
  },
  {
   "cell_type": "markdown",
   "id": "88a09bcc",
   "metadata": {},
   "source": [
    "### KF-DeBERTa embedding 모델"
   ]
  },
  {
   "cell_type": "code",
   "execution_count": null,
   "id": "ef909454",
   "metadata": {},
   "outputs": [],
   "source": [
    "from langchain.embeddings.base import Embeddings\n",
    "from transformers import AutoTokenizer, AutoModel\n",
    "import torch\n",
    "\n",
    "EB_MODEL = \"kakaobank/kf-deberta-base\"  # KF-DeBERTa 모델 이름\n",
    "# KF-DeBERTa 임베딩 래퍼 정의\n",
    "class KFDeBERTaEmbeddings(Embeddings):\n",
    "    def __init__(self, model_name=EB_MODEL):\n",
    "        self.tokenizer = AutoTokenizer.from_pretrained(model_name)\n",
    "        self.model = AutoModel.from_pretrained(model_name)\n",
    "        self.device = \"cuda\" if torch.cuda.is_available() else \"cpu\"\n",
    "        self.model.to(self.device)\n",
    "\n",
    "    def embed_documents(self, texts):\n",
    "        return [self.embed_query(text) for text in texts]\n",
    "\n",
    "    def embed_query(self, text):\n",
    "        inputs = self.tokenizer(text, return_tensors=\"pt\", truncation=True, max_length=512, padding=True)\n",
    "        inputs = {k: v.to(self.device) for k, v in inputs.items()}\n",
    "        with torch.no_grad():\n",
    "            outputs = self.model(**inputs)\n",
    "            attention_mask = inputs[\"attention_mask\"]\n",
    "            token_embeddings = outputs.last_hidden_state\n",
    "            input_mask_expanded = attention_mask.unsqueeze(-1).expand(token_embeddings.size()).float()\n",
    "            embedding = torch.sum(token_embeddings * input_mask_expanded, 1) / torch.clamp(input_mask_expanded.sum(1), min=1e-9)\n",
    "        return embedding[0].cpu().numpy()\n",
    "\n",
    "# 생성\n",
    "embedding = KFDeBERTaEmbeddings()\n",
    "\n",
    "sample_text = \"금융권 문서 임베딩 예제\"\n",
    "embedding_vector = embedding.embed_query(sample_text)\n",
    "\n",
    "print(\"임베딩 벡터 길이:\", len(embedding_vector))\n",
    "print(\"임베딩 벡터 일부:\", embedding_vector[:5])"
   ]
  },
  {
   "cell_type": "markdown",
   "id": "4f97b62b",
   "metadata": {},
   "source": [
    "### bge-m3 Embedding model"
   ]
  },
  {
   "cell_type": "code",
   "execution_count": null,
   "id": "f065864c",
   "metadata": {},
   "outputs": [],
   "source": [
    "from langchain.embeddings import HuggingFaceEmbeddings\n",
    "from langchain.vectorstores import FAISS\n",
    "from langchain.text_splitter import RecursiveCharacterTextSplitter\n",
    "\n",
    "EB_MODEL = \"BAAI/bge-m3\"\n",
    "# 임베딩 모델 생성\n",
    "embedding = HuggingFaceEmbeddings(\n",
    "    model_name=EB_MODEL,\n",
    "    model_kwargs={\"device\": \"cpu\"},  # GPU 사용 시\n",
    "    encode_kwargs={\"normalize_embeddings\": True}\n",
    ")\n",
    "\n",
    "# sample_text = \"금융권 문서 임베딩 예제\"\n",
    "# embedding_vector = embedding.embed_query(sample_text)\n",
    "\n",
    "# print(\"임베딩 벡터 길이:\", len(embedding_vector))\n",
    "# print(\"임베딩 벡터 일부:\", embedding_vector[:5])"
   ]
  },
  {
   "cell_type": "markdown",
   "id": "c21b1441",
   "metadata": {},
   "source": [
    "## 청킹 방법 설정하기"
   ]
  },
  {
   "cell_type": "markdown",
   "id": "d93116c7",
   "metadata": {},
   "source": [
    "### splitter 설정"
   ]
  },
  {
   "cell_type": "code",
   "execution_count": null,
   "id": "5e0503fe",
   "metadata": {},
   "outputs": [],
   "source": [
    "# pip install langchain_experimental\n",
    "if splitter_name == \"recursive\" :\n",
    "    # recursive_character_text_splitter로 구분자 재귀 청킹 기법\n",
    "    from langchain_text_splitters import RecursiveCharacterTextSplitter\n",
    "\n",
    "    text_splitter = RecursiveCharacterTextSplitter(\n",
    "        chunk_size=1000,\n",
    "        chunk_overlap=100,\n",
    "        # separators=[\"\\n\\n\", \"\\n\", \".\", \"!\", \"?\", \" \", \"\"] # 이와 같이 separators를 지정할 수 있다.\n",
    "    )\n",
    "elif splitter_name == \"semantic\":\n",
    "    # pip install langchain_experimental\n",
    "    from langchain_experimental.text_splitter import SemanticChunker\n",
    "\n",
    "    text_splitter = SemanticChunker(embedding)\n",
    "\n",
    "print(text_splitter, \"\\nembedding: \", EB_MODEL, \"splitter_name: \", splitter_name)"
   ]
  },
  {
   "cell_type": "markdown",
   "id": "d9c63422",
   "metadata": {},
   "source": [
    "### Debug 함수"
   ]
  },
  {
   "cell_type": "code",
   "execution_count": null,
   "id": "78f42103",
   "metadata": {},
   "outputs": [],
   "source": [
    "def debug_chunkinfo_aftersplit(all_splits):\n",
    "    for i, split in enumerate(all_splits):\n",
    "        print(f\"Chunk {i+1}:\")\n",
    "        print(split.page_content)\n",
    "        print(\"-\" * 40)"
   ]
  },
  {
   "cell_type": "markdown",
   "id": "b17918d6",
   "metadata": {},
   "source": [
    "### 추출 하기"
   ]
  },
  {
   "cell_type": "markdown",
   "id": "e2b594f8",
   "metadata": {},
   "source": [
    "- pdf에서 추출"
   ]
  },
  {
   "cell_type": "code",
   "execution_count": null,
   "id": "1cf92787",
   "metadata": {},
   "outputs": [],
   "source": [
    "import os\n",
    "import glob\n",
    "from langchain_community.document_loaders import PyPDFLoader\n",
    "\n",
    "# PDF 파일을 읽어서 텍스트 데이터 추출 및 청킹\n",
    "def extract_documents_from_pdf(pdf_path):\n",
    "    # PDF 파일을 읽어서 텍스트 데이터 추출\n",
    "    loader = PyPDFLoader(pdf_path)\n",
    "    data_nyc = loader.load()\n",
    "\n",
    "    # 추출된 텍스트 데이터를 청킹\n",
    "    splits = text_splitter.split_documents(data_nyc)\n",
    "    # debug_chunkinfo_aftersplit(splits) \n",
    "\n",
    "    # recursive_character_text_splitter의 경우, 청크가 겹치는 부분이 없으면 연결하지 않음\n",
    "    # 따라서, 청크가 겹치는 부분이 없을 때는 직접 연결하여 오버랩을 만듦\n",
    "    # 만약 청크가 겹치는 부분이 있다면, 그 부분은 자동으로 연결됨\n",
    "    # 여기서는 청크가 겹치지 않는 경우에만 오버랩을 추가함\n",
    "\n",
    "    # 만약 첫 번째 청크의 끝과 두 번째 청크의 시작이 겹치지 않는다면,\n",
    "    if splitter_name == \"recursive\" and (len(splits) > 1) and (splits[0].page_content[-100:] == splits[1].page_content[:100]):\n",
    "        print(splits[0].page_content)\n",
    "        print(\"----\")\n",
    "        print(splits[1].page_content)\n",
    "        for i in range(len(splits) - 1):\n",
    "            splits[i].page_content += \"\\n\" + splits[i + 1].page_content[:50]\n",
    "\n",
    "    return splits\n"
   ]
  },
  {
   "cell_type": "markdown",
   "id": "a87940ce",
   "metadata": {},
   "source": [
    "## 텍스트를 벡터로 변환하기"
   ]
  },
  {
   "cell_type": "markdown",
   "id": "7c702f10",
   "metadata": {},
   "source": [
    "### 토큰 제한 실행 및 저장 함수 선언"
   ]
  },
  {
   "cell_type": "markdown",
   "id": "3ca0cc98",
   "metadata": {},
   "source": [
    "- 토큰 제한하며 실행 및 저장"
   ]
  },
  {
   "cell_type": "code",
   "execution_count": null,
   "id": "26ea0801",
   "metadata": {},
   "outputs": [],
   "source": [
    "# pip install pypdf\n",
    "import tiktoken\n",
    "import pypdf\n",
    "\n",
    "try:\n",
    "    encoding = tiktoken.encoding_for_model(EB_MODEL)\n",
    "except KeyError:\n",
    "    encoding = tiktoken.get_encoding(\"cl100k_base\") # 토크나이저를 직접 지정\n",
    "\n",
    "\n",
    "TOKEN_LIMIT_PER_BATCH = 39000  # 적절한 토큰 제한\n",
    "\n",
    "def batch_save(vectorstore, splits):\n",
    "    current_batch = []\n",
    "    current_tokens = 0\n",
    "\n",
    "    for doc in splits: \n",
    "        tokens = len(encoding.encode(doc.page_content))\n",
    "        \n",
    "        if current_tokens + tokens > TOKEN_LIMIT_PER_BATCH:\n",
    "            try:\n",
    "                vectorstore.add_documents(current_batch)\n",
    "                print(f\" {len(current_batch)}개 문서 배치 저장 완료\")\n",
    "            except Exception as e:\n",
    "                print(f\"배치 저장 중 오류 발생: {e}\")\n",
    "            current_batch = [doc]\n",
    "            current_tokens = tokens\n",
    "        else:\n",
    "            current_batch.append(doc)\n",
    "            current_tokens += tokens\n",
    "\n",
    "    # 마지막 배치 처리\n",
    "    if current_batch:\n",
    "        vectorstore.add_documents(current_batch)\n",
    "        print(f\"마지막 배치 {len(current_batch)}개 문서 저장 완료\")\n",
    "    \n",
    "    return vectorstore"
   ]
  },
  {
   "cell_type": "markdown",
   "id": "2049696b",
   "metadata": {},
   "source": [
    "### Vector DB 생성 혹은 불러오기 (Chroma, FAISS)"
   ]
  },
  {
   "cell_type": "code",
   "execution_count": null,
   "id": "1570fa61",
   "metadata": {},
   "outputs": [],
   "source": [
    "# pip install faiss-cpu\n",
    "import faiss\n",
    "from langchain.embeddings import HuggingFaceEmbeddings\n",
    "from langchain_community.vectorstores import FAISS\n",
    "from langchain.vectorstores import FAISS\n",
    "from langchain.docstore.in_memory import InMemoryDocstore\n",
    "from langchain_chroma import Chroma\n",
    "import shutil\n",
    "import time\n",
    "\n",
    "persist_directory = './dbstore/' + VECTOR_DB + '_' + splitter_name + '_' + EB_MODEL.replace('/', '_')\n",
    "\n",
    "if not os.path.exists(persist_directory):\n",
    "    print(f\"Creating new {VECTOR_DB} at {persist_directory}...\")    \n",
    "\n",
    "    # 만약 persist_directory가 존재하지 않는다면, 새로 생성. data에 있는 PDF 파일을 읽어서 청킹 후 저장\n",
    "    current_dir = os.getcwd() # 현재 폴더 경로\n",
    "    folder_path = os.path.join(current_dir, \"data\") # data 폴더 경로 설정\n",
    "    pdf_files = glob.glob(os.path.join(folder_path, \"*.pdf\")) # PDF 파일 목록 가져오기\n",
    "\n",
    "    all_splits = []\n",
    "    print(f\"현재 청킹 방법 : {splitter_name}\")\n",
    "    print(f\"현재 임베딩 모델 : {EB_MODEL}\")\n",
    "    print(f\"PDF 파일 개수: {len(pdf_files)}\")\n",
    "    for pdf_file in pdf_files:\n",
    "        pdf_path = pdf_file\n",
    "        # temp_docs, merged_path = extract_documents_from_pdf(pdf_file)\n",
    "        print(f\"Processing {pdf_path}...\")\n",
    "        all_splits.extend(extract_documents_from_pdf(pdf_file))\n",
    "        time.sleep(2)  # PDF 파일 처리 간에 잠시 대기\n",
    "\n",
    "    print(f\"전체 청크 개수: {len(all_splits)}\")\n",
    "\n",
    "    if VECTOR_DB == \"chroma_store\":\n",
    "        vectorstore = Chroma(\n",
    "            embedding_function=embedding,\n",
    "            persist_directory=persist_directory\n",
    "        )\n",
    "        vectorstore = batch_save(vectorstore, all_splits)\n",
    "    elif VECTOR_DB == \"faiss_index\":\n",
    "    \n",
    "        embedding_dim = len(embedding.embed_query(\"test\"))\n",
    "        index = faiss.IndexFlatIP(embedding_dim)\n",
    "\n",
    "        vectorstore = FAISS(\n",
    "            embedding_function=embedding.embed_query,\n",
    "            index=index,\n",
    "            docstore=InMemoryDocstore(),\n",
    "            index_to_docstore_id={}\n",
    "        )\n",
    "        vectorstore = batch_save(vectorstore, all_splits)\n",
    "        vectorstore.save_local(persist_directory)\n",
    "else :\n",
    "    # 이미 존재하는 Chroma store를 불러오기\n",
    "    print(f\"Loading existing {VECTOR_DB}...\")\n",
    "    if VECTOR_DB == \"faiss_index\":\n",
    "        vectorstore = FAISS.load_local(persist_directory, embedding, allow_dangerous_deserialization=True)\n",
    "    elif VECTOR_DB == \"chroma_store\":\n",
    "        vectorstore = Chroma(\n",
    "            embedding_function=embedding,\n",
    "            persist_directory=persist_directory\n",
    "        )\n",
    "\n",
    "    # 만약 새로 추가할 PDF 파일이 있다면 데이터 추출 및 저장후, extra_data 폴더에서 data 폴더로 이동\n",
    "    src_folder = 'extra_data'\n",
    "    dst_folder = 'data'\n",
    "\n",
    "    current_dir = os.getcwd() # 현재 폴더 경로\n",
    "    folder_path = os.path.join(current_dir, src_folder) # extra_data 폴더 경로 설정\n",
    "    pdf_files = glob.glob(os.path.join(folder_path, \"*.pdf\")) # PDF 파일 목록 가져오기\n",
    "\n",
    "    extra_splits = []\n",
    "    if not pdf_files:\n",
    "        print(\"추가할 PDF 파일이 없습니다.\")\n",
    "    else:\n",
    "        print(f\"추가할 PDF 파일 개수: {len(pdf_files)}\")\n",
    "        for pdf_file in pdf_files:\n",
    "            print(f\"Processing {pdf_file}...\")\n",
    "            extra_splits.extend(extract_documents_from_pdf(pdf_file))\n",
    "            time.sleep(1)\n",
    "\n",
    "        vectorstore = batch_save(vectorstore, extra_splits)\n",
    "        if VECTOR_DB == \"faiss_index\":\n",
    "            vectorstore.save_local(persist_directory)\n",
    "        # extra_data 폴더의 모든 파일 중 .pdf만 이동\n",
    "        for filename in os.listdir(src_folder):\n",
    "            if filename.lower().endswith('.pdf'):\n",
    "                src_path = os.path.join(src_folder, filename)\n",
    "                dst_path = os.path.join(dst_folder, filename)\n",
    "                if os.path.isfile(src_path):\n",
    "                    shutil.move(src_path, dst_path)\n",
    "\n",
    "# semantic text-embedding-3-large chroma 12m 23.7s 청크 개수 342\n",
    "# semantic stsb-xlm-r-multilingual chroma 2m 38.5s 청크 개수 342\n",
    "# semantic intfloat/multilingual-e5-large-instruct chroma 6m 29.6s 청크 개수 342\n",
    "# semantic kakaobank/kf-deberta-base chroma 9m 53.6s 청크 개수 342\n",
    "# semantic BAAI/bge-m3 chroma 31m 48.9s 청크 개수 342\n",
    "\n",
    "\n",
    "\n",
    "# semantic text-embedding-3-large faiss_index 12m 21.9s 청크 개수 342\n",
    "# semantic stsb-xlm-r-multilingual faiss_index 3m 35.2s 청크 개수 342\n",
    "# semantic intfloat/multilingual-e5-large-instruct faiss_index 7m 54.1s 청크 개수 342\n",
    "# semantic kakaobank/kf-deberta-base faiss_index 9m 53.4s 청크 개수 342\n",
    "# semantic BAAI/bge-m3 faiss_index 25m 3.8s 청크 개수 342"
   ]
  },
  {
   "cell_type": "markdown",
   "id": "c4e34f03",
   "metadata": {},
   "source": [
    "- split 내용 확인"
   ]
  },
  {
   "cell_type": "code",
   "execution_count": null,
   "id": "18636d73",
   "metadata": {},
   "outputs": [],
   "source": [
    "print(extra_splits)\n",
    "\n",
    "for i, split in enumerate(extra_splits):\n",
    "    print(f\"Split {i}: len : {len(split.page_content)} \\n{split.page_content} \")\n",
    "    print(\"\\n\")"
   ]
  },
  {
   "cell_type": "markdown",
   "id": "a278b4d7",
   "metadata": {},
   "source": [
    "## Vector DB에 들어있는 청킹 확인하기"
   ]
  },
  {
   "cell_type": "code",
   "execution_count": null,
   "id": "0e02203b",
   "metadata": {},
   "outputs": [],
   "source": [
    "chunking_data = vectorstore.get()\n",
    "print(\"청킹 방법 : \", splitter_name)\n",
    "print(\"임베딩 모델 : \", EB_MODEL)\n",
    "print(\"벡터 DB : \", VECTOR_DB)\n",
    "for i, chunk in enumerate(chunking_data[\"documents\"]):\n",
    "    print(f\"-----Result index {i}-----\")\n",
    "    print(\"Chunk:\", chunk)\n",
    "\n"
   ]
  },
  {
   "cell_type": "markdown",
   "id": "93d5f822",
   "metadata": {},
   "source": [
    "## LLM 설정 후 질문 및 답변"
   ]
  },
  {
   "cell_type": "markdown",
   "id": "550c8606",
   "metadata": {},
   "source": [
    "### gpt-4o-mini 로 설정"
   ]
  },
  {
   "cell_type": "code",
   "execution_count": null,
   "id": "f9c7cb40",
   "metadata": {},
   "outputs": [],
   "source": [
    "LLM_MODEL = \"gpt-4o-mini\"\n",
    "print(LLM_MODEL, \"모델로 설정됨\")"
   ]
  },
  {
   "cell_type": "markdown",
   "id": "6e6ef3db",
   "metadata": {},
   "source": [
    "### gpt-oss-120b 로 설정"
   ]
  },
  {
   "cell_type": "code",
   "execution_count": null,
   "id": "c1edbd3f",
   "metadata": {},
   "outputs": [],
   "source": [
    "LLM_MODEL = \"gpt-oss-120b\"\n",
    "print(LLM_MODEL, \"모델로 설정됨\")"
   ]
  },
  {
   "cell_type": "markdown",
   "id": "f49b691b",
   "metadata": {},
   "source": [
    "### 설정된 모델로 응답 프롬프트 설정"
   ]
  },
  {
   "cell_type": "code",
   "execution_count": null,
   "id": "571fe2ce",
   "metadata": {},
   "outputs": [],
   "source": [
    "from langchain_core.prompts import ChatPromptTemplate, MessagesPlaceholder\n",
    "from langchain.chains.combine_documents import create_stuff_documents_chain\n",
    "from langchain_openai import ChatOpenAI\n",
    "# from langchain_openai import ChatOpenAI # 라고 했을 때는 module 'openai' has no attribute 'DefaultHttpxClient' 오류가\n",
    "from openai import OpenAI\n",
    "\n",
    "if LLM_MODEL == \"gpt-4o-mini\":\n",
    "    chat = ChatOpenAI(model=LLM_MODEL)\n",
    "elif LLM_MODEL == \"gpt-oss-120b\":\n",
    "    HF_API_KEY = os.getenv(\"HF_API_KEY\")\n",
    "    chat = ChatOpenAI(\n",
    "        model=\"openai/gpt-oss-120b\",  # Hugging Face Router의 모델\n",
    "        openai_api_key=HF_API_KEY,\n",
    "        openai_api_base=\"https://router.huggingface.co/v1\"  # base_url 대신 사용\n",
    "    )\n",
    "\n",
    "question_answering_promt = ChatPromptTemplate.from_messages(\n",
    "    [\n",
    "        (\n",
    "            \"system\",\n",
    "            # \"You are an assistant for question-answering tasks. Use the following pieces of retrieved context to answer the question. If you don't know the answer, just say that you don't know. you should user performed_context. You should consider all of special situation and general situation. If the 'perforemd_context' is null, you just say 'it is empyt'. Please write your answer in a markdown table format with the main points. Be sure to include all your source and page numbers like (3 ~ 10) in your answer. If you have over one source, you should include all of them. Answer in Korean. Also please write the keywords on user question that you think. \\n#Example Format: \\n(brief summary of the answer) \\n (table) \\n  (detailed answer to the question) \\n**출처** \\n- (file source) (page source and page number) (Please write the quoted text within 20 characters and follow it with ... )\\n\\n 키워드 : (keywords)\\n #Context: {context}\",\n",
    "            \"당신은 사용자를 위한 전문 대출 상담 챗봇입니다. \"\n",
    "            \"당신의 역할은 일반 신용대출 및 부동산 관련 대출에 대해 정확하고 도움이 되는 상담을 제공하는 것입니다. \"\n",
    "            \"사용자의 질문에 대해 반드시 벡터 데이터베이스에서 검색된 retrieved context(RAG) 기반으로만 답변해야 하며, \"\n",
    "            \"retrieved context에 없는 정보를 추론하거나 임의로 만들어내지 마십시오. \"\n",
    "            \"다음 규칙을 반드시 따르십시오:\\n\"\n",
    "            \"1. 답변은 retrieved context에 포함된 정보에 기반하여 작성합니다.\\n\"\n",
    "            \"2. retrieved context에 관련 정보가 없을 경우, \\\"해당 내용은 문서에 존재하지 않으므로 전문 상담사에게 연결해 드리겠습니다.\\\" 라고 답변합니다.\\n\"\n",
    "            \"3. 답변 작성 시 일반적인 상황뿐만 아니라 발생할 수 있는 특수 상황도 함께 고려하여 설명합니다.\\n\"\n",
    "            \"4. 답변은 다음 Markdown 표 형식으로 작성합니다:\\n\"\n",
    "            \"5. 답변할 수 있는 종류가 많다면 최대 5개까지 설명합니다.\\n\"\n",
    "            \"(간단 요약)\\n\"\n",
    "            \"(표)\\n\"\n",
    "            \"(질문에 대한 상세한 설명)\\n\"\n",
    "            \"**출처**\\n\"\n",
    "            \"- (문서명) (페이지 범위) “(20자 이하 인용문)…\\\"\\n\"\n",
    "            \"5. 마지막 줄에는 사용자 질문에서 핵심이 되는 키워드를 다음 형식으로 작성합니다: \"\n",
    "            \"키워드 : (keyword1, keyword2, ...)\\n\"\n",
    "            \"#Context: {context}\"\n",
    "        ),\n",
    "        MessagesPlaceholder(variable_name=\"messages\"),\n",
    "    ]\n",
    ")\n",
    "\n",
    "document_chain = create_stuff_documents_chain(chat, question_answering_promt)"
   ]
  },
  {
   "cell_type": "markdown",
   "id": "3ef843e4",
   "metadata": {},
   "source": [
    "- meta data에 있는 정보는 llm이 알 수 없으므로 출처 filename을 포함시켜서 새로운 Document 타입을 생성"
   ]
  },
  {
   "cell_type": "code",
   "execution_count": null,
   "id": "43f07455",
   "metadata": {},
   "outputs": [],
   "source": [
    "import os\n",
    "from langchain.schema import Document\n",
    "\n",
    "# Document type인 docs가 context로 넘겨졌을 때 llm은 content에 있는 정보 기반으로 답을 한다.\n",
    "# 따라서 meta data에 있는 정보는 llm이 알 수 없으므로 출처 filename을 포함시켜서 새로운 Document 타입을 생성한다.\n",
    "def format_docs_with_source_as_documents(docs):\n",
    "    new_docs = []\n",
    "    for d in docs:\n",
    "        filename = os.path.basename(d.metadata.get(\"source\", \"\"))\n",
    "        # 기존 page_content 뒤에 출처 붙이기\n",
    "        new_content = f\"{d.page_content}\\n출처: {filename}\"\n",
    "\n",
    "        # 새 리스트 생성 (metadata 유지)\n",
    "        new_docs.append(\n",
    "            Document(page_content=new_content, metadata=d.metadata)\n",
    "        )\n",
    "    return new_docs\n",
    "\n"
   ]
  },
  {
   "cell_type": "markdown",
   "id": "fc69b8f1",
   "metadata": {},
   "source": [
    "### 질문 입력 및 context 답변 생성"
   ]
  },
  {
   "cell_type": "markdown",
   "id": "c0765c70",
   "metadata": {},
   "source": [
    "- 사용자 질문 입력 및 Vector DB를 위한 질문 재생성 (Rewrite)"
   ]
  },
  {
   "cell_type": "code",
   "execution_count": null,
   "id": "55a65edd",
   "metadata": {},
   "outputs": [],
   "source": [
    "\n",
    "from openai import OpenAI\n",
    "load_dotenv()\n",
    "HF_API_KEY = os.getenv(\"HF_API_KEY\")\n",
    "client = OpenAI(\n",
    "    base_url=\"https://router.huggingface.co/v1\",\n",
    "    api_key=HF_API_KEY\n",
    ")\n",
    "question = \"우리 부부의 연소득은 총 합 6800만원이야. 한 명은 군에 종사하고 하나는 직장인이라는 것을 참고해줘. 받을 수 있는 대출은 뭐가 있을까?\"\n",
    "\n",
    "summary_completion = client.chat.completions.create(\n",
    "    model=\"openai/gpt-oss-120b\",\n",
    "    messages=[{\n",
    "        \"role\": \"user\", \n",
    "        # \"content\": f\"너는 Vector DB 전문가야. 주어진 질문을 vector db에 넣기 위해 키워드를 찾아서 질문으로 바꿔줘. 효과적이면 단어들로 구성해도 돼. 없는 내용은 절대 넣지마. 백틱도 안 넣어도돼. The question is : {question}\"\n",
    "        \"content\": f\"너는 Vector DB 전문가야. 주어진 질문을 vector db에 넣기 위해 질문에서 키워드를 찾아서 단어로 파이썬 리스트화 해줘. 백틱도 안 넣어도돼. The question is : {question}\"\n",
    "        }],\n",
    ")\n",
    "\n",
    "question_for_vectordb = summary_completion.choices[0].message.content\n",
    "print(question_for_vectordb)\n",
    "\n",
    "\n"
   ]
  },
  {
   "cell_type": "markdown",
   "id": "6b7280e9",
   "metadata": {},
   "source": [
    "### Reranking 미실행"
   ]
  },
  {
   "cell_type": "code",
   "execution_count": null,
   "id": "59c6572d",
   "metadata": {},
   "outputs": [],
   "source": [
    "retriever = vectorstore.as_retriever(search_kwargs={'k': 10})\n",
    "# k를 3개에서 10개로 변경 -> 7\n",
    "\n",
    "docs = retriever.invoke(question_for_vectordb)\n",
    "print(type(docs[0]))\n",
    "# print(docs)\n",
    "formatted_context = format_docs_with_source_as_documents(docs)\n",
    "\n",
    "\n",
    "print(docs[0].page_content)\n",
    "# for d in formatted_context:\n",
    "#     # print(\"출처:\", d.metadata[\"source\"])\n",
    "#     # print(d.metadata[\"source\"])\n",
    "#     print(d.page_content)\n",
    "#     print(\"-\" * 40) \n",
    "\n",
    "eb_model_safe = EB_MODEL.replace(\"/\", \"_\")\n",
    "vector_db_safe = VECTOR_DB.replace(\"/\", \"_\")\n",
    "llm_model_safe = LLM_MODEL.replace(\"/\", \"_\")\n",
    "\n",
    "RERANKING = \"\"\n",
    "with open(f\"./results/txtfile/{RERANKING}context_docs_{splitter_name}_{eb_model_safe}_{vector_db_safe}_{llm_model_safe}.txt\", \"w\", encoding=\"utf-8\") as f:\n",
    "    for i, item in enumerate(formatted_context):\n",
    "        f.write(f\"Document {i + 1}:\\n\\n\")\n",
    "        f.write(str(item) + \"\\n\\n\")\n",
    "        f.write(\"---------\\n\\n\")"
   ]
  },
  {
   "cell_type": "markdown",
   "id": "9c4b7216",
   "metadata": {},
   "source": [
    "### Reranking 실행"
   ]
  },
  {
   "cell_type": "code",
   "execution_count": null,
   "id": "84a78006",
   "metadata": {},
   "outputs": [],
   "source": [
    "from sklearn.feature_extraction.text import TfidfVectorizer\n",
    "from sklearn.metrics.pairwise import cosine_similarity\n",
    "import numpy as np\n",
    "\n",
    "# ------------------------------\n",
    "# 1) top 10 후보 가져오기\n",
    "# ------------------------------\n",
    "retriever = vectorstore.as_retriever(search_kwargs={'k': 40})\n",
    "docs = retriever.invoke(question_for_vectordb)  # Document 리스트\n",
    "\n",
    "doc_texts = [doc.page_content for doc in docs]\n",
    "\n",
    "# ------------------------------\n",
    "# 2) Dense similarity 계산 (OpenAIEmbeddings 사용)\n",
    "# ------------------------------\n",
    "# query 임베딩\n",
    "query_emb = embedding.embed_query(question_for_vectordb)\n",
    "# 문서 임베딩\n",
    "doc_embs = embedding.embed_documents(doc_texts)\n",
    "dense_sim = cosine_similarity([query_emb], doc_embs)[0]\n",
    "\n",
    "# ------------------------------\n",
    "# 3) Sparse similarity 계산 (TF-IDF)\n",
    "# ------------------------------\n",
    "vectorizer = TfidfVectorizer()\n",
    "X = vectorizer.fit_transform(doc_texts)\n",
    "q_vec = vectorizer.transform([question_for_vectordb])\n",
    "sparse_sim = cosine_similarity(q_vec, X)[0]\n",
    "\n",
    "# ------------------------------\n",
    "# 4) Hybrid 점수 계산\n",
    "# ------------------------------\n",
    "alpha = 0.3  # dense weight\n",
    "beta = 0.7   # sparse weight\n",
    "hybrid_score = alpha * dense_sim + beta * sparse_sim\n",
    "\n",
    "# ------------------------------\n",
    "# 5) 상위 5개 선택\n",
    "# ------------------------------\n",
    "ranked_idx = np.argsort(-hybrid_score)[:10]\n",
    "ranked_docs = [docs[i] for i in ranked_idx]\n",
    "\n",
    "# ------------------------------\n",
    "# 6) formatted_context에 반영\n",
    "# ------------------------------\n",
    "formatted_context = format_docs_with_source_as_documents(ranked_docs)\n",
    "\n",
    "for d in formatted_context:\n",
    "    print(\"출처:\", d.metadata[\"source\"])\n",
    "    print(\"-\" * 40)\n",
    "\n",
    "# ------------------------------\n",
    "# 7) 파일로 저장\n",
    "# ------------------------------\n",
    "eb_model_safe = EB_MODEL.replace(\"/\", \"_\")\n",
    "vector_db_safe = VECTOR_DB.replace(\"/\", \"_\")\n",
    "llm_model_safe = LLM_MODEL.replace(\"/\", \"_\")\n",
    "RERANKING = \"reranking_\"\n",
    "with open(f\"./results/txtfile/{RERANKING}context_docs_{splitter_name}_{eb_model_safe}_{vector_db_safe}_{llm_model_safe}.txt\", \"w\", encoding=\"utf-8\") as f:\n",
    "    for i, item in enumerate(formatted_context):\n",
    "        f.write(f\"Document {i + 1}:\\n\\n\")\n",
    "        f.write(str(item) + \"\\n\\n\")\n",
    "        f.write(\"---------\\n\\n\")"
   ]
  },
  {
   "cell_type": "markdown",
   "id": "0d2d8a83",
   "metadata": {},
   "source": [
    "### 생성된 context로 LLM 답변하기"
   ]
  },
  {
   "cell_type": "code",
   "execution_count": null,
   "id": "69df40c4",
   "metadata": {},
   "outputs": [],
   "source": [
    "from langchain.memory import ChatMessageHistory\n",
    "\n",
    "chat_history = ChatMessageHistory()\n",
    "\n",
    "chat_history.add_user_message(question)\n",
    "\n",
    "answer = document_chain.invoke(\n",
    "    {\n",
    "        \"messages\": chat_history.messages,\n",
    "        \"context\": formatted_context,\n",
    "    }\n",
    ")\n",
    "\n",
    "chat_history.add_ai_message(answer)\n",
    "\n",
    "print(\"|분류|종류|\")\n",
    "print(\"|---|---|\")\n",
    "print(\"|청킹 방법|\", splitter_name, \"|\")\n",
    "print(\"|임베딩 모델|\", EB_MODEL, \"|\")\n",
    "print(\"|벡터 DB|\", VECTOR_DB, \"|\")\n",
    "print(\"|LLM 모델|\", LLM_MODEL, \"|\\n\")\n",
    "\n",
    "print(\"답변 : \")\n",
    "\n",
    "print(answer)\n",
    "\n",
    "print(\"\\n\")\n",
    "print(\"-\" * 40)\n",
    "\n",
    "vector_db_safe = VECTOR_DB.replace(\"/\", \"_\")\n",
    "llm_model_safe = LLM_MODEL.replace(\"/\", \"_\")\n",
    "llm_model_safe = LLM_MODEL.replace(\"/\", \"_\")\n",
    "with open(f\"./results/txtfile/{RERANKING}context_docs_{splitter_name}_{eb_model_safe}_{vector_db_safe}_{llm_model_safe}.txt\", \"a\", encoding=\"utf-8\") as f:\n",
    "    f.write(\"\\n###############################\\n\")\n",
    "    f.write(\"\\n##########  Results  ##########\\n\")\n",
    "    f.write(\"\\n###############################\\n\")\n",
    "    f.write(answer + \"\\n\")"
   ]
  },
  {
   "cell_type": "markdown",
   "id": "b718a5ba",
   "metadata": {},
   "source": [
    "### langchain 안걸리는 gpt-oss-120b"
   ]
  },
  {
   "cell_type": "code",
   "execution_count": null,
   "id": "5edbba4a",
   "metadata": {},
   "outputs": [],
   "source": [
    "from openai import OpenAI\n",
    "from langchain_openai import ChatOpenAI\n",
    "\n",
    "load_dotenv()\n",
    "HF_API_KEY = os.getenv(\"HF_API_KEY\")\n",
    "client = OpenAI(\n",
    "    base_url=\"https://router.huggingface.co/v1\",\n",
    "    api_key=HF_API_KEY\n",
    ")\n",
    "\n",
    "# print(formatted_context)\n",
    "summary_completion = client.chat.completions.create(\n",
    "    model=\"openai/gpt-oss-120b\",\n",
    "    messages=[{\n",
    "        \"role\": \"user\", \n",
    "        \"content\": f\"You are an assistant for question-answering tasks. Use the following pieces of retrieved context to answer the question. If you don't know the answer, just say that you don't know. you should user performed_context. You should consider all of special situation and general situation. If the 'perforemd_context' is null, you just say 'it is empyt'. Please write your answer in a markdown table format with the main points. Be sure to include all your source and page numbers like (3 ~ 10) in your answer. If you have over one source, you should include all of them. Answer in Korean. Also please write the keywords on user question that you think. \\n#Example Format: \\n(brief summary of the answer) \\n (table) \\n  (detailed answer to the question) \\n**출처** \\n- (file source) (page source and page number) (Please write the quoted text within 20 characters and follow it with ... )\\n\\n 키워드 : (keywords)\\n #Context: {formatted_context} the question is {question}\",\n",
    "        # \"You are an assistant for question-answering tasks. Use the following pieces of retrieved context to answer the question. If you don't know the answer, just say that you don't know. you should user performed_context. You should consider all of special situation and general situation. If the 'perforemd_context' is null, you just say 'it is empyt'. Please write your answer in a markdown table format with the main points. Be sure to include all your source and page numbers like (3 ~ 10) in your answer. If you have over one source, you should include all of them. Answer in Korean. Also please write the keywords on user question that you think. \\n#Example Format: \\n(brief summary of the answer) \\n (table) \\n  (detailed answer to the question) \\n**출처** \\n- (file source) (page source and page number) (Please write the quoted text within 20 characters and follow it with ... )\\n\\n 키워드 : (keywords)\\n #Context: {formatted_context}. The question is : {question}\"\n",
    "        }],\n",
    ")\n",
    "\n",
    "print(\"|분류|종류|\")\n",
    "print(\"|---|---|\")\n",
    "print(\"|청킹 방법|\", splitter_name, \"|\")\n",
    "print(\"|임베딩 모델|\", EB_MODEL, \"|\")\n",
    "print(\"|벡터 DB|\", VECTOR_DB, \"|\")\n",
    "print(\"|LLM 모델|\", \"gpt-oss-120b\", \"|\\n\")\n",
    "\n",
    "print(\"답변 : \")\n",
    "\n",
    "print(summary_completion.choices[0].message.content)\n",
    "\n",
    "print(\"\\n\")\n",
    "print(\"-\" * 40)\n",
    "\n",
    "vector_db_safe = VECTOR_DB.replace(\"/\", \"_\")\n",
    "llm_model_safe = LLM_MODEL.replace(\"/\", \"_\")\n",
    "\n",
    "RERANKING = \"reranking_\"\n",
    "with open(f\"./results/txtfile/{RERANKING}context_docs_{splitter_name}_{eb_model_safe}_{vector_db_safe}_{llm_model_safe}.txt\", \"a\", encoding=\"utf-8\") as f:\n",
    "    f.write(\"\\n###############################\\n\")\n",
    "    f.write(\"\\n##########  Results  ##########\\n\")\n",
    "    f.write(\"\\n###############################\\n\")\n",
    "    f.write(summary_completion.choices[0].message.content + \"\\n\")"
   ]
  },
  {
   "cell_type": "markdown",
   "id": "58ad6218",
   "metadata": {},
   "source": [
    "## context 사용 없이 질문을 받았을 경우"
   ]
  },
  {
   "cell_type": "code",
   "execution_count": null,
   "id": "30e9039a",
   "metadata": {},
   "outputs": [],
   "source": [
    "\n",
    "from openai import OpenAI\n",
    "from langchain_openai import ChatOpenAI\n",
    "\n",
    "load_dotenv()\n",
    "HF_API_KEY = os.getenv(\"HF_API_KEY\")\n",
    "client = OpenAI(\n",
    "    base_url=\"https://router.huggingface.co/v1\",\n",
    "    api_key=HF_API_KEY\n",
    ")\n",
    "# print(formatted_context)\n",
    "summary_completion = client.chat.completions.create(\n",
    "    model=\"openai/gpt-oss-120b\",\n",
    "    messages=[{\n",
    "        \"role\": \"user\", \n",
    "        \"content\": f\"You are an assistant for question-answering tasks. Please keep the answer under 500 characters. Please write your answer in a markdown table format with the main points.  Answer in Korean. \\n#Example Format: \\n(brief summary of the answer) \\n (table) \\n  (detailed answer to the question) \\n**출처** \\n- (file source) (page source and page number and correct full url) (Please write the quoted text within 20 characters and follow it with ... )\\n The question is : {question}\"\n",
    "        }],\n",
    ")\n",
    "print(\"\\n청킹 방법\", \"context 사용 없음\")\n",
    "print(\"임베딩 모델\", \"context 사용 없음\")\n",
    "print(\"LLM 모델\", \"openai/gpt-oss-120b\")\n",
    "print(\"벡터 DB\", \"사용 없음\")\n",
    "\n",
    "print(\"답변 : \")\n",
    "print(\"-\" * 40)\n",
    "print(summary_completion.choices[0].message.content)"
   ]
  },
  {
   "cell_type": "markdown",
   "id": "1c3b1b86",
   "metadata": {},
   "source": [
    "## 질의 확장 구현\n",
    "- 챗본으로 만들 경우 첫번째 질문을 이어 받아서 두번째 질문도 답변을 해야하니 질의 확장에 대한 기능이다. (필수 x)"
   ]
  },
  {
   "cell_type": "code",
   "execution_count": null,
   "id": "565825aa",
   "metadata": {},
   "outputs": [],
   "source": [
    "from langchain_core.output_parsers import StrOutputParser\n",
    "\n",
    "query_for_other = \"3천만원 일때는?\"\n",
    "\n",
    "query_augmentation_prompt = ChatPromptTemplate.from_messages(\n",
    "    [\n",
    "        MessagesPlaceholder(variable_name=\"messages\"),\n",
    "        (\n",
    "            \"system\",\n",
    "            \"기존의 대화 내용을 활용하여 사용자가 질문한 의도를 파악해서 한 문장의 명료한 질문으로 변환하라. 대명사나 이, 저, 그와 같은 표현을 명확한 명사로 표현하라. : \\n\\n{query}\",\n",
    "        ),\n",
    "    ]\n",
    ")\n",
    "query_augmentation_chain = query_augmentation_prompt | chat | StrOutputParser()\n",
    "\n",
    "augmented_query = query_augmentation_chain.invoke(\n",
    "    {\n",
    "        \"messages\": chat_history.messages,\n",
    "        \"query\": query_for_other,\n",
    "    }\n",
    ")\n",
    "\n",
    "print(augmented_query)"
   ]
  },
  {
   "cell_type": "code",
   "execution_count": null,
   "id": "2076f592",
   "metadata": {},
   "outputs": [],
   "source": [
    "docs_other = retriever.invoke(augmented_query)\n",
    "formatted_context_other = format_docs_with_source_as_documents(docs_other)\n",
    "\n",
    "chat_history.add_user_message(query_for_other)\n",
    "\n",
    "answer = document_chain.invoke(\n",
    "    {\n",
    "        \"messages\": chat_history.messages,\n",
    "        \"context\": formatted_context_other,\n",
    "    }\n",
    ")\n",
    "\n",
    "chat_history.add_ai_message(answer)\n",
    "\n",
    "print(\"질문:\", query_for_other)\n",
    "print(\"답변:\")\n",
    "print(\"-\" * 40)\n",
    "print(answer)\n",
    "\n",
    "print(\"\\n청킹 방법\", splitter_name)\n",
    "print(\"임베딩 모델\", EB_MODEL)\n",
    "print(\"LLM 모델\", LLM_MODEL)"
   ]
  }
 ],
 "metadata": {
  "kernelspec": {
   "display_name": ".venv",
   "language": "python",
   "name": "python3"
  },
  "language_info": {
   "codemirror_mode": {
    "name": "ipython",
    "version": 3
   },
   "file_extension": ".py",
   "mimetype": "text/x-python",
   "name": "python",
   "nbconvert_exporter": "python",
   "pygments_lexer": "ipython3",
   "version": "3.10.11"
  }
 },
 "nbformat": 4,
 "nbformat_minor": 5
}
