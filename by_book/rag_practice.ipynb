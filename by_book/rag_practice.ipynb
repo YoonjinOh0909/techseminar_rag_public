{
 "cells": [
  {
   "cell_type": "markdown",
   "id": "5801b44f",
   "metadata": {},
   "source": [
    "# data에 있는 모든 문서 추출하기\n",
    "- chroma_store가 없을 경우 data 폴더에 있는 pdf 파일들을 읽어서 벡터 DB에 저장 하기 위한 과정"
   ]
  },
  {
   "cell_type": "code",
   "execution_count": null,
   "id": "b46fcefc",
   "metadata": {},
   "outputs": [],
   "source": [
    "from langsmith import utils\n",
    "utils.get_env_var.cache_clear()"
   ]
  },
  {
   "cell_type": "code",
   "execution_count": 23,
   "id": "a8a10725",
   "metadata": {},
   "outputs": [],
   "source": [
    "# pip install dotenv\n",
    "import os\n",
    "from dotenv import load_dotenv\n",
    "\n",
    "load_dotenv()\n",
    "HF_API_KEY = os.getenv(\"HF_API_KEY\")\n",
    "LANGSMITH_API_KEY = os.getenv(\"LANGSMITH_API_KEY\")\n",
    "OPENAI_API_KEY = os.getenv(\"OPENAI_API_KEY\")\n",
    "os.environ[\"LANGCHAIN_TRACING_V2\"] = \"true\"\n",
    "os.environ[\"LANGCHAIN_ENDPOINT\"] = \"https://api.smith.langchain.com\" # 이건 그대로\n",
    "os.environ[\"LANGCHAIN_API_KEY\"] = LANGSMITH_API_KEY # 이거 API키 받은거\n",
    "os.environ[\"LANGCHAIN_PROJECT\"] = \"lm-studio-rag-tracing\"  # 프로젝트 이름 설정(아무거나 해도됨)\n",
    "os.environ[\"OPENAI_API_KEY\"] = OPENAI_API_KEY"
   ]
  },
  {
   "cell_type": "markdown",
   "id": "6f84d850",
   "metadata": {},
   "source": [
    "### 기본 방법 선택하기"
   ]
  },
  {
   "cell_type": "code",
   "execution_count": 24,
   "id": "33c88d4b",
   "metadata": {},
   "outputs": [],
   "source": [
    "# 청킹 방법\n",
    "splitter_name = \"recursive\" # recursive, semantic\n",
    "\n",
    "# LLM 모델\n",
    "LLM_MODEL = \"openai/gpt-oss-120b\" # gpt-4o-mini, openai/gpt-oss-120b\n",
    "\n",
    "# 벡터 DB\n",
    "VECTOR_DB = \"chroma_store\" # chroma_store, faiss_index\n",
    "\n",
    "# 임베딩 모델\n",
    "# EB_MODEL = \"text-embedding-3-large\" # text-embedding-3-large -> 아래 임베딩 모델 섹션에서 설정\n",
    "\n"
   ]
  },
  {
   "cell_type": "markdown",
   "id": "00a5b1e0",
   "metadata": {},
   "source": [
    "## 임베딩 모델 설정하기\n",
    "- 섹션이 바뀌기 전까지 셀 중 한가지 선택해서 사용."
   ]
  },
  {
   "cell_type": "markdown",
   "id": "7f3fe06d",
   "metadata": {},
   "source": [
    "### OpenAI Embeddings"
   ]
  },
  {
   "cell_type": "code",
   "execution_count": 25,
   "id": "cbee21fe",
   "metadata": {},
   "outputs": [],
   "source": [
    "# OpenAI Embeddings : text-embedding-3-large\n",
    "# pip install langchain_openai\n",
    "from langchain_openai import OpenAIEmbeddings\n",
    "\n",
    "# 의미 기반으로 청킹을 하기 위해 OpenAI의 임베딩 모델을 사용\n",
    "OPENAI_API_KEY = os.getenv(\"OPENAI_API_KEY\")\n",
    "EB_MODEL = \"text-embedding-3-large\" # text-embedding-3-large\n",
    "embedding = OpenAIEmbeddings(model=EB_MODEL, api_key=OPENAI_API_KEY)"
   ]
  },
  {
   "cell_type": "markdown",
   "id": "0663e78c",
   "metadata": {},
   "source": [
    "### HuggingFaceEmbddings (local 저장)"
   ]
  },
  {
   "cell_type": "code",
   "execution_count": null,
   "id": "0c2af919",
   "metadata": {},
   "outputs": [],
   "source": [
    "# 로컬에 저장해서 사용하는거라 api key가 필요없음\n",
    "# HuggingFaceEmbeddings : sentence-transformers/stsb-xlm-r-multilingual\n",
    "\n",
    "# pip install langchain sentence-transformers langchain-community\n",
    "from langchain_community.embeddings import HuggingFaceEmbeddings\n",
    "\n",
    "# HuggingFace 임베딩 클래스 이용\n",
    "EB_MODEL = \"stsb-xlm-r-multilingual\" # stsb-xlm-r-multilingual\n",
    "embedding = HuggingFaceEmbeddings(model_name=EB_MODEL)\n",
    "\n",
    "# 단일 텍스트 임베딩 생성\n",
    "sample_text = \"금융권 문서 임베딩 예제\"\n",
    "embedding_vector = embedding.embed_query(sample_text)\n",
    "\n",
    "print(\"임베딩 벡터 길이:\", len(embedding_vector))\n",
    "print(\"임베딩 벡터 일부:\", embedding_vector[:5])\n"
   ]
  },
  {
   "cell_type": "markdown",
   "id": "491f0168",
   "metadata": {},
   "source": [
    "### Hugginface embeddings (multilinual-e5)"
   ]
  },
  {
   "cell_type": "code",
   "execution_count": null,
   "id": "a6257139",
   "metadata": {},
   "outputs": [],
   "source": [
    "# pip install langchain_huggingface\n",
    "from langchain_huggingface.embeddings import HuggingFaceEndpointEmbeddings\n",
    "\n",
    "EB_MODEL = \"intfloat/multilingual-e5-large-instruct\"  # multilingual-e5-large, multilingual-e5-large-instruct\n",
    "model_name = EB_MODEL\n",
    "\n",
    "HF_API_KEY = os.getenv(\"HF_API_KEY\")\n",
    "\n",
    "embedding = HuggingFaceEndpointEmbeddings(\n",
    "    model=model_name,\n",
    "    task=\"feature-extraction\",\n",
    "    huggingfacehub_api_token=HF_API_KEY,\n",
    ")\n",
    "\n",
    "# 단일 텍스트 임베딩 생성\n",
    "sample_text = \"금융권 문서 임베딩 예제\"\n",
    "embedding_vector = embedding.embed_query(sample_text)\n",
    "\n",
    "print(\"임베딩 벡터 길이:\", len(embedding_vector))\n",
    "print(\"임베딩 벡터 일부:\", embedding_vector[:5])"
   ]
  },
  {
   "cell_type": "markdown",
   "id": "49b91604",
   "metadata": {},
   "source": [
    "### Google Gemini Embeddings\n",
    "- *호환성 문제로 genai 는 사용하지 않도록 한다.*"
   ]
  },
  {
   "cell_type": "code",
   "execution_count": null,
   "id": "471043c8",
   "metadata": {},
   "outputs": [],
   "source": [
    "# # pip install genai google google.genai\n",
    "# from langchain.embeddings.base import Embeddings\n",
    "# from google import genai\n",
    "# from google.genai.types import EmbedContentConfig\n",
    "\n",
    "# api_key = os.getenv(\"GC_API_KEY\")\n",
    "\n",
    "# client = genai.Client(api_key=api_key)\n",
    "# EB_MODEL = \"gemini-embedding-001\"  # Google Cloud 임베딩 모델\n",
    "# def call_google_cloud_embedding_api(text):\n",
    "#     response = client.models.embed_content(\n",
    "#         model=EB_MODEL,\n",
    "#         contents=text,\n",
    "#         config=EmbedContentConfig(\n",
    "#             task_type=\"RETRIEVAL_DOCUMENT\",\n",
    "#             output_dimensionality=768\n",
    "#         )\n",
    "#     )\n",
    "#     return response.embeddings[0].values\n",
    "\n",
    "# class GoogleCloudEmbeddings(Embeddings):\n",
    "#     def embed_documents(self, texts):\n",
    "#         # Google Cloud 임베딩 API 호출 코드\n",
    "#         # texts 리스트를 임베딩 벡터 리스트로 반환\n",
    "#         embeddings = []\n",
    "#         for text in texts:\n",
    "#             embedding_vector = call_google_cloud_embedding_api(text)\n",
    "#             embeddings.append(embedding_vector)\n",
    "#         return embeddings\n",
    "\n",
    "#     def embed_query(self, text):\n",
    "#         return call_google_cloud_embedding_api(text)\n",
    "\n",
    "# # 생성\n",
    "# embedding = GoogleCloudEmbeddings()\n",
    "\n",
    "# sample_text = \"금융권 문서 임베딩 예제\"\n",
    "# embedding_vector = embedding.embed_query(sample_text)\n",
    "\n",
    "# print(\"임베딩 벡터 길이:\", len(embedding_vector))\n",
    "# print(\"임베딩 벡터 일부:\", embedding_vector[:5])\n"
   ]
  },
  {
   "cell_type": "markdown",
   "id": "88a09bcc",
   "metadata": {},
   "source": [
    "### KF-DeBERTa embedding 모델"
   ]
  },
  {
   "cell_type": "code",
   "execution_count": null,
   "id": "ef909454",
   "metadata": {},
   "outputs": [],
   "source": [
    "from langchain.embeddings.base import Embeddings\n",
    "from transformers import AutoTokenizer, AutoModel\n",
    "import torch\n",
    "\n",
    "EB_MODEL = \"kakaobank/kf-deberta-base\"  # KF-DeBERTa 모델 이름\n",
    "# KF-DeBERTa 임베딩 래퍼 정의\n",
    "class KFDeBERTaEmbeddings(Embeddings):\n",
    "    def __init__(self, model_name=EB_MODEL):\n",
    "        self.tokenizer = AutoTokenizer.from_pretrained(model_name)\n",
    "        self.model = AutoModel.from_pretrained(model_name)\n",
    "        self.device = \"cuda\" if torch.cuda.is_available() else \"cpu\"\n",
    "        self.model.to(self.device)\n",
    "\n",
    "    def embed_documents(self, texts):\n",
    "        return [self.embed_query(text) for text in texts]\n",
    "\n",
    "    def embed_query(self, text):\n",
    "        inputs = self.tokenizer(text, return_tensors=\"pt\", truncation=True, max_length=512, padding=True)\n",
    "        inputs = {k: v.to(self.device) for k, v in inputs.items()}\n",
    "        with torch.no_grad():\n",
    "            outputs = self.model(**inputs)\n",
    "            attention_mask = inputs[\"attention_mask\"]\n",
    "            token_embeddings = outputs.last_hidden_state\n",
    "            input_mask_expanded = attention_mask.unsqueeze(-1).expand(token_embeddings.size()).float()\n",
    "            embedding = torch.sum(token_embeddings * input_mask_expanded, 1) / torch.clamp(input_mask_expanded.sum(1), min=1e-9)\n",
    "        return embedding[0].cpu().numpy()\n",
    "\n",
    "# 생성\n",
    "embedding = KFDeBERTaEmbeddings()\n",
    "\n",
    "sample_text = \"금융권 문서 임베딩 예제\"\n",
    "embedding_vector = embedding.embed_query(sample_text)\n",
    "\n",
    "print(\"임베딩 벡터 길이:\", len(embedding_vector))\n",
    "print(\"임베딩 벡터 일부:\", embedding_vector[:5])"
   ]
  },
  {
   "cell_type": "markdown",
   "id": "4f97b62b",
   "metadata": {},
   "source": [
    "### bge-m3 Embedding model"
   ]
  },
  {
   "cell_type": "code",
   "execution_count": null,
   "id": "f065864c",
   "metadata": {},
   "outputs": [],
   "source": [
    "from langchain.embeddings import HuggingFaceEmbeddings\n",
    "from langchain.vectorstores import FAISS\n",
    "from langchain.text_splitter import RecursiveCharacterTextSplitter\n",
    "\n",
    "EB_MODEL = \"BAAI/bge-m3\"\n",
    "# 임베딩 모델 생성\n",
    "embedding = HuggingFaceEmbeddings(\n",
    "    model_name=EB_MODEL,\n",
    "    model_kwargs={\"device\": \"cpu\"},  # GPU 사용 시\n",
    "    encode_kwargs={\"normalize_embeddings\": True}\n",
    ")\n",
    "\n",
    "# sample_text = \"금융권 문서 임베딩 예제\"\n",
    "# embedding_vector = embedding.embed_query(sample_text)\n",
    "\n",
    "# print(\"임베딩 벡터 길이:\", len(embedding_vector))\n",
    "# print(\"임베딩 벡터 일부:\", embedding_vector[:5])"
   ]
  },
  {
   "cell_type": "markdown",
   "id": "c21b1441",
   "metadata": {},
   "source": [
    "## 청킹 방법 설정하기"
   ]
  },
  {
   "cell_type": "markdown",
   "id": "d93116c7",
   "metadata": {},
   "source": [
    "### splitter 설정"
   ]
  },
  {
   "cell_type": "code",
   "execution_count": 26,
   "id": "5e0503fe",
   "metadata": {},
   "outputs": [
    {
     "name": "stdout",
     "output_type": "stream",
     "text": [
      "<langchain_text_splitters.character.RecursiveCharacterTextSplitter object at 0x00000180F204FE20> \n",
      "embedding:  text-embedding-3-large splitter_name:  recursive\n"
     ]
    }
   ],
   "source": [
    "# pip install langchain_experimental\n",
    "if splitter_name == \"recursive\" :\n",
    "    # recursive_character_text_splitter로 구분자 재귀 청킹 기법\n",
    "    from langchain_text_splitters import RecursiveCharacterTextSplitter\n",
    "\n",
    "    text_splitter = RecursiveCharacterTextSplitter(\n",
    "        chunk_size=1000,\n",
    "        chunk_overlap=100\n",
    "    )\n",
    "elif splitter_name == \"semantic\":\n",
    "    # pip install langchain_experimental\n",
    "    from langchain_experimental.text_splitter import SemanticChunker\n",
    "\n",
    "    text_splitter = SemanticChunker(embedding)\n",
    "\n",
    "print(text_splitter, \"\\nembedding: \", EB_MODEL, \"splitter_name: \", splitter_name)"
   ]
  },
  {
   "cell_type": "markdown",
   "id": "d9c63422",
   "metadata": {},
   "source": [
    "### Debug 함수"
   ]
  },
  {
   "cell_type": "code",
   "execution_count": 8,
   "id": "78f42103",
   "metadata": {},
   "outputs": [],
   "source": [
    "def debug_chunkinfo_aftersplit(all_splits):\n",
    "    for i, split in enumerate(all_splits):\n",
    "        print(f\"Chunk {i+1}:\")\n",
    "        print(split.page_content)\n",
    "        print(\"-\" * 40)"
   ]
  },
  {
   "cell_type": "markdown",
   "id": "b17918d6",
   "metadata": {},
   "source": [
    "### 추출 하기"
   ]
  },
  {
   "cell_type": "markdown",
   "id": "e2b594f8",
   "metadata": {},
   "source": [
    "- pdf에서 추출"
   ]
  },
  {
   "cell_type": "code",
   "execution_count": 27,
   "id": "1cf92787",
   "metadata": {},
   "outputs": [],
   "source": [
    "import os\n",
    "import glob\n",
    "from langchain_community.document_loaders import PyPDFLoader\n",
    "\n",
    "# PDF 파일을 읽어서 텍스트 데이터 추출 및 청킹\n",
    "def extract_documents_from_pdf(pdf_path):\n",
    "    # PDF 파일을 읽어서 텍스트 데이터 추출\n",
    "    loader = PyPDFLoader(pdf_path)\n",
    "    data_nyc = loader.load()\n",
    "\n",
    "    # 추출된 텍스트 데이터를 청킹\n",
    "    splits = text_splitter.split_documents(data_nyc)\n",
    "    # debug_chunkinfo_aftersplit(splits) \n",
    "\n",
    "    # recursive_character_text_splitter의 경우, 청크가 겹치는 부분이 없으면 연결하지 않음\n",
    "    # 따라서, 청크가 겹치는 부분이 없을 때는 직접 연결하여 오버랩을 만듦\n",
    "    # 만약 청크가 겹치는 부분이 있다면, 그 부분은 자동으로 연결됨\n",
    "    # 여기서는 청크가 겹치지 않는 경우에만 오버랩을 추가함\n",
    "\n",
    "    # 만약 첫 번째 청크의 끝과 두 번째 청크의 시작이 겹치지 않는다면,\n",
    "    if splitter_name == \"recursive\" and (splits[0].page_content[-100:] == splits[1].page_content[:100]):\n",
    "        print(splits[0].page_content)\n",
    "        print(\"----\")\n",
    "        print(splits[1].page_content)\n",
    "        for i in range(len(splits) - 1):\n",
    "            splits[i].page_content += \"\\n\" + splits[i + 1].page_content[:50]\n",
    "\n",
    "    return splits\n"
   ]
  },
  {
   "cell_type": "markdown",
   "id": "a87940ce",
   "metadata": {},
   "source": [
    "## 텍스트를 벡터로 변환하기"
   ]
  },
  {
   "cell_type": "markdown",
   "id": "3ca0cc98",
   "metadata": {},
   "source": [
    "- 토큰 제한하며 실행 및 저장"
   ]
  },
  {
   "cell_type": "code",
   "execution_count": 28,
   "id": "26ea0801",
   "metadata": {},
   "outputs": [],
   "source": [
    "# pip install pypdf\n",
    "import tiktoken\n",
    "import pypdf\n",
    "\n",
    "try:\n",
    "    encoding = tiktoken.encoding_for_model(EB_MODEL)\n",
    "except KeyError:\n",
    "    encoding = tiktoken.get_encoding(\"cl100k_base\") # 토크나이저를 직접 지정\n",
    "\n",
    "\n",
    "TOKEN_LIMIT_PER_BATCH = 39000  # 적절한 토큰 제한\n",
    "\n",
    "def batch_save(vectorstore, splits):\n",
    "    current_batch = []\n",
    "    current_tokens = 0\n",
    "\n",
    "    for doc in splits: \n",
    "        tokens = len(encoding.encode(doc.page_content))\n",
    "        \n",
    "        if current_tokens + tokens > TOKEN_LIMIT_PER_BATCH:\n",
    "            try:\n",
    "                vectorstore.add_documents(current_batch)\n",
    "                print(f\"✅ {len(current_batch)}개 문서 배치 저장 완료\")\n",
    "            except Exception as e:\n",
    "                print(f\"❌ 배치 저장 중 오류 발생: {e}\")\n",
    "            current_batch = [doc]\n",
    "            current_tokens = tokens\n",
    "        else:\n",
    "            current_batch.append(doc)\n",
    "            current_tokens += tokens\n",
    "\n",
    "    # 마지막 배치 처리\n",
    "    if current_batch:\n",
    "        vectorstore.add_documents(current_batch)\n",
    "        print(f\"✅ 마지막 배치 {len(current_batch)}개 문서 저장 완료\")\n",
    "    \n",
    "    return vectorstore"
   ]
  },
  {
   "cell_type": "markdown",
   "id": "2049696b",
   "metadata": {},
   "source": [
    "### Vector DB 생성 혹은 데이터 불러오기 (Chroma, FAISS)"
   ]
  },
  {
   "cell_type": "code",
   "execution_count": 29,
   "id": "1570fa61",
   "metadata": {},
   "outputs": [
    {
     "name": "stdout",
     "output_type": "stream",
     "text": [
      "Loading existing chroma_store...\n",
      "추가할 PDF 파일이 없습니다.\n"
     ]
    }
   ],
   "source": [
    "# pip install faiss-cpu\n",
    "import faiss\n",
    "from langchain.embeddings import HuggingFaceEmbeddings\n",
    "from langchain_community.vectorstores import FAISS\n",
    "from langchain.vectorstores import FAISS\n",
    "from langchain.docstore.in_memory import InMemoryDocstore\n",
    "from langchain_chroma import Chroma\n",
    "import shutil\n",
    "import time\n",
    "\n",
    "persist_directory = './' + VECTOR_DB + '_' + splitter_name + '_' + EB_MODEL.replace('/', '_')\n",
    "\n",
    "if not os.path.exists(persist_directory):\n",
    "    print(f\"Creating new {VECTOR_DB} at {persist_directory}...\")    \n",
    "\n",
    "    # 만약 persist_directory가 존재하지 않는다면, 새로 생성. data에 있는 PDF 파일을 읽어서 청킹 후 저장\n",
    "    current_dir = os.getcwd() # 현재 폴더 경로\n",
    "    folder_path = os.path.join(current_dir, \"data\") # data 폴더 경로 설정\n",
    "    pdf_files = glob.glob(os.path.join(folder_path, \"*.pdf\")) # PDF 파일 목록 가져오기\n",
    "\n",
    "    all_splits = []\n",
    "    print(f\"현재 청킹 방법 : {splitter_name}\")\n",
    "    print(f\"현재 임베딩 모델 : {EB_MODEL}\")\n",
    "    print(f\"PDF 파일 개수: {len(pdf_files)}\")\n",
    "    for pdf_file in pdf_files:\n",
    "        pdf_path = pdf_file\n",
    "        # temp_docs, merged_path = extract_documents_from_pdf(pdf_file)\n",
    "        print(f\"Processing {pdf_path}...\")\n",
    "        all_splits.extend(extract_documents_from_pdf(pdf_file))\n",
    "        time.sleep(2)  # PDF 파일 처리 간에 잠시 대기\n",
    "\n",
    "    print(f\"전체 청크 개수: {len(all_splits)}\")\n",
    "\n",
    "    if VECTOR_DB == \"chroma_store\":\n",
    "        vectorstore = Chroma(\n",
    "            embedding_function=embedding,\n",
    "            persist_directory=persist_directory\n",
    "        )\n",
    "        vectorstore = batch_save(vectorstore, all_splits)\n",
    "    elif VECTOR_DB == \"faiss_index\":\n",
    "    \n",
    "        embedding_dim = len(embedding.embed_query(\"test\"))\n",
    "        index = faiss.IndexFlatIP(embedding_dim)\n",
    "\n",
    "        vectorstore = FAISS(\n",
    "            embedding_function=embedding.embed_query,\n",
    "            index=index,\n",
    "            docstore=InMemoryDocstore(),\n",
    "            index_to_docstore_id={}\n",
    "        )\n",
    "        vectorstore = batch_save(vectorstore, all_splits)\n",
    "        vectorstore.save_local(persist_directory)\n",
    "else :\n",
    "    # 이미 존재하는 Chroma store를 불러오기\n",
    "    print(f\"Loading existing {VECTOR_DB}...\")\n",
    "    if VECTOR_DB == \"faiss_index\":\n",
    "        vectorstore = FAISS.load_local(persist_directory, embedding, allow_dangerous_deserialization=True)\n",
    "    elif VECTOR_DB == \"chroma_store\":\n",
    "        vectorstore = Chroma(\n",
    "            embedding_function=embedding,\n",
    "            persist_directory=persist_directory\n",
    "        )\n",
    "\n",
    "    # 만약 새로 추가할 PDF 파일이 있다면 데이터 추출 및 저장후, extra_data 폴더에서 data 폴더로 이동\n",
    "    src_folder = 'extra_data'\n",
    "    dst_folder = 'data'\n",
    "\n",
    "    current_dir = os.getcwd() # 현재 폴더 경로\n",
    "    folder_path = os.path.join(current_dir, src_folder) # extra_data 폴더 경로 설정\n",
    "    pdf_files = glob.glob(os.path.join(folder_path, \"*.pdf\")) # PDF 파일 목록 가져오기\n",
    "\n",
    "    extra_splits = []\n",
    "    if not pdf_files:\n",
    "        print(\"추가할 PDF 파일이 없습니다.\")\n",
    "    else:\n",
    "        print(f\"추가할 PDF 파일 개수: {len(pdf_files)}\")\n",
    "        for pdf_file in pdf_files:\n",
    "            print(f\"Processing {pdf_file}...\")\n",
    "            extra_splits.extend(extract_documents_from_pdf(pdf_file))\n",
    "            time.sleep(1)\n",
    "\n",
    "        vectorstore = batch_save(vectorstore, extra_splits)\n",
    "        if VECTOR_DB == \"faiss_index\":\n",
    "            vectorstore.save_local(persist_directory)\n",
    "        # extra_data 폴더의 모든 파일 중 .pdf만 이동\n",
    "        for filename in os.listdir(src_folder):\n",
    "            if filename.lower().endswith('.pdf'):\n",
    "                src_path = os.path.join(src_folder, filename)\n",
    "                dst_path = os.path.join(dst_folder, filename)\n",
    "                if os.path.isfile(src_path):\n",
    "                    shutil.move(src_path, dst_path)\n",
    "\n",
    "# semantic text-embedding-3-large chroma 12m 23.7s 청크 개수 342\n",
    "# semantic stsb-xlm-r-multilingual chroma 2m 38.5s 청크 개수 342\n",
    "# semantic intfloat/multilingual-e5-large-instruct chroma 6m 29.6s 청크 개수 342\n",
    "# semantic kakaobank/kf-deberta-base chroma 9m 53.6s 청크 개수 342\n",
    "# semantic BAAI/bge-m3 chroma 31m 48.9s 청크 개수 342\n",
    "\n",
    "\n",
    "\n",
    "# semantic text-embedding-3-large faiss_index 12m 21.9s 청크 개수 342\n",
    "# semantic stsb-xlm-r-multilingual faiss_index 3m 35.2s 청크 개수 342\n",
    "# semantic intfloat/multilingual-e5-large-instruct faiss_index 7m 54.1s 청크 개수 342\n",
    "# semantic kakaobank/kf-deberta-base faiss_index 9m 53.4s 청크 개수 342\n",
    "# semantic BAAI/bge-m3 faiss_index 25m 3.8s 청크 개수 342"
   ]
  },
  {
   "cell_type": "markdown",
   "id": "93d5f822",
   "metadata": {},
   "source": [
    "## LLM 설정 후 질문 및 답변"
   ]
  },
  {
   "cell_type": "markdown",
   "id": "550c8606",
   "metadata": {},
   "source": [
    "### gpt-4o-mini 로 설정"
   ]
  },
  {
   "cell_type": "code",
   "execution_count": null,
   "id": "f9c7cb40",
   "metadata": {},
   "outputs": [],
   "source": [
    "LLM_MODEL = \"gpt-4o-mini\"\n",
    "print(LLM_MODEL, \"모델로 설정됨\")"
   ]
  },
  {
   "cell_type": "markdown",
   "id": "6e6ef3db",
   "metadata": {},
   "source": [
    "### gpt-oss-120b 로 설정"
   ]
  },
  {
   "cell_type": "code",
   "execution_count": 30,
   "id": "c1edbd3f",
   "metadata": {},
   "outputs": [
    {
     "name": "stdout",
     "output_type": "stream",
     "text": [
      "gpt-oss-120b 모델로 설정됨\n"
     ]
    }
   ],
   "source": [
    "LLM_MODEL = \"gpt-oss-120b\"\n",
    "print(LLM_MODEL, \"모델로 설정됨\")"
   ]
  },
  {
   "cell_type": "markdown",
   "id": "f49b691b",
   "metadata": {},
   "source": [
    "### 설정된 모델로 응답 프롬프트 작성"
   ]
  },
  {
   "cell_type": "code",
   "execution_count": 31,
   "id": "571fe2ce",
   "metadata": {},
   "outputs": [],
   "source": [
    "from langchain_core.prompts import ChatPromptTemplate, MessagesPlaceholder\n",
    "from langchain.chains.combine_documents import create_stuff_documents_chain\n",
    "from langchain_openai import ChatOpenAI\n",
    "# from langchain_openai import ChatOpenAI # 라고 했을 때는 module 'openai' has no attribute 'DefaultHttpxClient' 오류가\n",
    "from openai import OpenAI\n",
    "\n",
    "if LLM_MODEL == \"gpt-4o-mini\":\n",
    "    chat = ChatOpenAI(model=LLM_MODEL)\n",
    "elif LLM_MODEL == \"gpt-oss-120b\":\n",
    "    HF_API_KEY = os.getenv(\"HF_API_KEY\")\n",
    "    chat = ChatOpenAI(\n",
    "        model=\"openai/gpt-oss-120b\",  # Hugging Face Router의 모델\n",
    "        openai_api_key=HF_API_KEY,\n",
    "        openai_api_base=\"https://router.huggingface.co/v1\"  # base_url 대신 사용\n",
    "    )\n",
    "\n",
    "question_answering_promt = ChatPromptTemplate.from_messages(\n",
    "    [\n",
    "        (\n",
    "            \"system\",\n",
    "            # \"You are an assistant for question-answering tasks. Use the following pieces of retrieved context to answer the question. If you don't know the answer, just say that you don't know. you should user performed_context. You should consider all of special situation and general situation. If the 'perforemd_context' is null, you just say 'it is empyt'. Please write your answer in a markdown table format with the main points. Be sure to include all your source and page numbers like (3 ~ 10) in your answer. If you have over one source, you should include all of them. Answer in Korean. Also please write the keywords on user question that you think. \\n#Example Format: \\n(brief summary of the answer) \\n (table) \\n  (detailed answer to the question) \\n**출처** \\n- (file source) (page source and page number) (Please write the quoted text within 20 characters and follow it with ... )\\n\\n 키워드 : (keywords)\\n #Context: {context}\",\n",
    "            \"당신은 사용자를 위한 전문 대출 상담 챗봇입니다. \"\n",
    "            \"당신의 역할은 일반 신용대출 및 부동산 관련 대출에 대해 정확하고 도움이 되는 상담을 제공하는 것입니다. \"\n",
    "            \"사용자의 질문에 대해 반드시 벡터 데이터베이스에서 검색된 retrieved context(RAG) 기반으로만 답변해야 하며, \"\n",
    "            \"retrieved context에 없는 정보를 추론하거나 임의로 만들어내지 마십시오. \"\n",
    "            \"다음 규칙을 반드시 따르십시오:\\n\"\n",
    "            \"1. 답변은 retrieved context에 포함된 정보에 기반하여 작성합니다.\\n\"\n",
    "            \"2. retrieved context에 관련 정보가 없을 경우, \\\"해당 내용은 문서에 존재하지 않으므로 전문 상담사에게 연결해 드리겠습니다.\\\" 라고 답변합니다.\\n\"\n",
    "            \"3. 답변 작성 시 일반적인 상황뿐만 아니라 발생할 수 있는 특수 상황도 함께 고려하여 설명합니다.\\n\"\n",
    "            \"4. 답변은 다음 Markdown 표 형식으로 작성합니다:\\n\"\n",
    "            \"(간단 요약)\\n\"\n",
    "            \"(표)\\n\"\n",
    "            \"(질문에 대한 상세한 설명)\\n\"\n",
    "            \"**출처**\\n\"\n",
    "            \"- (문서명) (페이지 범위) “(20자 이하 인용문)…\\\"\\n\"\n",
    "            \"5. 마지막 줄에는 사용자 질문에서 핵심이 되는 키워드를 다음 형식으로 작성합니다: \"\n",
    "            \"키워드 : (keyword1, keyword2, ...)\\n\"\n",
    "            \"#Context: {context}\"\n",
    "        ),\n",
    "        MessagesPlaceholder(variable_name=\"messages\"),\n",
    "    ]\n",
    ")\n",
    "\n",
    "document_chain = create_stuff_documents_chain(chat, question_answering_promt)"
   ]
  },
  {
   "cell_type": "markdown",
   "id": "3ef843e4",
   "metadata": {},
   "source": [
    "- meta data에 있는 정보는 llm이 알 수 없으므로 출처 filename을 포함시켜서 새로운 Document 타입을 생성"
   ]
  },
  {
   "cell_type": "code",
   "execution_count": 32,
   "id": "43f07455",
   "metadata": {},
   "outputs": [],
   "source": [
    "import os\n",
    "from langchain.schema import Document\n",
    "\n",
    "# Document type인 docs가 context로 넘겨졌을 때 llm은 content에 있는 정보 기반으로 답을 한다.\n",
    "# 따라서 meta data에 있는 정보는 llm이 알 수 없으므로 출처 filename을 포함시켜서 새로운 Document 타입을 생성한다.\n",
    "def format_docs_with_source_as_documents(docs):\n",
    "    new_docs = []\n",
    "    for d in docs:\n",
    "        filename = os.path.basename(d.metadata.get(\"source\", \"\"))\n",
    "        # 기존 page_content 뒤에 출처 붙이기\n",
    "        new_content = f\"{d.page_content}\\n출처: {filename}\"\n",
    "\n",
    "        # 새 리스트 생성 (metadata 유지)\n",
    "        new_docs.append(\n",
    "            Document(page_content=new_content, metadata=d.metadata)\n",
    "        )\n",
    "    return new_docs\n",
    "\n"
   ]
  },
  {
   "cell_type": "markdown",
   "id": "fc69b8f1",
   "metadata": {},
   "source": [
    "### 질문 입력 및 context 답변 생성"
   ]
  },
  {
   "cell_type": "markdown",
   "id": "c0765c70",
   "metadata": {},
   "source": [
    "- 사용자 질문 입력 및 Vector DB를 위한 질문 재생성"
   ]
  },
  {
   "cell_type": "code",
   "execution_count": 33,
   "id": "55a65edd",
   "metadata": {},
   "outputs": [
    {
     "name": "stdout",
     "output_type": "stream",
     "text": [
      "부부 연소득 6800만원 군인 직장인 대출 가능한 종류 신청 조건 이자율 한도​\n"
     ]
    }
   ],
   "source": [
    "\n",
    "from openai import OpenAI\n",
    "load_dotenv()\n",
    "HF_API_KEY = os.getenv(\"HF_API_KEY\")\n",
    "client = OpenAI(\n",
    "    base_url=\"https://router.huggingface.co/v1\",\n",
    "    api_key=HF_API_KEY\n",
    ")\n",
    "question = \"우리 부부의 연소득은 총 합 6800만원이야. 한 명은 군에 종사하고 하나는 직장인이라는 것을 참고해줘. 받을 수 있는 대출은 뭐가 있을까?\"\n",
    "\n",
    "summary_completion = client.chat.completions.create(\n",
    "    model=\"openai/gpt-oss-120b\",\n",
    "    messages=[{\n",
    "        \"role\": \"user\", \n",
    "        \"content\": f\"너는 Vector DB 전문가야. 주어진 질문을 vector db에 넣기 위해 키워드를 찾아서 질문으로 바꿔줘. 효과적이면 단어들로 구성해도 돼. 백틱도 안 넣어도돼. The question is : {question}\"\n",
    "        }],\n",
    ")\n",
    "\n",
    "question_for_vectordb = summary_completion.choices[0].message.content\n",
    "print(question_for_vectordb)\n",
    "\n",
    "\n"
   ]
  },
  {
   "cell_type": "code",
   "execution_count": 38,
   "id": "59c6572d",
   "metadata": {},
   "outputs": [
    {
     "name": "stdout",
     "output_type": "stream",
     "text": [
      "출처: c:\\ITStudy\\Project\\TechSeminar_Public\\by_book\\data\\우리 군인우대 대출.pdf\n",
      "----------------------------------------\n",
      "출처: c:\\ITStudy\\Project\\TechSeminar_Public\\by_book\\data\\우리 군인우대 대출.pdf\n",
      "----------------------------------------\n",
      "출처: c:\\ITStudy\\Project\\TechSeminar_Public\\by_book\\data\\우리 사잇돌 중금리대출.pdf\n",
      "----------------------------------------\n",
      "출처: c:\\ITStudy\\Project\\TechSeminar_Public\\by_book\\data\\우리 주거래 직장인대출.pdf\n",
      "----------------------------------------\n",
      "출처: c:\\ITStudy\\Project\\TechSeminar_Public\\by_book\\data\\우리 군인우대 대출.pdf\n",
      "----------------------------------------\n",
      "출처: c:\\ITStudy\\Project\\TechSeminar_Public\\by_book\\data\\우리 청년도약대출(새희망홀씨Ⅱ).pdf\n",
      "----------------------------------------\n",
      "출처: c:\\ITStudy\\Project\\TechSeminar_Public\\by_book\\data\\디딤돌대출_업무처리기준.pdf\n",
      "----------------------------------------\n",
      "출처: c:\\ITStudy\\Project\\TechSeminar_Public\\by_book\\data\\bogeum_guidline.pdf\n",
      "----------------------------------------\n",
      "출처: c:\\ITStudy\\Project\\TechSeminar_Public\\by_book\\data\\디딤돌대출_업무처리기준.pdf\n",
      "----------------------------------------\n",
      "출처: c:\\ITStudy\\Project\\TechSeminar_Public\\by_book\\data\\bogeum_guidline.pdf\n",
      "----------------------------------------\n"
     ]
    }
   ],
   "source": [
    "retriever = vectorstore.as_retriever(search_kwargs={'k': 10})\n",
    "# k를 3개에서 10개로 변경 -> 7\n",
    "\n",
    "docs = retriever.invoke(question_for_vectordb)\n",
    "# print(type(docs))\n",
    "# print(docs)\n",
    "formatted_context = format_docs_with_source_as_documents(docs)\n",
    "\n",
    "for d in formatted_context:\n",
    "    print(\"출처:\", d.metadata[\"source\"])\n",
    "    # print(d.metadata[\"source\"])\n",
    "    # print(d)\n",
    "    print(\"-\" * 40) \n",
    "\n",
    "vector_db_safe = VECTOR_DB.replace(\"/\", \"_\")\n",
    "llm_model_safe = LLM_MODEL.replace(\"/\", \"_\")\n",
    "\n",
    "with open(f\"./results/context_docs_{splitter_name}_{EB_MODEL}_{vector_db_safe}_{llm_model_safe}.txt\", \"w\", encoding=\"utf-8\") as f:\n",
    "    for i, item in enumerate(formatted_context):\n",
    "        f.write(f\"Document {i + 1}:\\n\\n\")\n",
    "        f.write(str(item) + \"\\n\\n\")\n",
    "        f.write(\"---------\\n\\n\")"
   ]
  },
  {
   "cell_type": "markdown",
   "id": "0d2d8a83",
   "metadata": {},
   "source": [
    "### 생성된 context로 LLM 답변하기"
   ]
  },
  {
   "cell_type": "code",
   "execution_count": 39,
   "id": "69df40c4",
   "metadata": {},
   "outputs": [
    {
     "name": "stdout",
     "output_type": "stream",
     "text": [
      "|분류|종류|\n",
      "|---|---|\n",
      "|청킹 방법| recursive |\n",
      "|임베딩 모델| text-embedding-3-large |\n",
      "|벡터 DB| chroma_store |\n",
      "|LLM 모델| gpt-oss-120b |\n",
      "\n",
      "답변 : \n",
      "**간단 요약**  \n",
      "| 신청인 | 가능한 대출상품 | 주요 조건 | 대출한도 | 금리·우대 | 비고 |\n",
      "|---|---|---|---|---|---|\n",
      "| 군인 (중사 이상, 3년 근속) | **군인우대 대출** | ‑ 우리은행 급여이체 · ‘군인생활안정자금 대출 추천서’ 필요<br>‑ CB 7구간 이상 | 퇴직급여예상액의 1/2 ≤ 5 천만원 (최대 5 천만원) | 기본금리 + 최대 0.2%p 우대(‘우리국군사랑 협약’) | 퇴직금 연계·신용대출(담보 없음) |\n",
      "| 직장인 (연소득 ≥ 3,000만원, 재직 ≥ 1년) | **우리 주거래 직장인대출** | ‑ 우리은행 급여·자동이체·우리카드 보유(주거래 요건)<br>‑ CB 7(+) 구간 이하 제외 | 최대 2 억 원 (※2,000만원 이내는 퇴직급여예상액 범위 내) | 기본금리 + 최대 0.7%p 우대(급여·카드 실적) | 신용·담보대출(담보 없음) |\n",
      "\n",
      "---\n",
      "\n",
      "### 상세 설명\n",
      "\n",
      "#### 1️⃣ 군인우대 대출\n",
      "- **대상**: 현역 군인 중 ‘중사’ 이상이며, 3년 이상 복무하고 우리은행에 급여를 이체하는 경우. 타행 군인생활안정자금 대환도 가능하나 급여이체 예정자 조건 필요.  \n",
      "- **필요 서류**: 재직증명서(복무확인서), 소득자료(원천징수영수증 등), ‘군인생활안정자금 대출 추천서’(국군재정관리단 발행), 신분증 등.  \n",
      "- **대출한도**: 개인별 퇴직급여예상액의 1/2 범위 내에서 **최대 5 천만원**(퇴직금 연계).  \n",
      "- **상환 방식**: 만기일시상환 또는 원·리 금균등분할상환 가능.  \n",
      "- **우대금리**: ‘우리국군사랑 협약 부대원’에 대해 연 **0.2%p** 우대(조건에 따라 매월 재산정).  \n",
      "- **비고**: 담보는 신용취급이며, 인지세는 5천만원 이하라면 면제. 중도상환해약금은 3년 경과·만기 3개월 이내면 면제.\n",
      "\n",
      "#### 2️⃣ 우리 주거래 직장인대출\n",
      "- **대상**: 연소득 **3,000만원 이상**(주거래 요건 충족 시 2,000만원 이상 가능)이며, 재직 **1년 이상**인 직장인. 또한 **우리은행 급여이체·자동이체·우리카드 보유**가 모두 충족되어야 함. CB 7(+) 구간 이하인 고객은 제외.  \n",
      "- **필요 서류**: 재직증명서, 급여이체 확인서, 우리카드 사용실적(월 30만원 이상) 등.  \n",
      "- **대출한도**: **최대 2억 원** (단, 2,000만원 이내는 퇴직급여예상액 범위 내).  \n",
      "- **상환 방식**: 원·리 금균등분할상환이 기본이며, 필요 시 만기일시상환도 가능.  \n",
      "- **우대금리**: 급여이체 실적에 따라 연 **0.4%p**, 카드 결제 실적에 따라 연 **0.3%p**까지 총 **0.7%p**까지 우대 가능(조건 충족 시).  \n",
      "- **비고**: 담보는 별도 제공되지 않으며(100% 신용대출). 인지세는 5천만원 이하라면 전액 면제, 중도상환해약금도 면제.\n",
      "\n",
      "#### 3️⃣ 두 분이 동시에 활용 가능 여부\n",
      "- **별도 신청**: 군인과 직장인 각각 위 조건에 맞춰 별도로 신청할 수 있습니다.  \n",
      "- **공동 대출**: 현재 제시된 문서에는 부부·가구 기준 공동 대출 상품에 대한 내용이 없으므로, 개별 대출을 먼저 고려하고, 추가 필요 시 영업점에서 맞춤 상담을 받는 것이 좋습니다.  \n",
      "\n",
      "#### 4️⃣ 유의사항\n",
      "- **신용점수(CB) 구간**: 두 상품 모두 CB 7구간 이상(군인우대는 “CB 7구간 이상” 등)이어야 하며, 은행 내부 심사에 따라 대출이 거절될 수 있습니다.  \n",
      "- **우대조건 충족 여부**: 우대금리는 ‘금융자산정보 수집 동의’ 등 추가 조건에 따라 달라질 수 있으니, 영업점이나 고객센터(1588‑5000, 1599‑5000)에서 최종 확인이 필요합니다.  \n",
      "- **서류 준비**: 군인우대는 ‘군인생활안정자금 대출 추천서’가 반드시 필요하며, 직장인 대출은 급여·자동이체·카드 실적 확인서가 요구됩니다.\n",
      "\n",
      "**추천 순서**  \n",
      "1. **군인우대 대출** – 퇴직금 연계·상한액이 크고 우대금리 적용 가능.  \n",
      "2. **우리 주거래 직장인대출** – 높은 대출한도(최대 2억)와 최대 0.7%p 우대금리 혜택.  \n",
      "\n",
      "두 대출을 동시에 이용하면 가계 유동성을 크게 확보할 수 있으니, 각 상품의 상세 금리·수수료는 영업점 또는 고객센터에서 최종 확인 후 신청하시기 바랍니다.\n",
      "\n",
      "**출처**  \n",
      "- 우리 군인우대 대출.pdf (전체) “군인 퇴직금 대출 : 개인별 퇴직급여예상액의 1/2 범위 내에서 5천만원 이내”  \n",
      "- 우리 주거래 직장인대출.pdf (전체) “대출한도 【최대 2억원】” 및 “우대금리 【우대금리 최대 연 0.7%p 제공】”\n",
      "\n",
      "**키워드** : (군인우대 대출, 직장인 대출, 대출한도, 우대금리, 신용점수)\n",
      "\n",
      "\n",
      "----------------------------------------\n"
     ]
    }
   ],
   "source": [
    "from langchain.memory import ChatMessageHistory\n",
    "\n",
    "chat_history = ChatMessageHistory()\n",
    "\n",
    "chat_history.add_user_message(question)\n",
    "\n",
    "answer = document_chain.invoke(\n",
    "    {\n",
    "        \"messages\": chat_history.messages,\n",
    "        \"context\": formatted_context,\n",
    "    }\n",
    ")\n",
    "\n",
    "chat_history.add_ai_message(answer)\n",
    "\n",
    "print(\"|분류|종류|\")\n",
    "print(\"|---|---|\")\n",
    "print(\"|청킹 방법|\", splitter_name, \"|\")\n",
    "print(\"|임베딩 모델|\", EB_MODEL, \"|\")\n",
    "print(\"|벡터 DB|\", VECTOR_DB, \"|\")\n",
    "print(\"|LLM 모델|\", LLM_MODEL, \"|\\n\")\n",
    "\n",
    "print(\"답변 : \")\n",
    "\n",
    "print(answer)\n",
    "\n",
    "print(\"\\n\")\n",
    "print(\"-\" * 40)"
   ]
  },
  {
   "cell_type": "markdown",
   "id": "b718a5ba",
   "metadata": {},
   "source": [
    "### langchain 안걸리는 gpt-oss-120b"
   ]
  },
  {
   "cell_type": "code",
   "execution_count": null,
   "id": "5edbba4a",
   "metadata": {},
   "outputs": [
    {
     "name": "stdout",
     "output_type": "stream",
     "text": [
      "|분류|종류|\n",
      "|---|---|\n",
      "|청킹 방법| recursive |\n",
      "|임베딩 모델| text-embedding-3-large |\n",
      "|벡터 DB| chroma_store |\n",
      "|LLM 모델| gpt-oss-120b |\n",
      "\n",
      "답변 : \n",
      "**요약**  \n",
      "- 군인 + 직장인 부부가 각각 **‘군인우대 대출’** 과 **‘우리 주거래 직장인대출’** 을 신청할 수 있습니다.  \n",
      "- 군인 우대 대출은 퇴직금·퇴직수당 예측액의 ½ 이내(최대 5,000만원)이며, 직장인 대출은 연소득·근속 요건을 만족하면 **최대 2억 원**까지 한도 가능합니다.  \n",
      "- 두 상품 모두 연 12 % 이하의 금리와 최대 **연 0.7 %p**(급여이체 0.4 %p + 우리카드 0.3 %p) 우대가 적용됩니다.  \n",
      "\n",
      "---  \n",
      "\n",
      "### 대출가능 상품 비교표  \n",
      "\n",
      "| 구분 | 신청조건 | 대출한도 | 금리·우대 | 주요 절차·서류 |\n",
      "|------|----------|----------|-----------|----------------|\n",
      "| **군인우대 대출** | • 3년 이상 복무, ‘중사’ 이상 계급 <br>• 우리은행 급여이체 중인 현역 군인 <br>• 국군재정관리단 추천서 필요 <br>• CB 7구간 이상(내부심사에 따라 차등) | • 퇴직급여예상액 ½ 이내, 최대 **5,000만원** <br>• 추가 신용대출 가능 (CSS모형 기반) | • 최고 금리 12 % (연체 + 3 %) <br>• 우대금리 최대 **연 0.7 %p** (급여이체 0.4 %p + 우리카드 0.3 %p) | • 재직증명서(복무확인서)·소득자료·퇴직금대출 추천서·신분증 등 |\n",
      "| **우리 주거래 직장인대출** | • 연소득 3,000만원 ≥ 및 근속 1년 ≥ (또는 연 2,000만원 ≥ · 근속 3개월 ≥ + 우리은행 주거래 요건) <br>• CB 7(+) 구간 이하 제외 | **최대 2억 원** (우리은행 승인 한도 내) | • 최고 금리 12 % (연체 + 3 %) <br>• 우대금리 최대 **연 0.7 %p** (급여이체 0.4 %p + 우리카드 0.3 %p) | • 재직증명서·소득증빙·우리은행 급여·자동이체·우리카드·신분증 등 |\n",
      "| **공통점** | • 모두 우리은행 주거래(급여·자동이체·카드) 우대 적용 <br>• 신용평점·CB구간에 따라 심사 차등 | – | • 금리·우대 모두 변동·고정 선택 가능 <br>• 중도상환수수료 0.04 %p | – |\n",
      "\n",
      "**출처**  \n",
      "- 우리 군인우대 대출.pdf (p.1‑3) – “대출대상 • 3년 이상 복무한 ‘중사’…”, “대출한도 최대 5천만원…”, “우대금리 최대 연 0.7 %p 제공”(※)  \n",
      "- 우리 주거래 직장인대출.pdf (p.1) – “대출대상 • 근로소득 3천만원 이상…”, “대출한도 최대 2억원”, “우대금리 최대 연 0.7 %p”(※)  \n",
      "\n",
      "---  \n",
      "\n",
      "### 상세 답변  \n",
      "\n",
      "1. **군인 우대 대출**  \n",
      "   - 귀하 중 군인인 분이 **‘중사’ 이상**이며 3년 이상 복무하고, 급여가 우리은행에 이체되고 있다면 **퇴직금예상액의 ½** 범위(최대 5,000만원)까지 대출이 가능합니다.  \n",
      "   - 추가로 기존 퇴직금대출을 받았을 경우에는 CSS 모형을 적용한 **추가 신용대출**도 가능하니, 필요 시 상담 바랍니다.  \n",
      "   - 우대금리는 **연 0.4 %p**(급여이체)와 **연 0.3 %p**(우리카드 결제) 합산 **연 0.7 %p**까지 적용됩니다.  \n",
      "\n",
      "2. **직장인 대출**  \n",
      "   - 직장인인 배우자는 연소득 3,800만원(총 6,800만원 중 절반 이상)이며, 1년 이상 재직 중이라면 **‘우리 주거래 직장인대출’**의 기본 요건을 만족합니다.  \n",
      "   - 신용평점이 CB 7 구간 이하이면 **최대 2억원**까지 한도를 신청할 수 있으며, 금리는 최고 **연 12 %**(연체 + 3 %)이며, 급여이체·우리카드 실적에 따라 **연 0.7 %p**까지 우대받을 수 있습니다.  \n",
      "\n",
      "3. **동시에 신청 가능 여부**  \n",
      "   - 두 대출은 **신청인(군인, 직장인) 각각의 신분·조건**에 기반하므로 **동시에 별도**로 신청이 가능합니다. 다만, 총 부채비율(DTI) 등 은행 내부 심사에서 전체 부채 규모를 고려하므로, **대출 총액이 연소득·DTI 기준**(예: DTI 60 %)을 초과하지 않도록 주의가 필요합니다.  \n",
      "\n",
      "4. **추천 행동**  \n",
      "   - **군인우대 대출**: 국군재정관리단에서 ‘군인생활안정자금 대출 추천서’를 발급받고, 재직증명서·소득자료·신분증을 준비해 우리은행 영업점에 방문.  \n",
      "   - **직장인 대출**: 급여이체·자동이체·우리카드 실적을 확인하고, 재직증명서·소득증빙(원천징수 영수증 등)을 준비해 상담.  \n",
      "\n",
      "> **결론** – 귀하 부부는 군인 우대 대출(최대 5천만원)과 직장인 대출(최대 2억 원) 두 가지를 각각 이용할 수 있으며, 급여이체·우리카드 실적에 따라 **연 0.7 %p**까지 금리우대를 받을 수 있습니다.  \n",
      "\n",
      "---  \n",
      "\n",
      "**키워드** : 군인우대 대출, 직장인대출, 연소득 6,800만원, 대출한도, 우대금리, CB 구간, 급여이체, 우리은행  \n",
      "\n",
      "---  \n",
      "\n",
      "**※** 인용문은 원문 20자 이내 발췌 후 “...” 로 표시했습니다.  \n",
      "\n",
      "\n",
      "----------------------------------------\n"
     ]
    }
   ],
   "source": [
    "from openai import OpenAI\n",
    "from langchain_openai import ChatOpenAI\n",
    "\n",
    "load_dotenv()\n",
    "HF_API_KEY = os.getenv(\"HF_API_KEY\")\n",
    "client = OpenAI(\n",
    "    base_url=\"https://router.huggingface.co/v1\",\n",
    "    api_key=HF_API_KEY\n",
    ")\n",
    "\n",
    "# print(formatted_context)\n",
    "summary_completion = client.chat.completions.create(\n",
    "    model=\"openai/gpt-oss-120b\",\n",
    "    messages=[{\n",
    "        \"role\": \"user\", \n",
    "        \"content\": f\"You are an assistant for question-answering tasks. Use the following pieces of retrieved context to answer the question. If you don't know the answer, just say that you don't know. you should user performed_context. You should consider all of special situation and general situation. If the 'perforemd_context' is null, you just say 'it is empyt'. Please write your answer in a markdown table format with the main points. Be sure to include all your source and page numbers like (3 ~ 10) in your answer. If you have over one source, you should include all of them. Answer in Korean. Also please write the keywords on user question that you think. \\n#Example Format: \\n(brief summary of the answer) \\n (table) \\n  (detailed answer to the question) \\n**출처** \\n- (file source) (page source and page number) (Please write the quoted text within 20 characters and follow it with ... )\\n\\n 키워드 : (keywords)\\n #Context: {formatted_context} the question is {question}\",\n",
    "        # \"You are an assistant for question-answering tasks. Use the following pieces of retrieved context to answer the question. If you don't know the answer, just say that you don't know. you should user performed_context. You should consider all of special situation and general situation. If the 'perforemd_context' is null, you just say 'it is empyt'. Please write your answer in a markdown table format with the main points. Be sure to include all your source and page numbers like (3 ~ 10) in your answer. If you have over one source, you should include all of them. Answer in Korean. Also please write the keywords on user question that you think. \\n#Example Format: \\n(brief summary of the answer) \\n (table) \\n  (detailed answer to the question) \\n**출처** \\n- (file source) (page source and page number) (Please write the quoted text within 20 characters and follow it with ... )\\n\\n 키워드 : (keywords)\\n #Context: {formatted_context}. The question is : {question}\"\n",
    "        }],\n",
    ")\n",
    "\n",
    "print(\"|분류|종류|\")\n",
    "print(\"|---|---|\")\n",
    "print(\"|청킹 방법|\", splitter_name, \"|\")\n",
    "print(\"|임베딩 모델|\", EB_MODEL, \"|\")\n",
    "print(\"|벡터 DB|\", VECTOR_DB, \"|\")\n",
    "print(\"|LLM 모델|\", \"gpt-oss-120b\", \"|\\n\")\n",
    "\n",
    "print(\"답변 : \")\n",
    "\n",
    "print(summary_completion.choices[0].message.content)\n",
    "\n",
    "print(\"\\n\")\n",
    "print(\"-\" * 40)\n",
    "\n",
    "vector_db_safe = VECTOR_DB.replace(\"/\", \"_\")\n",
    "llm_model_safe = LLM_MODEL.replace(\"/\", \"_\")\n",
    "\n",
    "with open(f\"./results/context_docs_{splitter_name}_{EB_MODEL}_{vector_db_safe}_{llm_model_safe}.txt\", \"a\", encoding=\"utf-8\") as f:\n",
    "    f.write(\"\\n###############################\\n\")\n",
    "    f.write(\"\\n##########  Results  ##########\\n\")\n",
    "    f.write(\"\\n###############################\\n\")\n",
    "    f.write(summary_completion.choices[0].message.content + \"\\n\")"
   ]
  },
  {
   "cell_type": "markdown",
   "id": "58ad6218",
   "metadata": {},
   "source": [
    "## context 사용 없이 질문을 받았을 경우"
   ]
  },
  {
   "cell_type": "code",
   "execution_count": null,
   "id": "30e9039a",
   "metadata": {},
   "outputs": [],
   "source": [
    "\n",
    "from openai import OpenAI\n",
    "from langchain_openai import ChatOpenAI\n",
    "\n",
    "load_dotenv()\n",
    "HF_API_KEY = os.getenv(\"HF_API_KEY\")\n",
    "client = OpenAI(\n",
    "    base_url=\"https://router.huggingface.co/v1\",\n",
    "    api_key=HF_API_KEY\n",
    ")\n",
    "# print(formatted_context)\n",
    "summary_completion = client.chat.completions.create(\n",
    "    model=\"openai/gpt-oss-120b\",\n",
    "    messages=[{\n",
    "        \"role\": \"user\", \n",
    "        \"content\": f\"You are an assistant for question-answering tasks. Please keep the answer under 500 characters. Please write your answer in a markdown table format with the main points.  Answer in Korean. \\n#Example Format: \\n(brief summary of the answer) \\n (table) \\n  (detailed answer to the question) \\n**출처** \\n- (file source) (page source and page number and correct full url) (Please write the quoted text within 20 characters and follow it with ... )\\n The question is : {question}\"\n",
    "        }],\n",
    ")\n",
    "print(\"\\n청킹 방법\", \"context 사용 없음\")\n",
    "print(\"임베딩 모델\", \"context 사용 없음\")\n",
    "print(\"LLM 모델\", \"openai/gpt-oss-120b\")\n",
    "print(\"벡터 DB\", \"사용 없음\")\n",
    "\n",
    "print(\"답변 : \")\n",
    "print(\"-\" * 40)\n",
    "print(summary_completion.choices[0].message.content)"
   ]
  },
  {
   "cell_type": "markdown",
   "id": "1c3b1b86",
   "metadata": {},
   "source": [
    "## 질의 확장 구현\n",
    "- 챗본으로 만들 경우 첫번째 질문을 이어 받아서 두번째 질문도 답변을 해야하니 질의 확장에 대한 기능이다. (필수 x)"
   ]
  },
  {
   "cell_type": "code",
   "execution_count": null,
   "id": "565825aa",
   "metadata": {},
   "outputs": [],
   "source": [
    "from langchain_core.output_parsers import StrOutputParser\n",
    "\n",
    "query_for_other = \"3천만원 일때는?\"\n",
    "\n",
    "query_augmentation_prompt = ChatPromptTemplate.from_messages(\n",
    "    [\n",
    "        MessagesPlaceholder(variable_name=\"messages\"),\n",
    "        (\n",
    "            \"system\",\n",
    "            \"기존의 대화 내용을 활용하여 사용자가 질문한 의도를 파악해서 한 문장의 명료한 질문으로 변환하라. 대명사나 이, 저, 그와 같은 표현을 명확한 명사로 표현하라. : \\n\\n{query}\",\n",
    "        ),\n",
    "    ]\n",
    ")\n",
    "query_augmentation_chain = query_augmentation_prompt | chat | StrOutputParser()\n",
    "\n",
    "augmented_query = query_augmentation_chain.invoke(\n",
    "    {\n",
    "        \"messages\": chat_history.messages,\n",
    "        \"query\": query_for_other,\n",
    "    }\n",
    ")\n",
    "\n",
    "print(augmented_query)"
   ]
  },
  {
   "cell_type": "code",
   "execution_count": null,
   "id": "2076f592",
   "metadata": {},
   "outputs": [],
   "source": [
    "docs_other = retriever.invoke(augmented_query)\n",
    "# print(type(docs))\n",
    "# print(docs)\n",
    "formatted_context_other = format_docs_with_source_as_documents(docs_other)\n",
    "\n",
    "chat_history.add_user_message(query_for_other)\n",
    "\n",
    "answer = document_chain.invoke(\n",
    "    {\n",
    "        \"messages\": chat_history.messages,\n",
    "        \"context\": formatted_context_other,\n",
    "    }\n",
    ")\n",
    "\n",
    "chat_history.add_ai_message(answer)\n",
    "\n",
    "print(\"질문:\", query_for_other)\n",
    "print(\"답변:\")\n",
    "print(\"-\" * 40)\n",
    "print(answer)\n",
    "\n",
    "print(\"\\n청킹 방법\", splitter_name)\n",
    "print(\"임베딩 모델\", EB_MODEL)\n",
    "print(\"LLM 모델\", LLM_MODEL)"
   ]
  }
 ],
 "metadata": {
  "kernelspec": {
   "display_name": ".venv",
   "language": "python",
   "name": "python3"
  },
  "language_info": {
   "codemirror_mode": {
    "name": "ipython",
    "version": 3
   },
   "file_extension": ".py",
   "mimetype": "text/x-python",
   "name": "python",
   "nbconvert_exporter": "python",
   "pygments_lexer": "ipython3",
   "version": "3.10.11"
  }
 },
 "nbformat": 4,
 "nbformat_minor": 5
}
