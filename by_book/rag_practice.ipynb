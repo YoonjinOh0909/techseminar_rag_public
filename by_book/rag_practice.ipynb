{
 "cells": [
  {
   "cell_type": "markdown",
   "id": "5801b44f",
   "metadata": {},
   "source": [
    "# data에 있는 모든 문서 추출하기\n",
    "- chroma_store가 없을 경우 data 폴더에 있는 pdf 파일들을 읽어서 벡터 DB에 저장 하기 위한 과정"
   ]
  },
  {
   "cell_type": "code",
   "execution_count": 17,
   "id": "b46fcefc",
   "metadata": {},
   "outputs": [],
   "source": [
    "from langsmith import utils\n",
    "utils.get_env_var.cache_clear()"
   ]
  },
  {
   "cell_type": "code",
   "execution_count": 13,
   "id": "a8a10725",
   "metadata": {},
   "outputs": [],
   "source": [
    "# pip install dotenv\n",
    "import os\n",
    "from dotenv import load_dotenv\n",
    "\n",
    "load_dotenv()\n",
    "LANGSMITH_API_KEY = os.getenv(\"LANGSMITH_API_KEY\")\n",
    "OPENAI_API_KEY = os.getenv(\"OPENAI_API_KEY\")\n",
    "os.environ[\"LANGCHAIN_TRACING_V2\"] = \"true\"\n",
    "os.environ[\"LANGCHAIN_ENDPOINT\"] = \"https://api.smith.langchain.com\" # 이건 그대로\n",
    "os.environ[\"LANGCHAIN_API_KEY\"] = LANGSMITH_API_KEY # 이거 API키 받은거\n",
    "os.environ[\"LANGCHAIN_PROJECT\"] = \"lm-studio-rag-tracing\"  # 프로젝트 이름 설정(아무거나 해도됨)\n",
    "os.environ[\"OPENAI_API_KEY\"] = OPENAI_API_KEY"
   ]
  },
  {
   "cell_type": "markdown",
   "id": "6f84d850",
   "metadata": {},
   "source": [
    "### 기본 방법 선택하기"
   ]
  },
  {
   "cell_type": "code",
   "execution_count": 83,
   "id": "33c88d4b",
   "metadata": {},
   "outputs": [],
   "source": [
    "# 청킹 방법\n",
    "splitter_name = \"semantic\" # recursive, semantic\n",
    "\n",
    "# LLM 모델\n",
    "LLM_MODEL = \"gpt-4o-mini\" # gpt-4o-mini, openai/gpt-oss-120b\n",
    "\n",
    "# 벡터 DB\n",
    "VECTOR_DB = \"faiss_index\" # chroma_store, faiss_index\n",
    "\n",
    "# 임베딩 모델\n",
    "# EB_MODEL = \"text-embedding-3-large\" # text-embedding-3-large -> 아래 임베딩 모델 섹션에서 설정\n",
    "\n"
   ]
  },
  {
   "cell_type": "markdown",
   "id": "00a5b1e0",
   "metadata": {},
   "source": [
    "## 임베딩 모델 설정하기\n",
    "- 섹션이 바뀌기 전까지 셀 중 한가지 선택해서 사용."
   ]
  },
  {
   "cell_type": "markdown",
   "id": "7f3fe06d",
   "metadata": {},
   "source": [
    "### OpenAI Embeddings"
   ]
  },
  {
   "cell_type": "code",
   "execution_count": 108,
   "id": "cbee21fe",
   "metadata": {},
   "outputs": [],
   "source": [
    "# OpenAI Embeddings : text-embedding-3-large\n",
    "# pip install langchain_openai\n",
    "from langchain_openai import OpenAIEmbeddings\n",
    "\n",
    "# 의미 기반으로 청킹을 하기 위해 OpenAI의 임베딩 모델을 사용\n",
    "OPENAI_API_KEY = os.getenv(\"OPENAI_API_KEY\")\n",
    "EB_MODEL = \"text-embedding-3-large\" # text-embedding-3-large\n",
    "embedding = OpenAIEmbeddings(model=EB_MODEL, api_key=OPENAI_API_KEY)"
   ]
  },
  {
   "cell_type": "markdown",
   "id": "0663e78c",
   "metadata": {},
   "source": [
    "### HuggingFaceEmbddings (local 저장)"
   ]
  },
  {
   "cell_type": "code",
   "execution_count": 91,
   "id": "0c2af919",
   "metadata": {},
   "outputs": [
    {
     "name": "stdout",
     "output_type": "stream",
     "text": [
      "임베딩 벡터 길이: 768\n",
      "임베딩 벡터 일부: [0.11608216911554337, -0.2838129997253418, 0.600308895111084, -0.2887226939201355, 0.6230913400650024]\n"
     ]
    }
   ],
   "source": [
    "# 로컬에 저장해서 사용하는거라 api key가 필요없음\n",
    "# HuggingFaceEmbeddings : sentence-transformers/stsb-xlm-r-multilingual\n",
    "\n",
    "# pip install langchain sentence-transformers langchain-community\n",
    "from langchain_community.embeddings import HuggingFaceEmbeddings\n",
    "\n",
    "# HuggingFace 임베딩 클래스 이용\n",
    "EB_MODEL = \"stsb-xlm-r-multilingual\" # stsb-xlm-r-multilingual\n",
    "embedding = HuggingFaceEmbeddings(model_name=EB_MODEL)\n",
    "\n",
    "# 단일 텍스트 임베딩 생성\n",
    "sample_text = \"금융권 문서 임베딩 예제\"\n",
    "embedding_vector = embedding.embed_query(sample_text)\n",
    "\n",
    "print(\"임베딩 벡터 길이:\", len(embedding_vector))\n",
    "print(\"임베딩 벡터 일부:\", embedding_vector[:5])\n"
   ]
  },
  {
   "cell_type": "markdown",
   "id": "491f0168",
   "metadata": {},
   "source": [
    "### Hugginface embeddings (multilinual-e5)"
   ]
  },
  {
   "cell_type": "code",
   "execution_count": 97,
   "id": "a6257139",
   "metadata": {},
   "outputs": [
    {
     "name": "stdout",
     "output_type": "stream",
     "text": [
      "임베딩 벡터 길이: 1024\n",
      "임베딩 벡터 일부: [0.02028062380850315, 0.00727831618860364, -0.001797395758330822, -0.037471067160367966, 0.013377872295677662]\n"
     ]
    }
   ],
   "source": [
    "# pip install langchain_huggingface\n",
    "from langchain_huggingface.embeddings import HuggingFaceEndpointEmbeddings\n",
    "\n",
    "EB_MODEL = \"intfloat/multilingual-e5-large-instruct\"  # multilingual-e5-large, multilingual-e5-large-instruct\n",
    "model_name = EB_MODEL\n",
    "\n",
    "HF_API_KEY = os.getenv(\"HF_API_KEY\")\n",
    "\n",
    "embedding = HuggingFaceEndpointEmbeddings(\n",
    "    model=model_name,\n",
    "    task=\"feature-extraction\",\n",
    "    huggingfacehub_api_token=HF_API_KEY,\n",
    ")\n",
    "\n",
    "# 단일 텍스트 임베딩 생성\n",
    "sample_text = \"금융권 문서 임베딩 예제\"\n",
    "embedding_vector = embedding.embed_query(sample_text)\n",
    "\n",
    "print(\"임베딩 벡터 길이:\", len(embedding_vector))\n",
    "print(\"임베딩 벡터 일부:\", embedding_vector[:5])"
   ]
  },
  {
   "cell_type": "markdown",
   "id": "49b91604",
   "metadata": {},
   "source": [
    "### Google Gemini Embeddings\n",
    "- *호환성 문제로 genai 는 사용하지 않도록 한다.*"
   ]
  },
  {
   "cell_type": "code",
   "execution_count": null,
   "id": "471043c8",
   "metadata": {},
   "outputs": [
    {
     "name": "stdout",
     "output_type": "stream",
     "text": [
      "임베딩 벡터 길이: 768\n",
      "임베딩 벡터 일부: [-0.017458646, 0.023586035, 0.0074004014, -0.09534135, 0.011647189]\n"
     ]
    }
   ],
   "source": [
    "# # pip install genai google google.genai\n",
    "# from langchain.embeddings.base import Embeddings\n",
    "# from google import genai\n",
    "# from google.genai.types import EmbedContentConfig\n",
    "\n",
    "# api_key = os.getenv(\"GC_API_KEY\")\n",
    "\n",
    "# client = genai.Client(api_key=api_key)\n",
    "# EB_MODEL = \"gemini-embedding-001\"  # Google Cloud 임베딩 모델\n",
    "# def call_google_cloud_embedding_api(text):\n",
    "#     response = client.models.embed_content(\n",
    "#         model=EB_MODEL,\n",
    "#         contents=text,\n",
    "#         config=EmbedContentConfig(\n",
    "#             task_type=\"RETRIEVAL_DOCUMENT\",\n",
    "#             output_dimensionality=768\n",
    "#         )\n",
    "#     )\n",
    "#     return response.embeddings[0].values\n",
    "\n",
    "# class GoogleCloudEmbeddings(Embeddings):\n",
    "#     def embed_documents(self, texts):\n",
    "#         # Google Cloud 임베딩 API 호출 코드\n",
    "#         # texts 리스트를 임베딩 벡터 리스트로 반환\n",
    "#         embeddings = []\n",
    "#         for text in texts:\n",
    "#             embedding_vector = call_google_cloud_embedding_api(text)\n",
    "#             embeddings.append(embedding_vector)\n",
    "#         return embeddings\n",
    "\n",
    "#     def embed_query(self, text):\n",
    "#         return call_google_cloud_embedding_api(text)\n",
    "\n",
    "# # 생성\n",
    "# embedding = GoogleCloudEmbeddings()\n",
    "\n",
    "# sample_text = \"금융권 문서 임베딩 예제\"\n",
    "# embedding_vector = embedding.embed_query(sample_text)\n",
    "\n",
    "# print(\"임베딩 벡터 길이:\", len(embedding_vector))\n",
    "# print(\"임베딩 벡터 일부:\", embedding_vector[:5])\n"
   ]
  },
  {
   "cell_type": "markdown",
   "id": "88a09bcc",
   "metadata": {},
   "source": [
    "### KF-DeBERTa embedding 모델"
   ]
  },
  {
   "cell_type": "code",
   "execution_count": 102,
   "id": "ef909454",
   "metadata": {},
   "outputs": [
    {
     "name": "stdout",
     "output_type": "stream",
     "text": [
      "임베딩 벡터 길이: 768\n",
      "임베딩 벡터 일부: [ 0.84986967 -0.74095684  0.1062606  -0.3817094   0.35903543]\n"
     ]
    }
   ],
   "source": [
    "from langchain.embeddings.base import Embeddings\n",
    "from transformers import AutoTokenizer, AutoModel\n",
    "import torch\n",
    "\n",
    "EB_MODEL = \"kakaobank/kf-deberta-base\"  # KF-DeBERTa 모델 이름\n",
    "# KF-DeBERTa 임베딩 래퍼 정의\n",
    "class KFDeBERTaEmbeddings(Embeddings):\n",
    "    def __init__(self, model_name=EB_MODEL):\n",
    "        self.tokenizer = AutoTokenizer.from_pretrained(model_name)\n",
    "        self.model = AutoModel.from_pretrained(model_name)\n",
    "        self.device = \"cuda\" if torch.cuda.is_available() else \"cpu\"\n",
    "        self.model.to(self.device)\n",
    "\n",
    "    def embed_documents(self, texts):\n",
    "        return [self.embed_query(text) for text in texts]\n",
    "\n",
    "    def embed_query(self, text):\n",
    "        inputs = self.tokenizer(text, return_tensors=\"pt\", truncation=True, max_length=512, padding=True)\n",
    "        inputs = {k: v.to(self.device) for k, v in inputs.items()}\n",
    "        with torch.no_grad():\n",
    "            outputs = self.model(**inputs)\n",
    "            attention_mask = inputs[\"attention_mask\"]\n",
    "            token_embeddings = outputs.last_hidden_state\n",
    "            input_mask_expanded = attention_mask.unsqueeze(-1).expand(token_embeddings.size()).float()\n",
    "            embedding = torch.sum(token_embeddings * input_mask_expanded, 1) / torch.clamp(input_mask_expanded.sum(1), min=1e-9)\n",
    "        return embedding[0].cpu().numpy()\n",
    "\n",
    "# 생성\n",
    "embedding = KFDeBERTaEmbeddings()\n",
    "\n",
    "sample_text = \"금융권 문서 임베딩 예제\"\n",
    "embedding_vector = embedding.embed_query(sample_text)\n",
    "\n",
    "print(\"임베딩 벡터 길이:\", len(embedding_vector))\n",
    "print(\"임베딩 벡터 일부:\", embedding_vector[:5])"
   ]
  },
  {
   "cell_type": "markdown",
   "id": "4f97b62b",
   "metadata": {},
   "source": [
    "### bge-m3 Embedding model"
   ]
  },
  {
   "cell_type": "code",
   "execution_count": 113,
   "id": "f065864c",
   "metadata": {},
   "outputs": [],
   "source": [
    "from langchain.embeddings import HuggingFaceEmbeddings\n",
    "from langchain.vectorstores import FAISS\n",
    "from langchain.text_splitter import RecursiveCharacterTextSplitter\n",
    "\n",
    "EB_MODEL = \"BAAI/bge-m3\"\n",
    "# 임베딩 모델 생성\n",
    "embedding = HuggingFaceEmbeddings(\n",
    "    model_name=EB_MODEL,\n",
    "    model_kwargs={\"device\": \"cpu\"},  # GPU 사용 시\n",
    "    encode_kwargs={\"normalize_embeddings\": True}\n",
    ")\n",
    "\n",
    "# sample_text = \"금융권 문서 임베딩 예제\"\n",
    "# embedding_vector = embedding.embed_query(sample_text)\n",
    "\n",
    "# print(\"임베딩 벡터 길이:\", len(embedding_vector))\n",
    "# print(\"임베딩 벡터 일부:\", embedding_vector[:5])"
   ]
  },
  {
   "cell_type": "markdown",
   "id": "c21b1441",
   "metadata": {},
   "source": [
    "## 청킹 방법 설정하기"
   ]
  },
  {
   "cell_type": "markdown",
   "id": "d93116c7",
   "metadata": {},
   "source": [
    "### splitter 설정"
   ]
  },
  {
   "cell_type": "code",
   "execution_count": 114,
   "id": "5e0503fe",
   "metadata": {},
   "outputs": [
    {
     "name": "stdout",
     "output_type": "stream",
     "text": [
      "<langchain_experimental.text_splitter.SemanticChunker object at 0x0000019E03AEC040> \n",
      "embedding:  BAAI/bge-m3\n"
     ]
    }
   ],
   "source": [
    "# pip install langchain_experimental\n",
    "if splitter_name == \"recursive\" :\n",
    "    # recursive_character_text_splitter로 구분자 재귀 청킹 기법\n",
    "    from langchain_text_splitters import RecursiveCharacterTextSplitter\n",
    "\n",
    "    text_splitter = RecursiveCharacterTextSplitter(\n",
    "        chunk_size=1000,\n",
    "        chunk_overlap=100\n",
    "    )\n",
    "elif splitter_name == \"semantic\":\n",
    "    # pip install langchain_experimental\n",
    "    from langchain_experimental.text_splitter import SemanticChunker\n",
    "\n",
    "    text_splitter = SemanticChunker(embedding)\n",
    "\n",
    "print(text_splitter, \"\\nembedding: \", EB_MODEL)"
   ]
  },
  {
   "cell_type": "markdown",
   "id": "d9c63422",
   "metadata": {},
   "source": [
    "### Debug 함수"
   ]
  },
  {
   "cell_type": "code",
   "execution_count": 17,
   "id": "78f42103",
   "metadata": {},
   "outputs": [],
   "source": [
    "def debug_chunkinfo_aftersplit(all_splits):\n",
    "    for i, split in enumerate(all_splits):\n",
    "        print(f\"Chunk {i+1}:\")\n",
    "        print(split.page_content)\n",
    "        print(\"-\" * 40)"
   ]
  },
  {
   "cell_type": "markdown",
   "id": "b17918d6",
   "metadata": {},
   "source": [
    "### 추출 하기"
   ]
  },
  {
   "cell_type": "markdown",
   "id": "e2b594f8",
   "metadata": {},
   "source": [
    "- pdf에서 추출"
   ]
  },
  {
   "cell_type": "code",
   "execution_count": 18,
   "id": "1cf92787",
   "metadata": {},
   "outputs": [],
   "source": [
    "import os\n",
    "import glob\n",
    "from langchain_community.document_loaders import PyPDFLoader\n",
    "\n",
    "# PDF 파일을 읽어서 텍스트 데이터 추출 및 청킹\n",
    "def extract_documents_from_pdf(pdf_path):\n",
    "    # PDF 파일을 읽어서 텍스트 데이터 추출\n",
    "    loader = PyPDFLoader(pdf_path)\n",
    "    data_nyc = loader.load()\n",
    "\n",
    "    # 추출된 텍스트 데이터를 청킹\n",
    "    splits = text_splitter.split_documents(data_nyc)\n",
    "    # debug_chunkinfo_aftersplit(splits) \n",
    "\n",
    "    # recursive_character_text_splitter의 경우, 청크가 겹치는 부분이 없으면 연결하지 않음\n",
    "    # 따라서, 청크가 겹치는 부분이 없을 때는 직접 연결하여 오버랩을 만듦\n",
    "    # 만약 청크가 겹치는 부분이 있다면, 그 부분은 자동으로 연결됨\n",
    "    # 여기서는 청크가 겹치지 않는 경우에만 오버랩을 추가함\n",
    "\n",
    "    # 만약 첫 번째 청크의 끝과 두 번째 청크의 시작이 겹치지 않는다면,\n",
    "    if splitter_name == \"recursive\" and (splits[0].page_content[-100:] == splits[1].page_content[:100]):\n",
    "        print(splits[0].page_content)\n",
    "        print(\"----\")\n",
    "        print(splits[1].page_content)\n",
    "        for i in range(len(splits) - 1):\n",
    "            splits[i].page_content += \"\\n\" + splits[i + 1].page_content[:50]\n",
    "\n",
    "    return splits\n"
   ]
  },
  {
   "cell_type": "markdown",
   "id": "a87940ce",
   "metadata": {},
   "source": [
    "## 텍스트를 벡터로 변환하기"
   ]
  },
  {
   "cell_type": "markdown",
   "id": "3ca0cc98",
   "metadata": {},
   "source": [
    "- 토큰 제한하며 실행 및 저장"
   ]
  },
  {
   "cell_type": "code",
   "execution_count": 115,
   "id": "26ea0801",
   "metadata": {},
   "outputs": [],
   "source": [
    "# pip install pypdf\n",
    "import tiktoken\n",
    "import pypdf\n",
    "\n",
    "try:\n",
    "    encoding = tiktoken.encoding_for_model(EB_MODEL)\n",
    "except KeyError:\n",
    "    encoding = tiktoken.get_encoding(\"cl100k_base\") # 토크나이저를 직접 지정\n",
    "\n",
    "\n",
    "TOKEN_LIMIT_PER_BATCH = 39000  # 적절한 토큰 제한\n",
    "\n",
    "def batch_save(vectorstore, splits):\n",
    "    current_batch = []\n",
    "    current_tokens = 0\n",
    "\n",
    "    for doc in splits: \n",
    "        tokens = len(encoding.encode(doc.page_content))\n",
    "        \n",
    "        if current_tokens + tokens > TOKEN_LIMIT_PER_BATCH:\n",
    "            try:\n",
    "                vectorstore.add_documents(current_batch)\n",
    "                print(f\"✅ {len(current_batch)}개 문서 배치 저장 완료\")\n",
    "            except Exception as e:\n",
    "                print(f\"❌ 배치 저장 중 오류 발생: {e}\")\n",
    "            current_batch = [doc]\n",
    "            current_tokens = tokens\n",
    "        else:\n",
    "            current_batch.append(doc)\n",
    "            current_tokens += tokens\n",
    "\n",
    "    # 마지막 배치 처리\n",
    "    if current_batch:\n",
    "        vectorstore.add_documents(current_batch)\n",
    "        print(f\"✅ 마지막 배치 {len(current_batch)}개 문서 저장 완료\")\n",
    "    \n",
    "    return vectorstore"
   ]
  },
  {
   "cell_type": "markdown",
   "id": "2049696b",
   "metadata": {},
   "source": [
    "### Vector DB 생성 혹은 데이터 불러오기 (Chroma, FAISS)"
   ]
  },
  {
   "cell_type": "code",
   "execution_count": null,
   "id": "1570fa61",
   "metadata": {},
   "outputs": [
    {
     "name": "stdout",
     "output_type": "stream",
     "text": [
      "Creating new faiss_index at ./faiss_index_semantic_BAAI_bge-m3...\n",
      "현재 청킹 방법 : semantic\n",
      "현재 임베딩 모델 : BAAI/bge-m3\n",
      "PDF 파일 개수: 13\n",
      "Processing c:\\ITStudy\\Project\\TechSeminar_Public\\by_book\\data\\bogeum_guidline.pdf...\n",
      "Processing c:\\ITStudy\\Project\\TechSeminar_Public\\by_book\\data\\boguem_eval.pdf...\n",
      "Processing c:\\ITStudy\\Project\\TechSeminar_Public\\by_book\\data\\boguem_howto.pdf...\n",
      "Processing c:\\ITStudy\\Project\\TechSeminar_Public\\by_book\\data\\디딤돌대출_업무처리기준.pdf...\n",
      "Processing c:\\ITStudy\\Project\\TechSeminar_Public\\by_book\\data\\산재근로자 참사랑대출.pdf...\n",
      "Processing c:\\ITStudy\\Project\\TechSeminar_Public\\by_book\\data\\우리 군인우대 대출.pdf...\n",
      "Processing c:\\ITStudy\\Project\\TechSeminar_Public\\by_book\\data\\우리 사잇돌 중금리대출.pdf...\n",
      "Processing c:\\ITStudy\\Project\\TechSeminar_Public\\by_book\\data\\우리 우월한 시니어 대출.pdf...\n",
      "Processing c:\\ITStudy\\Project\\TechSeminar_Public\\by_book\\data\\우리 전문직우대 대출(의사).pdf...\n",
      "Processing c:\\ITStudy\\Project\\TechSeminar_Public\\by_book\\data\\우리 주거래 직장인대출.pdf...\n",
      "Processing c:\\ITStudy\\Project\\TechSeminar_Public\\by_book\\data\\우리 청년도약대출(새희망홀씨Ⅱ).pdf...\n",
      "Processing c:\\ITStudy\\Project\\TechSeminar_Public\\by_book\\data\\우리은행_주택담보대출 상품설명서(변경 후) .pdf...\n",
      "Processing c:\\ITStudy\\Project\\TechSeminar_Public\\by_book\\data\\적격대출_업무처리기준.pdf...\n"
     ]
    },
    {
     "name": "stderr",
     "output_type": "stream",
     "text": [
      "`embedding_function` is expected to be an Embeddings object, support for passing in a function will soon be removed.\n"
     ]
    },
    {
     "name": "stdout",
     "output_type": "stream",
     "text": [
      "전체 청크 개수: 342\n",
      "✅ 79개 문서 배치 저장 완료\n",
      "✅ 67개 문서 배치 저장 완료\n",
      "✅ 59개 문서 배치 저장 완료\n",
      "✅ 77개 문서 배치 저장 완료\n",
      "✅ 마지막 배치 60개 문서 저장 완료\n"
     ]
    }
   ],
   "source": [
    "# pip install faiss-cpu\n",
    "import faiss\n",
    "from langchain.embeddings import HuggingFaceEmbeddings\n",
    "from langchain_community.vectorstores import FAISS\n",
    "from langchain.vectorstores import FAISS\n",
    "from langchain.docstore.in_memory import InMemoryDocstore\n",
    "from langchain_chroma import Chroma\n",
    "import shutil\n",
    "import time\n",
    "\n",
    "persist_directory = './' + VECTOR_DB + '_' + splitter_name + '_' + EB_MODEL.replace('/', '_')\n",
    "\n",
    "if not os.path.exists(persist_directory):\n",
    "    print(f\"Creating new {VECTOR_DB} at {persist_directory}...\")    \n",
    "\n",
    "    # 만약 persist_directory가 존재하지 않는다면, 새로 생성. data에 있는 PDF 파일을 읽어서 청킹 후 저장\n",
    "    current_dir = os.getcwd() # 현재 폴더 경로\n",
    "    folder_path = os.path.join(current_dir, \"data\") # data 폴더 경로 설정\n",
    "    pdf_files = glob.glob(os.path.join(folder_path, \"*.pdf\")) # PDF 파일 목록 가져오기\n",
    "\n",
    "    all_splits = []\n",
    "    print(f\"현재 청킹 방법 : {splitter_name}\")\n",
    "    print(f\"현재 임베딩 모델 : {EB_MODEL}\")\n",
    "    print(f\"PDF 파일 개수: {len(pdf_files)}\")\n",
    "    for pdf_file in pdf_files:\n",
    "        pdf_path = pdf_file\n",
    "        # temp_docs, merged_path = extract_documents_from_pdf(pdf_file)\n",
    "        print(f\"Processing {pdf_path}...\")\n",
    "        all_splits.extend(extract_documents_from_pdf(pdf_file))\n",
    "        time.sleep(2)  # PDF 파일 처리 간에 잠시 대기\n",
    "\n",
    "    print(f\"전체 청크 개수: {len(all_splits)}\")\n",
    "\n",
    "    if VECTOR_DB == \"chroma_store\":\n",
    "        vectorstore = Chroma(\n",
    "            embedding_function=embedding,\n",
    "            persist_directory=persist_directory\n",
    "        )\n",
    "        vectorstore = batch_save(vectorstore, all_splits)\n",
    "    elif VECTOR_DB == \"faiss_index\":\n",
    "    \n",
    "        embedding_dim = len(embedding.embed_query(\"test\"))\n",
    "        index = faiss.IndexFlatIP(embedding_dim)\n",
    "\n",
    "        vectorstore = FAISS(\n",
    "            embedding_function=embedding.embed_query,\n",
    "            index=index,\n",
    "            docstore=InMemoryDocstore(),\n",
    "            index_to_docstore_id={}\n",
    "        )\n",
    "        vectorstore = batch_save(vectorstore, all_splits)\n",
    "        vectorstore.save_local(persist_directory)\n",
    "else :\n",
    "    # 이미 존재하는 Chroma store를 불러오기\n",
    "    print(f\"Loading existing {VECTOR_DB}...\")\n",
    "    if VECTOR_DB == \"faiss_index\":\n",
    "        vectorstore = FAISS.load_local(persist_directory, embedding, allow_dangerous_deserialization=True)\n",
    "    elif VECTOR_DB == \"chroma_store\":\n",
    "        vectorstore = Chroma(\n",
    "            embedding_function=embedding,\n",
    "            persist_directory=persist_directory\n",
    "        )\n",
    "\n",
    "    # 만약 새로 추가할 PDF 파일이 있다면 데이터 추출 및 저장후, extra_data 폴더에서 data 폴더로 이동\n",
    "    src_folder = 'extra_data'\n",
    "    dst_folder = 'data'\n",
    "\n",
    "    current_dir = os.getcwd() # 현재 폴더 경로\n",
    "    folder_path = os.path.join(current_dir, src_folder) # extra_data 폴더 경로 설정\n",
    "    pdf_files = glob.glob(os.path.join(folder_path, \"*.pdf\")) # PDF 파일 목록 가져오기\n",
    "\n",
    "    extra_splits = []\n",
    "    if not pdf_files:\n",
    "        print(\"추가할 PDF 파일이 없습니다.\")\n",
    "    else:\n",
    "        print(f\"추가할 PDF 파일 개수: {len(pdf_files)}\")\n",
    "        for pdf_file in pdf_files:\n",
    "            print(f\"Processing {pdf_file}...\")\n",
    "            extra_splits.extend(extract_documents_from_pdf(pdf_file))\n",
    "            time.sleep(1)\n",
    "\n",
    "        vectorstore = batch_save(vectorstore, extra_splits)\n",
    "        if VECTOR_DB == \"faiss_index\":\n",
    "            vectorstore.save_local(persist_directory)\n",
    "        # extra_data 폴더의 모든 파일 중 .pdf만 이동\n",
    "        for filename in os.listdir(src_folder):\n",
    "            if filename.lower().endswith('.pdf'):\n",
    "                src_path = os.path.join(src_folder, filename)\n",
    "                dst_path = os.path.join(dst_folder, filename)\n",
    "                if os.path.isfile(src_path):\n",
    "                    shutil.move(src_path, dst_path)\n",
    "\n",
    "# semantic text-embedding-3-large chroma 12m 23.7s 청크 개수 342\n",
    "# semantic stsb-xlm-r-multilingual chroma 2m 38.5s 청크 개수 342\n",
    "# semantic intfloat/multilingual-e5-large-instruct chroma 6m 29.6s 청크 개수 342\n",
    "# semantic kakaobank/kf-deberta-base chroma 9m 53.6s 청크 개수 342\n",
    "# semantic BAAI/bge-m3 chroma 31m 48.9s 청크 개수 342\n",
    "\n",
    "\n",
    "\n",
    "# semantic text-embedding-3-large faiss_index 12m 21.9s 청크 개수 342\n",
    "# semantic stsb-xlm-r-multilingual faiss_index 3m 35.2s 청크 개수 342\n",
    "# semantic intfloat/multilingual-e5-large-instruct faiss_index 7m 54.1s 청크 개수 342\n",
    "# semantic kakaobank/kf-deberta-base faiss_index 9m 53.4s 청크 개수 342\n",
    "# semantic BAAI/bge-m3 faiss_index 25m 3.8s 청크 개수 342"
   ]
  },
  {
   "cell_type": "markdown",
   "id": "93d5f822",
   "metadata": {},
   "source": [
    "## LLM 설정 후 질문 및 답변"
   ]
  },
  {
   "cell_type": "code",
   "execution_count": 117,
   "id": "571fe2ce",
   "metadata": {},
   "outputs": [],
   "source": [
    "from langchain_core.prompts import ChatPromptTemplate, MessagesPlaceholder\n",
    "from langchain.chains.combine_documents import create_stuff_documents_chain\n",
    "from langchain_openai import ChatOpenAI\n",
    "# from langchain_openai import ChatOpenAI # 라고 했을 때는 module 'openai' has no attribute 'DefaultHttpxClient' 오류가\n",
    "from openai import OpenAI\n",
    "\n",
    "if LLM_MODEL == \"gpt-4o-mini\":\n",
    "    chat = ChatOpenAI(model=LLM_MODEL)\n",
    "# elif LLM_MODEL == \"gpt-oss-120b\":\n",
    "#     HF_API_KEY = os.getenv(\"HF_API_KEY\")\n",
    "#     chat = ChatOpenAI(\n",
    "#         base_url=\"https://router.huggingface.co/v1\",\n",
    "#         api_key=HF_API_KEY,\n",
    "#         model = LLM_MODEL\n",
    "#     )\n",
    "\n",
    "question_answering_promt = ChatPromptTemplate.from_messages(\n",
    "    [\n",
    "        (\n",
    "            \"system\",\n",
    "            \"You are an assistant for question-answering tasks. Use the following pieces of retrieved context to answer the question. If you don't know the answer, just say that you don't know. Please write your answer in a markdown table format with the main points. Be sure to include all your source and page numbers like (3 ~ 10) in your answer. If you have over one source, you should include all of them. Answer in Korean. \\n#Example Format: \\n(brief summary of the answer) \\n (table) \\n  (detailed answer to the question) \\n**출처** \\n- (file source) (page source and page number) (Please write the quoted text within 20 characters and follow it with ... )\\n #Context: {context}\",\n",
    "        ),\n",
    "        MessagesPlaceholder(variable_name=\"messages\"),\n",
    "    ]\n",
    ")\n",
    "\n",
    "document_chain = create_stuff_documents_chain(chat, question_answering_promt)"
   ]
  },
  {
   "cell_type": "markdown",
   "id": "3ef843e4",
   "metadata": {},
   "source": [
    "- meta data에 있는 정보는 llm이 알 수 없으므로 출처 filename을 포함시켜서 새로운 Document 타입을 생성"
   ]
  },
  {
   "cell_type": "code",
   "execution_count": 118,
   "id": "43f07455",
   "metadata": {},
   "outputs": [],
   "source": [
    "import os\n",
    "from langchain.schema import Document\n",
    "\n",
    "# Document type인 docs가 context로 넘겨졌을 때 llm은 content에 있는 정보 기반으로 답을 한다.\n",
    "# 따라서 meta data에 있는 정보는 llm이 알 수 없으므로 출처 filename을 포함시켜서 새로운 Document 타입을 생성한다.\n",
    "def format_docs_with_source_as_documents(docs):\n",
    "    new_docs = []\n",
    "    for d in docs:\n",
    "        filename = os.path.basename(d.metadata.get(\"source\", \"\"))\n",
    "        # 기존 page_content 뒤에 출처 붙이기\n",
    "        new_content = f\"{d.page_content}\\n출처: {filename}\"\n",
    "\n",
    "        # 새 리스트 생성 (metadata 유지)\n",
    "        new_docs.append(\n",
    "            Document(page_content=new_content, metadata=d.metadata)\n",
    "        )\n",
    "    return new_docs\n",
    "\n"
   ]
  },
  {
   "cell_type": "markdown",
   "id": "fc69b8f1",
   "metadata": {},
   "source": [
    "### 질문 입력 및 답변 생성"
   ]
  },
  {
   "cell_type": "code",
   "execution_count": null,
   "id": "59c6572d",
   "metadata": {},
   "outputs": [],
   "source": [
    "retriever = vectorstore.as_retriever(k=5)\n",
    "question = \"우리 부부의 연소득은 총 합 6800만원이야. 한 명은 군에 종사하고 하나는 직장인이라는 것을 참고해줘. 받을 수 있는 대출은 뭐가 있을까?\"\n",
    "# \"우리 부부는 한 명은 군인이고 한 명은 직장인이야. 전세 때문에 대출을 받으려고해. 둘 합산 연소득은 6000만원이야 받을 수 있는 대출은 뭐가 있지? 모두 알려줘\"\n",
    "# \"우리 부부의 연소득은 총 합 6800만원이야. 받을 수 있는 대출은 뭐가 있을까?\"\n",
    "docs = retriever.invoke(question)\n",
    "# print(type(docs))\n",
    "# print(docs)\n",
    "formatted_context = format_docs_with_source_as_documents(docs)\n",
    "\n",
    "# for d in formatted_context:\n",
    "#     # print(d.metadata)\n",
    "#     print(d)\n",
    "#     print(\"-\" * 40)\n",
    "# for d in docs:\n",
    "#     print(d.metadata)\n",
    "#     print(d.page_content)\n",
    "#     print(\"-\" * 40)\n"
   ]
  },
  {
   "cell_type": "markdown",
   "id": "5e48fe9b",
   "metadata": {},
   "source": [
    "- openai/gpt-oss-120b 모델 사용"
   ]
  },
  {
   "cell_type": "code",
   "execution_count": 125,
   "id": "900689de",
   "metadata": {},
   "outputs": [
    {
     "name": "stdout",
     "output_type": "stream",
     "text": [
      "질문: 우리 부부는 한 명은 군에 종사하고 있고, 한 명은 직장인이야. 전세 때문에 대출을 받으려고해. 둘 합산 연소득은 6800만원이야 받을 수 있는 대출은 뭐가 있지? 모두 알려줘\n",
      "답변:\n",
      "----------------------------------------\n",
      "**요약**  \n",
      "- 군인 우대 대출 : ‘중사’ 이상·복무 3년 이상 군인, 연 5 천만원(50 백만원) 한도(계급·복무연수에 따라 최대 8 천만원)  \n",
      "- 직장인 대출 : 연 3 천만원 이상·재직 1 년 이상 직장인(또는 ‘주거래’ 조건 충족 시 연 2 천만원·재직 3 개월), 최대 2 억원 한도  \n",
      "- 두 상품은 각각 별도로 신청·심사 가능 → 부부가 각각 해당 조건을 만족하면 **군인 우대 대출 ≤ 5 천만원** + **직장인 대출 ≤ 2 억원**을 동시에 이용 가능  \n",
      "\n",
      "| 구분 | 대상 조건 | 대출 한도 | 대출 기간 | 금리·상환 방식 | 필요 서류 | 비고 |\n",
      "|------|-----------|-----------|-----------|----------------|-----------|------|\n",
      "| **군인우대 대출** | • ‘중사’ 이상·복무 3 년 이상 군인  <br>• 우리은행 급여이체 중 <br>• CB 7구간 이상 | • 기본: 최대 **5 천만원** (퇴직급여예상액 1/2) <br>• 25 년 이상·원사·준위·중령 이상: **8 천만원** (계급 대령 이상 복무기간 제한 없음) | 1 년~10 년 (최장) | • 만기일시상환·원/리금 균등분할상환 <br>• 마이너스통장(한도대출) | • 재직(복무)증명서, 소득자료, 군인생활안정자금 대출 추천서, 신분증 등 | 은행·고객센터에서 세부조건 확인 필요 (출처 ① ~ ②) |\n",
      "| **직장인 대출** | • 연 3 천만원 이상·재직 1 년 이상 직장인  <br>• 또는 연 2 천만원 이상·재직 3 개월 + ‘주거래’ 요건(급여·자동이체·우리카드) <br>• CB 7(+)구간 이상 | **최대 2 억원** (우리은행 승인 범위 내) | 1 년~5 년 | • 신용구간에 따라 연소득 가중치 적용, 캐시백 제공 가능 | • 근로소득 증빙(원천징수 영수증 등), 재직증명서, 급여이체 증명 등 | ‘주거래’ 요건: 급여·통신·공과금·우리카드 보유 (출처 ③) |\n",
      "\n",
      "**가능한 대출 조합 예시**  \n",
      "\n",
      "| 신청자 | 적용 상품 | 가능 대출액 (최대) |\n",
      "|--------|-----------|-------------------|\n",
      "| 군인 (배우자) | 군인우대 대출 | 5 천만원 (계급·복무연수에 따라 최대 8 천만원) |\n",
      "| 직장인 (배우자) | 우리 주거래 직장인대출 | 2 억원 |\n",
      "\n",
      "**전체적으로**  \n",
      "- 두 사람 각각의 자격을 만족하면 **군인우대 대출 5 천만원** + **직장인 대출 2 억원**을 동시에 받을 수 있어, 전세 자금 확보에 충분히 활용 가능합니다.  \n",
      "- 정확한 금리·수수료 등은 최신 “금리보기”와 영업점 상담을 통해 확인하시기 바랍니다.\n",
      "\n",
      "**출처**  \n",
      "- 우리 군인우대 대출.pdf (page 1) – “대출한도 최대 50백만원…” (…), “복무기간 25년 이상 원사/준위/중령…8천만원” (…).  \n",
      "- 우리 군인우대 대출.pdf (page 2) – “대출기간 1년~10년…” (…), “신용취급·CB 7구간…” (…).  \n",
      "- 우리 주거래 직장인대출.pdf (page 1) – “대출대상 근로소득 3천만원 이상·재직기간 1년 이상” (…), “대출한도 최대 2억원” (…).  \n",
      "- 우리 주거래 직장인대출.pdf (page 1) – “주거래요건 급여이체·자동이체·우리카드 보유” (…).\n",
      "\n",
      "청킹 방법 semantic\n",
      "임베딩 모델 BAAI/bge-m3\n",
      "LLM 모델 openai/gpt-oss-120b\n"
     ]
    }
   ],
   "source": [
    "\n",
    "from openai import OpenAI\n",
    "load_dotenv()\n",
    "HF_API_KEY = os.getenv(\"HF_API_KEY\")\n",
    "client = OpenAI(\n",
    "    base_url=\"https://router.huggingface.co/v1\",\n",
    "    api_key=HF_API_KEY\n",
    ")\n",
    "# print(formatted_context)\n",
    "summary_completion = client.chat.completions.create(\n",
    "    model=\"openai/gpt-oss-120b\",\n",
    "    messages=[{\n",
    "        \"role\": \"user\", \n",
    "        \"content\": f\"You are an assistant for question-answering tasks. Use the following pieces of retrieved context to answer the question. If you don't know the answer, just say that you don't know. you should user performed_context. If the 'perforemd_context' is null, you just say 'it is empyt'. Please write your answer in a markdown table format with the main points. Be sure to include all your source and page numbers like (3 ~ 10) in your answer. If you have over one source, you should include all of them. Answer in Korean. \\n#Example Format: \\n(brief summary of the answer) \\n (table) \\n  (detailed answer to the question) \\n**출처** \\n- (file source) (page source and page number) (Please write the quoted text within 20 characters and follow it with ... )\\n #Context: {formatted_context}. The question is : {question}\"\n",
    "        }],\n",
    ")\n",
    "print(\"질문:\", question)\n",
    "print(\"답변:\")\n",
    "print(\"-\" * 40)\n",
    "print(summary_completion.choices[0].message.content)\n",
    "\n",
    "print(\"\\n청킹 방법\", splitter_name)\n",
    "print(\"임베딩 모델\", EB_MODEL)\n",
    "print(\"LLM 모델\", \"openai/gpt-oss-120b\")\n"
   ]
  },
  {
   "cell_type": "markdown",
   "id": "9c0e83fd",
   "metadata": {},
   "source": [
    "- lanchain 사용"
   ]
  },
  {
   "cell_type": "code",
   "execution_count": 126,
   "id": "69df40c4",
   "metadata": {},
   "outputs": [
    {
     "name": "stdout",
     "output_type": "stream",
     "text": [
      "질문: 우리 부부는 한 명은 군에 종사하고 있고, 한 명은 직장인이야. 전세 때문에 대출을 받으려고해. 둘 합산 연소득은 6800만원이야 받을 수 있는 대출은 뭐가 있지? 모두 알려줘\n",
      "답변:\n",
      "----------------------------------------\n",
      "군인과 직장인으로서 받을 수 있는 대출 종류에 대한 정보는 다음과 같습니다.\n",
      "\n",
      "| 대출 상품                | 대출 종류            | 대출 대상                           | 대출 한도                 | 대출 기간            |\n",
      "|-------------------------|-------------------|-----------------------------------|-----------------------|---------------------|\n",
      "| 군인 생활 안정 자금 대출   | 군인 대출             | 3년 이상 복무한 '중사' 이상의 군인          | 최대 5천만원 (퇴직금의 1/2) | 최장 10년            |\n",
      "|                         |                    | 복무기간 25년 이상 원사/준위/중령 -> 최대 8천만원 |                       |                     |\n",
      "| 직장인 대출               | 일반 직장인 대출      | 근로소득 3천만원 이상, 재직기간 1년 이상 직장인   | 최대 2억원             | 1년~5년            |\n",
      "\n",
      "### 상세 답변:\n",
      "1. **군인 대출**: \n",
      "   - 군인 고객은 전역 이후의 퇴직급여를 기반으로 최대 5천만원까지 대출받을 수 있으며, 복무기간이 25년 이상인 경우에는 최대 8천만원까지 가능필요합니다. 이를 위해서는 국군재정관리단의 '군인생활안정자금 대출 추천서'를 발급받아야 합니다.\n",
      "   - 대출 기간은 최장 10년이며, 만기 일시 상환 또는 분할 상환 방식이 가능합니다.\n",
      "\n",
      "2. **직장인 대출**:\n",
      "   - 직장인 고객은 근로소득 3천만원 이상이며 재직기간 1년 이상인 경우, 최대 2억원의 대출을 받을 수 있습니다. \n",
      "   - 대출 기간은 1년에서 5년의 범위 내에서 가능합니다.\n",
      "\n",
      "따라서, 합산 연소득 6800만원인 경우 두 가지 대출 상품 중에서 적합한 조건을 갖추면 군인 대출과 직장인 대출 모두 이용할 수 있습니다.\n",
      "\n",
      "**출처** \n",
      "- 우리 군인우대 대출.pdf (7 페이지) (\"최대 5천만원 (퇴직금의 1/2)\")\n",
      "- 우리 주거래 직장인대출.pdf (5 페이지) (\"최대 2억원\")\n",
      "\n",
      "청킹 방법 semantic\n",
      "임베딩 모델 BAAI/bge-m3\n",
      "LLM 모델 gpt-4o-mini\n"
     ]
    }
   ],
   "source": [
    "from langchain.memory import ChatMessageHistory\n",
    "\n",
    "chat_history = ChatMessageHistory()\n",
    "\n",
    "chat_history.add_user_message(question)\n",
    "\n",
    "answer = document_chain.invoke(\n",
    "    {\n",
    "        \"messages\": chat_history.messages,\n",
    "        \"context\": formatted_context,\n",
    "    }\n",
    ")\n",
    "\n",
    "chat_history.add_ai_message(answer)\n",
    "print(\"질문:\", question)\n",
    "print(\"답변:\")\n",
    "print(\"-\" * 40)\n",
    "print(answer)\n",
    "\n",
    "print(\"\\n청킹 방법\", splitter_name)\n",
    "print(\"임베딩 모델\", EB_MODEL)\n",
    "print(\"LLM 모델\", LLM_MODEL)"
   ]
  },
  {
   "cell_type": "markdown",
   "id": "58ad6218",
   "metadata": {},
   "source": [
    "### context 사용 없이 질문을 받았을 경우"
   ]
  },
  {
   "cell_type": "code",
   "execution_count": 127,
   "id": "30e9039a",
   "metadata": {},
   "outputs": [
    {
     "name": "stdout",
     "output_type": "stream",
     "text": [
      "질문: 우리 부부는 한 명은 군에 종사하고 있고, 한 명은 직장인이야. 전세 때문에 대출을 받으려고해. 둘 합산 연소득은 6800만원이야 받을 수 있는 대출은 뭐가 있지? 모두 알려줘\n",
      "답변:\n",
      "----------------------------------------\n",
      "**요약**: 연소득 6,800만원이면 전세자금대출·주택담보대출·신용대출 등을 활용해 2 ~ 3억 원까지 대출이 가능해요.  \n",
      "\n",
      "|대출 종류|주요 조건|예상 한도(최대)|\n",
      "|---|---|---|\n",
      "|전세자금 대출|소득·신용·주택가격·전세보증금 기준, LTV 80%·DTI 45% 이하|전세보증금 80%·≈2.5억|\n",
      "|주택담보대출|주택소유·LTV 70%·DTI 50% 이하|주택가치 70%·≈3억|\n",
      "|신용(일반)대출|소득·신용점수·부채비율 ≤ 60%|연소득 30%·≈2억|\n",
      "\n",
      "전세자금 대출은 은행·주택금융공사가 공동으로 제공하고, 주택담보대출은 보유 주택이 있을 경우 LTV·DTI에 따라 한도가 결정됩니다. 신용대출은 부채·신용점수에 따라 연소득 30% 정도까지 제한됩니다.\n",
      "\n",
      "**출처**  \n",
      "- 금융감독원, “주택대출·DTI·LTV 기준” (2024) https://fss.or.kr/... (“LTV 80%·DTI 45%...” )  \n",
      "- KB국민은행, “전세자금 대출상품 안내” https://obank.kbstar.com/... (“전세보증금 80%…” )\n",
      "\n",
      "청킹 방법 context 사용 없음\n",
      "임베딩 모델 context 사용 없음\n",
      "LLM 모델 openai/gpt-oss-120b\n"
     ]
    }
   ],
   "source": [
    "\n",
    "from openai import OpenAI\n",
    "from langchain_openai import ChatOpenAI\n",
    "\n",
    "load_dotenv()\n",
    "HF_API_KEY = os.getenv(\"HF_API_KEY\")\n",
    "client = OpenAI(\n",
    "    base_url=\"https://router.huggingface.co/v1\",\n",
    "    api_key=HF_API_KEY\n",
    ")\n",
    "# print(formatted_context)\n",
    "summary_completion = client.chat.completions.create(\n",
    "    model=\"openai/gpt-oss-120b\",\n",
    "    messages=[{\n",
    "        \"role\": \"user\", \n",
    "        \"content\": f\"You are an assistant for question-answering tasks. Please keep the answer under 500 characters. Please write your answer in a markdown table format with the main points.  Answer in Korean. \\n#Example Format: \\n(brief summary of the answer) \\n (table) \\n  (detailed answer to the question) \\n**출처** \\n- (file source) (page source and page number and correct full url) (Please write the quoted text within 20 characters and follow it with ... )\\n The question is : {question}\"\n",
    "        }],\n",
    ")\n",
    "print(\"질문:\", question)\n",
    "print(\"답변:\")\n",
    "print(\"-\" * 40)\n",
    "print(summary_completion.choices[0].message.content)\n",
    "\n",
    "print(\"\\n청킹 방법\", \"context 사용 없음\")\n",
    "print(\"임베딩 모델\", \"context 사용 없음\")\n",
    "print(\"LLM 모델\", \"openai/gpt-oss-120b\")"
   ]
  },
  {
   "cell_type": "markdown",
   "id": "1c3b1b86",
   "metadata": {},
   "source": [
    "## 질의 확장 구현\n",
    "- 챗본으로 만들 경우 첫번째 질문을 이어 받아서 두번째 질문도 답변을 해야하니 질의 확장에 대한 기능이다. (필수 x)"
   ]
  },
  {
   "cell_type": "code",
   "execution_count": 37,
   "id": "565825aa",
   "metadata": {},
   "outputs": [
    {
     "name": "stdout",
     "output_type": "stream",
     "text": [
      "부부의 연소득이 3000만원일 때 받을 수 있는 대출은 무엇인가요?\n"
     ]
    }
   ],
   "source": [
    "from langchain_core.output_parsers import StrOutputParser\n",
    "\n",
    "query_for_other = \"3천만원 일때는?\"\n",
    "\n",
    "query_augmentation_prompt = ChatPromptTemplate.from_messages(\n",
    "    [\n",
    "        MessagesPlaceholder(variable_name=\"messages\"),\n",
    "        (\n",
    "            \"system\",\n",
    "            \"기존의 대화 내용을 활용하여 사용자가 질문한 의도를 파악해서 한 문장의 명료한 질문으로 변환하라. 대명사나 이, 저, 그와 같은 표현을 명확한 명사로 표현하라. : \\n\\n{query}\",\n",
    "        ),\n",
    "    ]\n",
    ")\n",
    "query_augmentation_chain = query_augmentation_prompt | chat | StrOutputParser()\n",
    "\n",
    "augmented_query = query_augmentation_chain.invoke(\n",
    "    {\n",
    "        \"messages\": chat_history.messages,\n",
    "        \"query\": query_for_other,\n",
    "    }\n",
    ")\n",
    "\n",
    "print(augmented_query)"
   ]
  },
  {
   "cell_type": "code",
   "execution_count": null,
   "id": "2076f592",
   "metadata": {},
   "outputs": [
    {
     "name": "stdout",
     "output_type": "stream",
     "text": [
      "질문: 3천만원 일때는?\n",
      "답변:\n",
      "----------------------------------------\n",
      "연소득이 3000만원일 때의 대출 가능성은 다음과 같이 요약할 수 있습니다.\n",
      "\n",
      "| 주요 내용               | 세부 사항                                     |\n",
      "|----------------------|--------------------------------------------|\n",
      "| 연소득               | 3000만원                                    |\n",
      "| 대출한도 — 일반      | 2억원 이내                                   |\n",
      "| 대출한도 — 생애최초  | 2.4억원                                     |\n",
      "| 대출한도 — 신혼·다자녀 | 3.2억원                                     |\n",
      "| 소득 추정 기준       | 5천만원 이하 대출 취급 가능                 |\n",
      "\n",
      "부부의 연소득이 3000만원인 경우, 일반적인 대출한도는 최대 2억원입니다. 또한 생애 최초 주택 구입자나 신혼 및 다자녀 가구의 경우 각각 2.4억원과 3.2억원까지 대출 가능성이 있습니다. 소득이 5천만원 이하이므로 대출 신청이 가능하다는 점 또한 주요합니다.\n",
      "\n",
      "**출처**\n",
      "- 디딤돌대출_업무처리기준.pdf (22페이지) \"소득추정 금액이 60백만원 이하 ...\" \n",
      "\n",
      "청킹 방법 recursive\n",
      "임베딩 모델 text-embedding-3-large\n",
      "LLM 모델 gpt-4o-mini\n"
     ]
    }
   ],
   "source": [
    "docs_other = retriever.invoke(augmented_query)\n",
    "# print(type(docs))\n",
    "# print(docs)\n",
    "formatted_context_other = format_docs_with_source_as_documents(docs_other)\n",
    "\n",
    "chat_history.add_user_message(query_for_other)\n",
    "\n",
    "answer = document_chain.invoke(\n",
    "    {\n",
    "        \"messages\": chat_history.messages,\n",
    "        \"context\": formatted_context_other,\n",
    "    }\n",
    ")\n",
    "\n",
    "chat_history.add_ai_message(answer)\n",
    "\n",
    "print(\"질문:\", query_for_other)\n",
    "print(\"답변:\")\n",
    "print(\"-\" * 40)\n",
    "print(answer)\n",
    "\n",
    "print(\"\\n청킹 방법\", splitter_name)\n",
    "print(\"임베딩 모델\", EB_MODEL)\n",
    "print(\"LLM 모델\", LLM_MODEL)"
   ]
  }
 ],
 "metadata": {
  "kernelspec": {
   "display_name": ".venv",
   "language": "python",
   "name": "python3"
  },
  "language_info": {
   "codemirror_mode": {
    "name": "ipython",
    "version": 3
   },
   "file_extension": ".py",
   "mimetype": "text/x-python",
   "name": "python",
   "nbconvert_exporter": "python",
   "pygments_lexer": "ipython3",
   "version": "3.10.11"
  }
 },
 "nbformat": 4,
 "nbformat_minor": 5
}
