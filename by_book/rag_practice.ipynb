{
 "cells": [
  {
   "cell_type": "markdown",
   "id": "5801b44f",
   "metadata": {},
   "source": [
    "# data에 있는 모든 문서 추출하기\n",
    "- chroma_store가 없을 경우 data 폴더에 있는 pdf 파일들을 읽어서 벡터 DB에 저장 하기 위한 과정"
   ]
  },
  {
   "cell_type": "markdown",
   "id": "6f84d850",
   "metadata": {},
   "source": [
    "### 기본 방법 선택하기"
   ]
  },
  {
   "cell_type": "code",
   "execution_count": 2,
   "id": "33c88d4b",
   "metadata": {},
   "outputs": [
    {
     "data": {
      "text/plain": [
       "True"
      ]
     },
     "execution_count": 2,
     "metadata": {},
     "output_type": "execute_result"
    }
   ],
   "source": [
    "# pip install dotenv\n",
    "import os\n",
    "from dotenv import load_dotenv\n",
    "# 청킹 방법\n",
    "splitter_name = \"recursive\" # recursive, semantic\n",
    "\n",
    "# LLM 모델\n",
    "LLM_MODEL = \"gpt-4o-mini\" # gpt-4o-mini, openai/gpt-oss-120b\n",
    "\n",
    "# 벡터 DB\n",
    "VECTOR_DB = \"faiss_index\" # chroma_store, faiss_index\n",
    "\n",
    "# 임베딩 모델\n",
    "# EB_MODEL = \"text-embedding-3-large\" # text-embedding-3-large -> 아래 임베딩 모델 섹션에서 설정\n",
    "\n",
    "load_dotenv()"
   ]
  },
  {
   "cell_type": "markdown",
   "id": "00a5b1e0",
   "metadata": {},
   "source": [
    "## 임베딩 모델 설정하기\n",
    "- 섹션이 바뀌기 전까지 셀 중 한가지 선택해서 사용."
   ]
  },
  {
   "cell_type": "markdown",
   "id": "7f3fe06d",
   "metadata": {},
   "source": [
    "### OpenAI Embeddings"
   ]
  },
  {
   "cell_type": "code",
   "execution_count": 5,
   "id": "cbee21fe",
   "metadata": {},
   "outputs": [],
   "source": [
    "# OpenAI Embeddings : text-embedding-3-large\n",
    "# pip install langchain_openai\n",
    "from langchain_openai import OpenAIEmbeddings\n",
    "\n",
    "# 의미 기반으로 청킹을 하기 위해 OpenAI의 임베딩 모델을 사용\n",
    "OPENAI_API_KEY = os.getenv(\"OPENAI_API_KEY\")\n",
    "EB_MODEL = \"text-embedding-3-large\" # text-embedding-3-large\n",
    "embedding = OpenAIEmbeddings(model=EB_MODEL, api_key=OPENAI_API_KEY)"
   ]
  },
  {
   "cell_type": "markdown",
   "id": "0663e78c",
   "metadata": {},
   "source": [
    "### HuggingFaceEmbddings (local 저장)"
   ]
  },
  {
   "cell_type": "code",
   "execution_count": 10,
   "id": "0c2af919",
   "metadata": {},
   "outputs": [
    {
     "name": "stderr",
     "output_type": "stream",
     "text": [
      "C:\\Users\\ohroomill\\AppData\\Local\\Temp\\ipykernel_13528\\490142132.py:9: LangChainDeprecationWarning: The class `HuggingFaceEmbeddings` was deprecated in LangChain 0.2.2 and will be removed in 1.0. An updated version of the class exists in the :class:`~langchain-huggingface package and should be used instead. To use it run `pip install -U :class:`~langchain-huggingface` and import as `from :class:`~langchain_huggingface import HuggingFaceEmbeddings``.\n",
      "  embedding = HuggingFaceEmbeddings(model_name=EB_MODEL)\n",
      "c:\\ITStudy\\Project\\TechSeminar_Public\\.venv\\lib\\site-packages\\tqdm\\auto.py:21: TqdmWarning: IProgress not found. Please update jupyter and ipywidgets. See https://ipywidgets.readthedocs.io/en/stable/user_install.html\n",
      "  from .autonotebook import tqdm as notebook_tqdm\n"
     ]
    },
    {
     "name": "stdout",
     "output_type": "stream",
     "text": [
      "임베딩 벡터 길이: 768\n",
      "임베딩 벡터 일부: [0.11608216911554337, -0.2838129997253418, 0.600308895111084, -0.2887226939201355, 0.6230913400650024]\n"
     ]
    }
   ],
   "source": [
    "# 로컬에 저장해서 사용하는거라 api key가 필요없음\n",
    "# HuggingFaceEmbeddings : sentence-transformers/stsb-xlm-r-multilingual\n",
    "\n",
    "# pip install langchain sentence-transformers langchain-community\n",
    "from langchain_community.embeddings import HuggingFaceEmbeddings\n",
    "\n",
    "# HuggingFace 임베딩 클래스 이용\n",
    "EB_MODEL = \"stsb-xlm-r-multilingual\" # stsb-xlm-r-multilingual\n",
    "embedding = HuggingFaceEmbeddings(model_name=EB_MODEL)\n",
    "\n",
    "# 단일 텍스트 임베딩 생성\n",
    "sample_text = \"금융권 문서 임베딩 예제\"\n",
    "embedding_vector = embedding.embed_query(sample_text)\n",
    "\n",
    "print(\"임베딩 벡터 길이:\", len(embedding_vector))\n",
    "print(\"임베딩 벡터 일부:\", embedding_vector[:5])\n"
   ]
  },
  {
   "cell_type": "markdown",
   "id": "491f0168",
   "metadata": {},
   "source": [
    "### Hugginface embeddings (multilinual-e5)"
   ]
  },
  {
   "cell_type": "code",
   "execution_count": 11,
   "id": "a6257139",
   "metadata": {},
   "outputs": [
    {
     "name": "stdout",
     "output_type": "stream",
     "text": [
      "임베딩 벡터 길이: 1024\n",
      "임베딩 벡터 일부: [0.02028062380850315, 0.00727831618860364, -0.001797395758330822, -0.037471067160367966, 0.013377872295677662]\n"
     ]
    }
   ],
   "source": [
    "# pip install langchain_huggingface\n",
    "from langchain_huggingface.embeddings import HuggingFaceEndpointEmbeddings\n",
    "\n",
    "EB_MODEL = \"intfloat/multilingual-e5-large-instruct\"  # multilingual-e5-large, multilingual-e5-large-instruct\n",
    "model_name = EB_MODEL\n",
    "\n",
    "HF_API_KEY = os.getenv(\"HF_API_KEY\")\n",
    "\n",
    "embedding = HuggingFaceEndpointEmbeddings(\n",
    "    model=model_name,\n",
    "    task=\"feature-extraction\",\n",
    "    huggingfacehub_api_token=HF_API_KEY,\n",
    ")\n",
    "\n",
    "# 단일 텍스트 임베딩 생성\n",
    "sample_text = \"금융권 문서 임베딩 예제\"\n",
    "embedding_vector = embedding.embed_query(sample_text)\n",
    "\n",
    "print(\"임베딩 벡터 길이:\", len(embedding_vector))\n",
    "print(\"임베딩 벡터 일부:\", embedding_vector[:5])"
   ]
  },
  {
   "cell_type": "markdown",
   "id": "49b91604",
   "metadata": {},
   "source": [
    "### Google Gemini Embeddings\n",
    "- *호환성 문제로 genai 는 사용하지 않도록 한다.*"
   ]
  },
  {
   "cell_type": "code",
   "execution_count": 5,
   "id": "471043c8",
   "metadata": {},
   "outputs": [
    {
     "name": "stdout",
     "output_type": "stream",
     "text": [
      "임베딩 벡터 길이: 768\n",
      "임베딩 벡터 일부: [-0.017458646, 0.023586035, 0.0074004014, -0.09534135, 0.011647189]\n"
     ]
    }
   ],
   "source": [
    "# pip install genai google google.genai\n",
    "from langchain.embeddings.base import Embeddings\n",
    "from google import genai\n",
    "from google.genai.types import EmbedContentConfig\n",
    "\n",
    "api_key = os.getenv(\"GC_API_KEY\")\n",
    "\n",
    "client = genai.Client(api_key=api_key)\n",
    "EB_MODEL = \"gemini-embedding-001\"  # Google Cloud 임베딩 모델\n",
    "def call_google_cloud_embedding_api(text):\n",
    "    response = client.models.embed_content(\n",
    "        model=EB_MODEL,\n",
    "        contents=text,\n",
    "        config=EmbedContentConfig(\n",
    "            task_type=\"RETRIEVAL_DOCUMENT\",\n",
    "            output_dimensionality=768\n",
    "        )\n",
    "    )\n",
    "    return response.embeddings[0].values\n",
    "\n",
    "class GoogleCloudEmbeddings(Embeddings):\n",
    "    def embed_documents(self, texts):\n",
    "        # Google Cloud 임베딩 API 호출 코드\n",
    "        # texts 리스트를 임베딩 벡터 리스트로 반환\n",
    "        embeddings = []\n",
    "        for text in texts:\n",
    "            embedding_vector = call_google_cloud_embedding_api(text)\n",
    "            embeddings.append(embedding_vector)\n",
    "        return embeddings\n",
    "\n",
    "    def embed_query(self, text):\n",
    "        return call_google_cloud_embedding_api(text)\n",
    "\n",
    "# 생성\n",
    "embedding = GoogleCloudEmbeddings()\n",
    "\n",
    "sample_text = \"금융권 문서 임베딩 예제\"\n",
    "embedding_vector = embedding.embed_query(sample_text)\n",
    "\n",
    "print(\"임베딩 벡터 길이:\", len(embedding_vector))\n",
    "print(\"임베딩 벡터 일부:\", embedding_vector[:5])\n"
   ]
  },
  {
   "cell_type": "markdown",
   "id": "88a09bcc",
   "metadata": {},
   "source": [
    "### KF-DeBERTa embedding 모델"
   ]
  },
  {
   "cell_type": "code",
   "execution_count": 12,
   "id": "ef909454",
   "metadata": {},
   "outputs": [
    {
     "name": "stdout",
     "output_type": "stream",
     "text": [
      "임베딩 벡터 길이: 768\n",
      "임베딩 벡터 일부: [ 0.84986967 -0.74095684  0.1062606  -0.3817094   0.35903543]\n"
     ]
    }
   ],
   "source": [
    "from langchain.embeddings.base import Embeddings\n",
    "from transformers import AutoTokenizer, AutoModel\n",
    "import torch\n",
    "\n",
    "EB_MODEL = \"kakaobank/kf-deberta-base\"  # KF-DeBERTa 모델 이름\n",
    "# KF-DeBERTa 임베딩 래퍼 정의\n",
    "class KFDeBERTaEmbeddings(Embeddings):\n",
    "    def __init__(self, model_name=EB_MODEL):\n",
    "        self.tokenizer = AutoTokenizer.from_pretrained(model_name)\n",
    "        self.model = AutoModel.from_pretrained(model_name)\n",
    "        self.device = \"cuda\" if torch.cuda.is_available() else \"cpu\"\n",
    "        self.model.to(self.device)\n",
    "\n",
    "    def embed_documents(self, texts):\n",
    "        return [self.embed_query(text) for text in texts]\n",
    "\n",
    "    def embed_query(self, text):\n",
    "        inputs = self.tokenizer(text, return_tensors=\"pt\", truncation=True, max_length=512, padding=True)\n",
    "        inputs = {k: v.to(self.device) for k, v in inputs.items()}\n",
    "        with torch.no_grad():\n",
    "            outputs = self.model(**inputs)\n",
    "            attention_mask = inputs[\"attention_mask\"]\n",
    "            token_embeddings = outputs.last_hidden_state\n",
    "            input_mask_expanded = attention_mask.unsqueeze(-1).expand(token_embeddings.size()).float()\n",
    "            embedding = torch.sum(token_embeddings * input_mask_expanded, 1) / torch.clamp(input_mask_expanded.sum(1), min=1e-9)\n",
    "        return embedding[0].cpu().numpy()\n",
    "\n",
    "# 생성\n",
    "embedding = KFDeBERTaEmbeddings()\n",
    "\n",
    "sample_text = \"금융권 문서 임베딩 예제\"\n",
    "embedding_vector = embedding.embed_query(sample_text)\n",
    "\n",
    "print(\"임베딩 벡터 길이:\", len(embedding_vector))\n",
    "print(\"임베딩 벡터 일부:\", embedding_vector[:5])"
   ]
  },
  {
   "cell_type": "markdown",
   "id": "4f97b62b",
   "metadata": {},
   "source": [
    "### bge-m3 Embedding model"
   ]
  },
  {
   "cell_type": "code",
   "execution_count": 13,
   "id": "f065864c",
   "metadata": {},
   "outputs": [
    {
     "name": "stdout",
     "output_type": "stream",
     "text": [
      "임베딩 벡터 길이: 1024\n",
      "임베딩 벡터 일부: [-0.025008689612150192, -0.012438048608601093, -0.016592279076576233, 0.013752914033830166, -0.008812281303107738]\n"
     ]
    }
   ],
   "source": [
    "from langchain.embeddings import HuggingFaceEmbeddings\n",
    "from langchain.vectorstores import FAISS\n",
    "from langchain.text_splitter import RecursiveCharacterTextSplitter\n",
    "\n",
    "EB_MODEL = \"BAAI/bge-m3\"\n",
    "# 임베딩 모델 생성\n",
    "embedding = HuggingFaceEmbeddings(\n",
    "    model_name=EB_MODEL,\n",
    "    model_kwargs={\"device\": \"cpu\"},  # GPU 사용 시\n",
    "    encode_kwargs={\"normalize_embeddings\": True}\n",
    ")\n",
    "\n",
    "sample_text = \"금융권 문서 임베딩 예제\"\n",
    "embedding_vector = embedding.embed_query(sample_text)\n",
    "\n",
    "print(\"임베딩 벡터 길이:\", len(embedding_vector))\n",
    "print(\"임베딩 벡터 일부:\", embedding_vector[:5])"
   ]
  },
  {
   "cell_type": "markdown",
   "id": "c21b1441",
   "metadata": {},
   "source": [
    "## 청킹 방법 설정하기"
   ]
  },
  {
   "cell_type": "code",
   "execution_count": 16,
   "id": "5e0503fe",
   "metadata": {},
   "outputs": [
    {
     "name": "stdout",
     "output_type": "stream",
     "text": [
      "<langchain_text_splitters.character.RecursiveCharacterTextSplitter object at 0x000001EA8444C5B0> \n",
      "embedding:  BAAI/bge-m3\n"
     ]
    }
   ],
   "source": [
    "# pip install langchain_experimental\n",
    "if splitter_name == \"recursive\" :\n",
    "    # recursive_character_text_splitter로 구분자 재귀 청킹 기법\n",
    "    from langchain_text_splitters import RecursiveCharacterTextSplitter\n",
    "\n",
    "    text_splitter = RecursiveCharacterTextSplitter(\n",
    "        chunk_size=1000,\n",
    "        chunk_overlap=100\n",
    "    )\n",
    "elif splitter_name == \"semantic\":\n",
    "    # pip install langchain_experimental\n",
    "    from langchain_experimental.text_splitter import SemanticChunker\n",
    "\n",
    "    text_splitter = SemanticChunker(embedding)\n",
    "\n",
    "print(text_splitter, \"\\nembedding: \", EB_MODEL)"
   ]
  },
  {
   "cell_type": "markdown",
   "id": "d9c63422",
   "metadata": {},
   "source": [
    "### Debug 함수"
   ]
  },
  {
   "cell_type": "code",
   "execution_count": 17,
   "id": "78f42103",
   "metadata": {},
   "outputs": [],
   "source": [
    "def debug_chunkinfo_aftersplit(all_splits):\n",
    "    for i, split in enumerate(all_splits):\n",
    "        print(f\"Chunk {i+1}:\")\n",
    "        print(split.page_content)\n",
    "        print(\"-\" * 40)"
   ]
  },
  {
   "cell_type": "markdown",
   "id": "b17918d6",
   "metadata": {},
   "source": [
    "### 추출 하기"
   ]
  },
  {
   "cell_type": "markdown",
   "id": "e2b594f8",
   "metadata": {},
   "source": [
    "- pdf에서 추출"
   ]
  },
  {
   "cell_type": "code",
   "execution_count": 18,
   "id": "1cf92787",
   "metadata": {},
   "outputs": [],
   "source": [
    "import os\n",
    "import glob\n",
    "from langchain_community.document_loaders import PyPDFLoader\n",
    "\n",
    "# PDF 파일을 읽어서 텍스트 데이터 추출 및 청킹\n",
    "def extract_documents_from_pdf(pdf_path):\n",
    "    # PDF 파일을 읽어서 텍스트 데이터 추출\n",
    "    loader = PyPDFLoader(pdf_path)\n",
    "    data_nyc = loader.load()\n",
    "\n",
    "    # 추출된 텍스트 데이터를 청킹\n",
    "    splits = text_splitter.split_documents(data_nyc)\n",
    "    # debug_chunkinfo_aftersplit(splits) \n",
    "\n",
    "    # recursive_character_text_splitter의 경우, 청크가 겹치는 부분이 없으면 연결하지 않음\n",
    "    # 따라서, 청크가 겹치는 부분이 없을 때는 직접 연결하여 오버랩을 만듦\n",
    "    # 만약 청크가 겹치는 부분이 있다면, 그 부분은 자동으로 연결됨\n",
    "    # 여기서는 청크가 겹치지 않는 경우에만 오버랩을 추가함\n",
    "\n",
    "    # 만약 첫 번째 청크의 끝과 두 번째 청크의 시작이 겹치지 않는다면,\n",
    "    if splitter_name == \"recursive\" and (splits[0].page_content[-100:] == splits[1].page_content[:100]):\n",
    "        print(splits[0].page_content)\n",
    "        print(\"----\")\n",
    "        print(splits[1].page_content)\n",
    "        for i in range(len(splits) - 1):\n",
    "            splits[i].page_content += \"\\n\" + splits[i + 1].page_content[:50]\n",
    "\n",
    "    return splits\n"
   ]
  },
  {
   "cell_type": "markdown",
   "id": "a87940ce",
   "metadata": {},
   "source": [
    "## 텍스트를 벡터로 변환하기"
   ]
  },
  {
   "cell_type": "markdown",
   "id": "3ca0cc98",
   "metadata": {},
   "source": [
    "- 토큰 제한하며 실행 및 저장"
   ]
  },
  {
   "cell_type": "code",
   "execution_count": 21,
   "id": "26ea0801",
   "metadata": {},
   "outputs": [],
   "source": [
    "# pip install pypdf\n",
    "import tiktoken\n",
    "import pypdf\n",
    "\n",
    "try:\n",
    "    encoding = tiktoken.encoding_for_model(EB_MODEL)\n",
    "except KeyError:\n",
    "    encoding = tiktoken.get_encoding(\"cl100k_base\") # 토크나이저를 직접 지정\n",
    "\n",
    "\n",
    "TOKEN_LIMIT_PER_BATCH = 40000  # 적절한 토큰 제한\n",
    "\n",
    "def batch_save(vectorstore, splits):\n",
    "    current_batch = []\n",
    "    current_tokens = 0\n",
    "\n",
    "    for doc in splits: \n",
    "        tokens = len(encoding.encode(doc.page_content))\n",
    "        \n",
    "        if current_tokens + tokens > TOKEN_LIMIT_PER_BATCH:\n",
    "            try:\n",
    "                vectorstore.add_documents(current_batch)\n",
    "                print(f\"✅ {len(current_batch)}개 문서 배치 저장 완료\")\n",
    "            except Exception as e:\n",
    "                print(f\"❌ 배치 저장 중 오류 발생: {e}\")\n",
    "            current_batch = [doc]\n",
    "            current_tokens = tokens\n",
    "        else:\n",
    "            current_batch.append(doc)\n",
    "            current_tokens += tokens\n",
    "\n",
    "    # 마지막 배치 처리\n",
    "    if current_batch:\n",
    "        vectorstore.add_documents(current_batch)\n",
    "        print(f\"✅ 마지막 배치 {len(current_batch)}개 문서 저장 완료\")\n",
    "    \n",
    "    return vectorstore"
   ]
  },
  {
   "cell_type": "markdown",
   "id": "09ca1100",
   "metadata": {},
   "source": [
    "- FAISS 사용하기"
   ]
  },
  {
   "cell_type": "code",
   "execution_count": 23,
   "id": "1818cd53",
   "metadata": {},
   "outputs": [
    {
     "name": "stdout",
     "output_type": "stream",
     "text": [
      "1.12.0\n"
     ]
    }
   ],
   "source": [
    "import faiss\n",
    "print(faiss.__version__)"
   ]
  },
  {
   "cell_type": "code",
   "execution_count": 24,
   "id": "86f69683",
   "metadata": {},
   "outputs": [
    {
     "name": "stdout",
     "output_type": "stream",
     "text": [
      "1024\n"
     ]
    }
   ],
   "source": [
    "embedding_vector = embedding.embed_query(\"test\")\n",
    "embedding_dim = len(embedding_vector)  # 임베딩 벡터의 차원 (예: 768, 1024 등)\n",
    "print(embedding_dim)"
   ]
  },
  {
   "cell_type": "code",
   "execution_count": null,
   "id": "1570fa61",
   "metadata": {},
   "outputs": [
    {
     "name": "stdout",
     "output_type": "stream",
     "text": [
      "Creating new Chroma store at ./faiss_index_recursive_BAAI_bge-m3...\n",
      "현재 청킹 방법 : recursive\n",
      "현재 모델 : BAAI/bge-m3\n",
      "PDF 파일 개수: 6\n"
     ]
    },
    {
     "name": "stderr",
     "output_type": "stream",
     "text": [
      "`embedding_function` is expected to be an Embeddings object, support for passing in a function will soon be removed.\n"
     ]
    },
    {
     "name": "stdout",
     "output_type": "stream",
     "text": [
      "전체 청크 개수: 245\n",
      "✅ 65개 문서 배치 저장 완료\n",
      "✅ 67개 문서 배치 저장 완료\n",
      "✅ 63개 문서 배치 저장 완료\n",
      "✅ 마지막 배치 50개 문서 저장 완료\n"
     ]
    }
   ],
   "source": [
    "# pip install faiss-cpu\n",
    "import faiss\n",
    "from langchain.embeddings import HuggingFaceEmbeddings\n",
    "from langchain_community.vectorstores import FAISS\n",
    "from langchain.vectorstores import FAISS\n",
    "from langchain.docstore.in_memory import InMemoryDocstore\n",
    "from langchain_chroma import Chroma\n",
    "import shutil\n",
    "import time\n",
    "\n",
    "persist_directory = './' + VECTOR_DB + '_' + splitter_name + '_' + EB_MODEL.replace('/', '_')\n",
    "\n",
    "\n",
    "\n",
    "\n",
    "if not os.path.exists(persist_directory):\n",
    "    print(f\"Creating new {VECTOR_DB} at {persist_directory}...\")    \n",
    "\n",
    "    # 만약 persist_directory가 존재하지 않는다면, 새로 생성. data에 있는 PDF 파일을 읽어서 청킹 후 저장\n",
    "    current_dir = os.getcwd() # 현재 폴더 경로\n",
    "    folder_path = os.path.join(current_dir, \"data\") # data 폴더 경로 설정\n",
    "    pdf_files = glob.glob(os.path.join(folder_path, \"*.pdf\")) # PDF 파일 목록 가져오기\n",
    "\n",
    "    all_splits = []\n",
    "    print(f\"현재 청킹 방법 : {splitter_name}\")\n",
    "    print(f\"현재 모델 : {EB_MODEL}\")\n",
    "    print(f\"PDF 파일 개수: {len(pdf_files)}\")\n",
    "    for pdf_file in pdf_files:\n",
    "        pdf_path = pdf_file\n",
    "        # temp_docs, merged_path = extract_documents_from_pdf(pdf_file)\n",
    "        all_splits.extend(extract_documents_from_pdf(pdf_file))\n",
    "\n",
    "    print(f\"전체 청크 개수: {len(all_splits)}\")\n",
    "\n",
    "    if VECTOR_DB == \"chroma_store\":\n",
    "        vectorstore = Chroma(\n",
    "            embedding_function=embedding,\n",
    "            persist_directory=persist_directory\n",
    "        )\n",
    "        vectorstore = batch_save(vectorstore, all_splits)\n",
    "    elif VECTOR_DB == \"faiss_index\":\n",
    "    \n",
    "        embedding_dim = len(embedding.embed_query(\"test\"))\n",
    "        index = faiss.IndexFlatIP(embedding_dim)\n",
    "\n",
    "        vectorstore = FAISS(\n",
    "            embedding_function=embedding.embed_query,\n",
    "            index=index,\n",
    "            docstore=InMemoryDocstore(),\n",
    "            index_to_docstore_id={}\n",
    "        )\n",
    "        vectorstore = batch_save(vectorstore, all_splits)\n",
    "        vectorstore.save_local(persist_directory)\n",
    "else :\n",
    "    # 이미 존재하는 Chroma store를 불러오기\n",
    "    print(f\"Loading existing {VECTOR_DB}...\")\n",
    "    if VECTOR_DB == \"faiss_index\":\n",
    "        vectorstore = FAISS.load_local(persist_directory, embedding, allow_dangerous_deserialization=True)\n",
    "    elif VECTOR_DB == \"chroma_store\":\n",
    "        vectorstore = Chroma(\n",
    "            embedding_function=embedding,\n",
    "            persist_directory=persist_directory\n",
    "        )\n",
    "\n",
    "    # 만약 새로 추가할 PDF 파일이 있다면 데이터 추출 및 저장후, extra_data 폴더에서 data 폴더로 이동\n",
    "    src_folder = 'extra_data'\n",
    "    dst_folder = 'data'\n",
    "\n",
    "    current_dir = os.getcwd() # 현재 폴더 경로\n",
    "    folder_path = os.path.join(current_dir, src_folder) # extra_data 폴더 경로 설정\n",
    "    pdf_files = glob.glob(os.path.join(folder_path, \"*.pdf\")) # PDF 파일 목록 가져오기\n",
    "\n",
    "    extra_splits = []\n",
    "    if not pdf_files:\n",
    "        print(\"추가할 PDF 파일이 없습니다.\")\n",
    "    else:\n",
    "        print(f\"추가할 PDF 파일 개수: {len(pdf_files)}\")\n",
    "        for pdf_file in pdf_files:\n",
    "            print(f\"Processing {pdf_file}...\")\n",
    "            extra_splits.extend(extract_documents_from_pdf(pdf_file))\n",
    "            time.sleep(1)\n",
    "\n",
    "        vectorstore = batch_save(vectorstore, extra_splits)\n",
    "        if VECTOR_DB == \"faiss_index\":\n",
    "            vectorstore.save_local(persist_directory)\n",
    "        # extra_data 폴더의 모든 파일 중 .pdf만 이동\n",
    "        for filename in os.listdir(src_folder):\n",
    "            if filename.lower().endswith('.pdf'):\n",
    "                src_path = os.path.join(src_folder, filename)\n",
    "                dst_path = os.path.join(dst_folder, filename)\n",
    "                if os.path.isfile(src_path):\n",
    "                    shutil.move(src_path, dst_path)"
   ]
  },
  {
   "cell_type": "markdown",
   "id": "b41f24cc",
   "metadata": {},
   "source": [
    "### 크로마 DB 생성하고 데이터 불러오기\n"
   ]
  },
  {
   "cell_type": "markdown",
   "id": "b47e9be1",
   "metadata": {},
   "source": [
    "- 최초에 chrom_store을 만들 때 data에 있는 pdf를 사용해서 생성할 때."
   ]
  },
  {
   "cell_type": "code",
   "execution_count": null,
   "id": "40f077e7",
   "metadata": {},
   "outputs": [
    {
     "ename": "KeyError",
     "evalue": "'Could not automatically map BAAI/bge-m3 to a tokeniser. Please use `tiktoken.get_encoding` to explicitly get the tokeniser you expect.'",
     "output_type": "error",
     "traceback": [
      "\u001b[1;31m---------------------------------------------------------------------------\u001b[0m",
      "\u001b[1;31mKeyError\u001b[0m                                  Traceback (most recent call last)",
      "Cell \u001b[1;32mIn[32], line 9\u001b[0m\n\u001b[0;32m      5\u001b[0m \u001b[38;5;28;01mimport\u001b[39;00m\u001b[38;5;250m \u001b[39m\u001b[38;5;21;01mtime\u001b[39;00m\n\u001b[0;32m      7\u001b[0m persist_directory \u001b[38;5;241m=\u001b[39m \u001b[38;5;124m'\u001b[39m\u001b[38;5;124m./\u001b[39m\u001b[38;5;124m'\u001b[39m \u001b[38;5;241m+\u001b[39m VECTOR_DB \u001b[38;5;241m+\u001b[39m \u001b[38;5;124m'\u001b[39m\u001b[38;5;124m_\u001b[39m\u001b[38;5;124m'\u001b[39m \u001b[38;5;241m+\u001b[39m splitter_name \u001b[38;5;241m+\u001b[39m \u001b[38;5;124m'\u001b[39m\u001b[38;5;124m_\u001b[39m\u001b[38;5;124m'\u001b[39m \u001b[38;5;241m+\u001b[39m EB_MODEL\u001b[38;5;241m.\u001b[39mreplace(\u001b[38;5;124m'\u001b[39m\u001b[38;5;124m/\u001b[39m\u001b[38;5;124m'\u001b[39m, \u001b[38;5;124m'\u001b[39m\u001b[38;5;124m_\u001b[39m\u001b[38;5;124m'\u001b[39m)\n\u001b[1;32m----> 9\u001b[0m encoding \u001b[38;5;241m=\u001b[39m \u001b[43mtiktoken\u001b[49m\u001b[38;5;241;43m.\u001b[39;49m\u001b[43mencoding_for_model\u001b[49m\u001b[43m(\u001b[49m\u001b[43mEB_MODEL\u001b[49m\u001b[43m)\u001b[49m\n\u001b[0;32m     11\u001b[0m TOKEN_LIMIT_PER_BATCH \u001b[38;5;241m=\u001b[39m \u001b[38;5;241m40000\u001b[39m  \u001b[38;5;66;03m# 적절한 토큰 제한\u001b[39;00m\n\u001b[0;32m     13\u001b[0m \u001b[38;5;28;01mdef\u001b[39;00m\u001b[38;5;250m \u001b[39m\u001b[38;5;21mbatch_save\u001b[39m(vectorstore, splits):\n",
      "File \u001b[1;32mc:\\ITStudy\\Project\\TechSeminar_Public\\.venv\\lib\\site-packages\\tiktoken\\model.py:117\u001b[0m, in \u001b[0;36mencoding_for_model\u001b[1;34m(model_name)\u001b[0m\n\u001b[0;32m    112\u001b[0m \u001b[38;5;28;01mdef\u001b[39;00m\u001b[38;5;250m \u001b[39m\u001b[38;5;21mencoding_for_model\u001b[39m(model_name: \u001b[38;5;28mstr\u001b[39m) \u001b[38;5;241m-\u001b[39m\u001b[38;5;241m>\u001b[39m Encoding:\n\u001b[0;32m    113\u001b[0m \u001b[38;5;250m    \u001b[39m\u001b[38;5;124;03m\"\"\"Returns the encoding used by a model.\u001b[39;00m\n\u001b[0;32m    114\u001b[0m \n\u001b[0;32m    115\u001b[0m \u001b[38;5;124;03m    Raises a KeyError if the model name is not recognised.\u001b[39;00m\n\u001b[0;32m    116\u001b[0m \u001b[38;5;124;03m    \"\"\"\u001b[39;00m\n\u001b[1;32m--> 117\u001b[0m     \u001b[38;5;28;01mreturn\u001b[39;00m get_encoding(\u001b[43mencoding_name_for_model\u001b[49m\u001b[43m(\u001b[49m\u001b[43mmodel_name\u001b[49m\u001b[43m)\u001b[49m)\n",
      "File \u001b[1;32mc:\\ITStudy\\Project\\TechSeminar_Public\\.venv\\lib\\site-packages\\tiktoken\\model.py:104\u001b[0m, in \u001b[0;36mencoding_name_for_model\u001b[1;34m(model_name)\u001b[0m\n\u001b[0;32m    101\u001b[0m             \u001b[38;5;28;01mreturn\u001b[39;00m model_encoding_name\n\u001b[0;32m    103\u001b[0m \u001b[38;5;28;01mif\u001b[39;00m encoding_name \u001b[38;5;129;01mis\u001b[39;00m \u001b[38;5;28;01mNone\u001b[39;00m:\n\u001b[1;32m--> 104\u001b[0m     \u001b[38;5;28;01mraise\u001b[39;00m \u001b[38;5;167;01mKeyError\u001b[39;00m(\n\u001b[0;32m    105\u001b[0m         \u001b[38;5;124mf\u001b[39m\u001b[38;5;124m\"\u001b[39m\u001b[38;5;124mCould not automatically map \u001b[39m\u001b[38;5;132;01m{\u001b[39;00mmodel_name\u001b[38;5;132;01m}\u001b[39;00m\u001b[38;5;124m to a tokeniser. \u001b[39m\u001b[38;5;124m\"\u001b[39m\n\u001b[0;32m    106\u001b[0m         \u001b[38;5;124m\"\u001b[39m\u001b[38;5;124mPlease use `tiktoken.get_encoding` to explicitly get the tokeniser you expect.\u001b[39m\u001b[38;5;124m\"\u001b[39m\n\u001b[0;32m    107\u001b[0m     ) \u001b[38;5;28;01mfrom\u001b[39;00m\u001b[38;5;250m \u001b[39m\u001b[38;5;28;01mNone\u001b[39;00m\n\u001b[0;32m    109\u001b[0m \u001b[38;5;28;01mreturn\u001b[39;00m encoding_name\n",
      "\u001b[1;31mKeyError\u001b[0m: 'Could not automatically map BAAI/bge-m3 to a tokeniser. Please use `tiktoken.get_encoding` to explicitly get the tokeniser you expect.'"
     ]
    }
   ],
   "source": [
    "from langchain_chroma import Chroma\n",
    "import tiktoken\n",
    "import os\n",
    "import shutil\n",
    "import time\n",
    "\n",
    "persist_directory = './' + VECTOR_DB + '_' + splitter_name + '_' + EB_MODEL.replace('/', '_')\n",
    "\n",
    "encoding = tiktoken.encoding_for_model(EB_MODEL)\n",
    "\n",
    "TOKEN_LIMIT_PER_BATCH = 40000  # 적절한 토큰 제한\n",
    "\n",
    "def batch_save(vectorstore, splits):\n",
    "    current_batch = []\n",
    "    current_tokens = 0\n",
    "\n",
    "    for doc in splits: \n",
    "        tokens = len(encoding.encode(doc.page_content))\n",
    "        \n",
    "        if current_tokens + tokens > TOKEN_LIMIT_PER_BATCH:\n",
    "            try:\n",
    "                vectorstore.add_documents(current_batch)\n",
    "                print(f\"✅ {len(current_batch)}개 문서 배치 저장 완료\")\n",
    "            except Exception as e:\n",
    "                print(f\"❌ 배치 저장 중 오류 발생: {e}\")\n",
    "            current_batch = [doc]\n",
    "            current_tokens = tokens\n",
    "        else:\n",
    "            current_batch.append(doc)\n",
    "            current_tokens += tokens\n",
    "\n",
    "    # 마지막 배치 처리\n",
    "    if current_batch:\n",
    "        vectorstore.add_documents(current_batch)\n",
    "        print(f\"✅ 마지막 배치 {len(current_batch)}개 문서 저장 완료\")\n",
    "    \n",
    "    return vectorstore\n",
    "\n",
    "\n",
    "if not os.path.exists(persist_directory):\n",
    "    print(f\"Creating new Chroma store at {persist_directory}...\")    \n",
    "\n",
    "    # 만약 persist_directory가 존재하지 않는다면, 새로 생성. data에 있는 PDF 파일을 읽어서 청킹 후 저장\n",
    "    current_dir = os.getcwd() # 현재 폴더 경로\n",
    "    folder_path = os.path.join(current_dir, \"data\") # data 폴더 경로 설정\n",
    "    pdf_files = glob.glob(os.path.join(folder_path, \"*.pdf\")) # PDF 파일 목록 가져오기\n",
    "\n",
    "    all_splits = []\n",
    "    print(f\"현재 청킹 방법 : {splitter_name}\")\n",
    "    print(f\"현재 모델 : {EB_MODEL}\")\n",
    "    print(f\"PDF 파일 개수: {len(pdf_files)}\")\n",
    "    for pdf_file in pdf_files:\n",
    "        pdf_path = pdf_file\n",
    "        # temp_docs, merged_path = extract_documents_from_pdf(pdf_file)\n",
    "        all_splits.extend(extract_documents_from_pdf(pdf_file))\n",
    "\n",
    "    print(f\"전체 청크 개수: {len(all_splits)}\")\n",
    "\n",
    "    if VECTOR_DB == \"chroma_store\":\n",
    "        vectorstore = Chroma(\n",
    "            embedding_function=embedding,\n",
    "            persist_directory=persist_directory\n",
    "        )\n",
    "        vectorstore = batch_save(vectorstore, all_splits)\n",
    "else :\n",
    "    # 이미 존재하는 Chroma store를 불러오기\n",
    "    print(\"Loading existing Chroma store...\")\n",
    "    vectorstore = Chroma(\n",
    "        embedding_function=embedding,\n",
    "        persist_directory=persist_directory\n",
    "    )\n",
    "    # 만약 새로 추가할 PDF 파일이 있다면 데이터 추출 및 저장후, extra_data 폴더에서 data 폴더로 이동\n",
    "    src_folder = 'extra_data'\n",
    "    dst_folder = 'data'\n",
    "\n",
    "    current_dir = os.getcwd() # 현재 폴더 경로\n",
    "    folder_path = os.path.join(current_dir, src_folder) # extra_data 폴더 경로 설정\n",
    "    pdf_files = glob.glob(os.path.join(folder_path, \"*.pdf\")) # PDF 파일 목록 가져오기\n",
    "\n",
    "    extra_splits = []\n",
    "    if not pdf_files:\n",
    "        print(\"추가할 PDF 파일이 없습니다.\")\n",
    "    else:\n",
    "        print(f\"추가할 PDF 파일 개수: {len(pdf_files)}\")\n",
    "        for pdf_file in pdf_files:\n",
    "            print(f\"Processing {pdf_file}...\")\n",
    "            extra_splits.extend(extract_documents_from_pdf(pdf_file))\n",
    "            time.sleep(1)\n",
    "\n",
    "        vectorstore = batch_save(vectorstore, extra_splits)\n",
    "\n",
    "        # extra_data 폴더의 모든 파일 중 .pdf만 이동\n",
    "        for filename in os.listdir(src_folder):\n",
    "            if filename.lower().endswith('.pdf'):\n",
    "                src_path = os.path.join(src_folder, filename)\n",
    "                dst_path = os.path.join(dst_folder, filename)\n",
    "                if os.path.isfile(src_path):\n",
    "                    shutil.move(src_path, dst_path)"
   ]
  },
  {
   "cell_type": "markdown",
   "id": "93d5f822",
   "metadata": {},
   "source": [
    "## LLM 설정 후 질문 및 답변"
   ]
  },
  {
   "cell_type": "code",
   "execution_count": 26,
   "id": "571fe2ce",
   "metadata": {},
   "outputs": [],
   "source": [
    "from langchain_core.prompts import ChatPromptTemplate, MessagesPlaceholder\n",
    "from langchain.chains.combine_documents import create_stuff_documents_chain\n",
    "from langchain_openai import ChatOpenAI\n",
    "# from langchain_openai import ChatOpenAI # 라고 했을 때는 module 'openai' has no attribute 'DefaultHttpxClient' 오류가\n",
    "from openai import OpenAI\n",
    "\n",
    "if LLM_MODEL == \"gpt-4o-mini\":\n",
    "    chat = ChatOpenAI(model=LLM_MODEL)\n",
    "# elif LLM_MODEL == \"gpt-oss-120b\":\n",
    "#     HF_API_KEY = os.getenv(\"HF_API_KEY\")\n",
    "#     chat = ChatOpenAI(\n",
    "#         base_url=\"https://router.huggingface.co/v1\",\n",
    "#         api_key=HF_API_KEY,\n",
    "#         model = LLM_MODEL\n",
    "#     )\n",
    "\n",
    "question_answering_promt = ChatPromptTemplate.from_messages(\n",
    "    [\n",
    "        (\n",
    "            \"system\",\n",
    "            \"You are an assistant for question-answering tasks. Use the following pieces of retrieved context to answer the question. If you don't know the answer, just say that you don't know. Please write your answer in a markdown table format with the main points. Be sure to include all your source and page numbers like (3 ~ 10) in your answer. If you have over one source, you should include all of them. Answer in Korean. \\n#Example Format: \\n(brief summary of the answer) \\n (table) \\n  (detailed answer to the question) \\n**출처** \\n- (file source) (page source and page number) (Please write the quoted text within 20 characters and follow it with ... )\\n #Context: {context}\",\n",
    "        ),\n",
    "        MessagesPlaceholder(variable_name=\"messages\"),\n",
    "    ]\n",
    ")\n",
    "\n",
    "document_chain = create_stuff_documents_chain(chat, question_answering_promt)"
   ]
  },
  {
   "cell_type": "markdown",
   "id": "3ef843e4",
   "metadata": {},
   "source": [
    "- meta data에 있는 정보는 llm이 알 수 없으므로 출처 filename을 포함시켜서 새로운 Document 타입을 생성"
   ]
  },
  {
   "cell_type": "code",
   "execution_count": 27,
   "id": "43f07455",
   "metadata": {},
   "outputs": [],
   "source": [
    "import os\n",
    "from langchain.schema import Document\n",
    "\n",
    "# Document type인 docs가 context로 넘겨졌을 때 llm은 content에 있는 정보 기반으로 답을 한다.\n",
    "# 따라서 meta data에 있는 정보는 llm이 알 수 없으므로 출처 filename을 포함시켜서 새로운 Document 타입을 생성한다.\n",
    "def format_docs_with_source_as_documents(docs):\n",
    "    new_docs = []\n",
    "    for d in docs:\n",
    "        filename = os.path.basename(d.metadata.get(\"source\", \"\"))\n",
    "        # 기존 page_content 뒤에 출처 붙이기\n",
    "        new_content = f\"{d.page_content}\\n출처: {filename}\"\n",
    "\n",
    "        # 새 리스트 생성 (metadata 유지)\n",
    "        new_docs.append(\n",
    "            Document(page_content=new_content, metadata=d.metadata)\n",
    "        )\n",
    "    return new_docs\n",
    "\n"
   ]
  },
  {
   "cell_type": "markdown",
   "id": "fc69b8f1",
   "metadata": {},
   "source": [
    "### 질문 입력 및 답변 생성"
   ]
  },
  {
   "cell_type": "code",
   "execution_count": 28,
   "id": "59c6572d",
   "metadata": {},
   "outputs": [],
   "source": [
    "retriever = vectorstore.as_retriever(k=3)\n",
    "question = \"우리 부부의 연소득은 총 합 6800만원이야. 받을 수 있는 대출은 뭐가 있을까?\"\n",
    "docs = retriever.invoke(question)\n",
    "# print(type(docs))\n",
    "# print(docs)\n",
    "formatted_context = format_docs_with_source_as_documents(docs)\n",
    "\n",
    "# for d in formatted_context:\n",
    "#     # print(d.metadata)\n",
    "#     print(d)\n",
    "#     print(\"-\" * 40)\n",
    "# for d in docs:\n",
    "#     print(d.metadata)\n",
    "#     print(d.page_content)\n",
    "#     print(\"-\" * 40)\n"
   ]
  },
  {
   "cell_type": "markdown",
   "id": "5e48fe9b",
   "metadata": {},
   "source": [
    "- openai/gpt-oss-120b 모델 사용"
   ]
  },
  {
   "cell_type": "code",
   "execution_count": 29,
   "id": "900689de",
   "metadata": {},
   "outputs": [
    {
     "name": "stdout",
     "output_type": "stream",
     "text": [
      "질문: 우리 부부의 연소득은 총 합 6800만원이야. 받을 수 있는 대출은 뭐가 있을까?\n",
      "답변:\n",
      "----------------------------------------\n",
      "연소득 6800만원이면 디딤돌대출·보금자리론 등 일반 주택담보대출 가능  \n",
      "\n",
      "| 대출상품 | 최대 한도 | 대출기간 | 비고 |\n",
      "|---|---|---|---|\n",
      "| 디딤돌대출 | 2 억 원(주택당) | 10·15·20·30 년 | DTI 60% 이하, 소득 1 억 원 이하(부부합산) |\n",
      "| 보금자리론 | 제한 없음(소득·담보 기준) | 변동 | 전자약정·전자등기 시 우대금리 0.1%p |\n",
      "\n",
      "**출처**  \n",
      "- bogeum_guidline.pdf p.53 “DTI 60% … 부부 합산 연소득 … 이하” …  \n",
      "- 디딤돌대출_업무처리기준.pdf p.14 “담보주택당 한도 2억원 …” …  \n",
      "- bogeum_guidline.pdf p.17 “보금자리론 우대금리 0.1%p” …\n",
      "\n",
      "청킹 방법 recursive\n",
      "임베딩 모델 BAAI/bge-m3\n",
      "LLM 모델 openai/gpt-oss-120b\n"
     ]
    }
   ],
   "source": [
    "\n",
    "from openai import OpenAI\n",
    "load_dotenv()\n",
    "HF_API_KEY = os.getenv(\"HF_API_KEY\")\n",
    "client = OpenAI(\n",
    "    base_url=\"https://router.huggingface.co/v1\",\n",
    "    api_key=HF_API_KEY\n",
    ")\n",
    "# print(formatted_context)\n",
    "summary_completion = client.chat.completions.create(\n",
    "    model=\"openai/gpt-oss-120b\",\n",
    "    messages=[{\n",
    "        \"role\": \"user\", \n",
    "        \"content\": f\"You are an assistant for question-answering tasks. Use the following pieces of retrieved context to answer the question. If you don't know the answer, just say that you don't know. you should user performed_context. If the 'perforemd_context' is null, you just say 'it is empyt'. Please keep the answer under 100 characters. Please write your answer in a markdown table format with the main points. Be sure to include all your source and page numbers like (3 ~ 10) in your answer. If you have over one source, you should include all of them. Answer in Korean. \\n#Example Format: \\n(brief summary of the answer) \\n (table) \\n  (detailed answer to the question) \\n**출처** \\n- (file source) (page source and page number) (Please write the quoted text within 20 characters and follow it with ... )\\n #Context: {formatted_context}. The question is : 우리 부부의 연소득은 총 합 6800만원이야. 받을 수 있는 대출은 뭐가 있을까?\"\n",
    "        }],\n",
    ")\n",
    "print(\"질문:\", question)\n",
    "print(\"답변:\")\n",
    "print(\"-\" * 40)\n",
    "print(summary_completion.choices[0].message.content)\n",
    "\n",
    "print(\"\\n청킹 방법\", splitter_name)\n",
    "print(\"임베딩 모델\", EB_MODEL)\n",
    "print(\"LLM 모델\", \"openai/gpt-oss-120b\")\n"
   ]
  },
  {
   "cell_type": "code",
   "execution_count": 30,
   "id": "69df40c4",
   "metadata": {},
   "outputs": [
    {
     "name": "stdout",
     "output_type": "stream",
     "text": [
      "질문: 우리 부부의 연소득은 총 합 6800만원이야. 받을 수 있는 대출은 뭐가 있을까?\n",
      "답변:\n",
      "----------------------------------------\n",
      "부부의 연소득이 6800만원일 경우 받을 수 있는 대출은 다음과 같습니다.\n",
      "\n",
      "| 대출상품 | 대출한도 | 기타 조건 |\n",
      "|----------|----------|-----------|\n",
      "| 디딤돌 대출 | 최대 2억원 | 담보주택에 따라 다름; 연소득 6000만원 이하의 한부모가구일 경우 우대금리 적용 가능 (12 ~ 13) |\n",
      "| 우대금리 적용 가능 | 0.5%p ~ 1%p | 다자녀가구, 신혼가구, 및 기타 조건에 따라 적용 (12) |\n",
      "\n",
      "부부의 연소득이 6800만원이므로 일반 대출은 가능하지만, 추가적인 우대금리를 받으려면 특정 조건에 맞춰야 합니다. \n",
      "\n",
      "**출처**\n",
      "- bogeum_guidline.pdf (12 페이지)\n",
      "- 디딤돌대출_업무처리기준.pdf (11 페이지)\n",
      "\n",
      "청킹 방법 recursive\n",
      "임베딩 모델 BAAI/bge-m3\n",
      "LLM 모델 gpt-4o-mini\n"
     ]
    }
   ],
   "source": [
    "from langchain.memory import ChatMessageHistory\n",
    "\n",
    "chat_history = ChatMessageHistory()\n",
    "\n",
    "chat_history.add_user_message(question)\n",
    "\n",
    "answer = document_chain.invoke(\n",
    "    {\n",
    "        \"messages\": chat_history.messages,\n",
    "        \"context\": formatted_context,\n",
    "    }\n",
    ")\n",
    "\n",
    "chat_history.add_ai_message(answer)\n",
    "print(\"질문:\", question)\n",
    "print(\"답변:\")\n",
    "print(\"-\" * 40)\n",
    "print(answer)\n",
    "\n",
    "print(\"\\n청킹 방법\", splitter_name)\n",
    "print(\"임베딩 모델\", EB_MODEL)\n",
    "print(\"LLM 모델\", LLM_MODEL)"
   ]
  },
  {
   "cell_type": "markdown",
   "id": "58ad6218",
   "metadata": {},
   "source": [
    "### context 사용 없이 질문을 받았을 경우"
   ]
  },
  {
   "cell_type": "code",
   "execution_count": 44,
   "id": "30e9039a",
   "metadata": {},
   "outputs": [
    {
     "name": "stdout",
     "output_type": "stream",
     "text": [
      "질문: 우리 부부의 연소득은 총 합 6800만원이야. 받을 수 있는 대출은 뭐가 있을까?\n",
      "답변:\n",
      "----------------------------------------\n",
      "**핵심 요약**  \n",
      "연소득 6,800만원이면 주택·전세·신용·보증대출 등 4가지 유형을 주로 고려할 수 있습니다.  \n",
      "\n",
      "| 대출 유형 | 한도(예시) | 금리(연) | 주요 조건 |\n",
      "|---|---|---|---|\n",
      "| 주택담보대출 | 연소득 × 5~7배 | 3.1%~4.5% | 소득·신용·부동산 담보 |\n",
      "| 전세자금대출 | 연소득 × 4배 | 2.8%~4.0% | 전세보증금·소득·신용 |\n",
      "| 정책보증대출(주택도시보증) | 연소득 × 6배 | 2.5%~3.5% | 보증기관·소득·신용 |\n",
      "| 신용대출(소액) | 연소득 × 2배 | 4.0%~7.0% | 신용점수·소득 |\n",
      "\n",
      "**세부 안내**  \n",
      "- **주택담보**는 가장 높은 한도와 낮은 금리를 제공하지만 부동산 소유가 전제됩니다.  \n",
      "- **전세자금 대출**은 전세보증금을 담보로 하며, 초기 자금이 부족할 때 활용합니다.  \n",
      "- **보증대출**은 주택도시보증공사(HUG) 등이 보증해 주어 신용보강이 되며, 소득·주거 안정성에 따라 한도가 결정됩니다.  \n",
      "- **신용대출**은 담보가 없고 신용점수에 따라 금리가 다소 높으니, 급한 자금이 필요할 때 보조적으로 이용합니다.  \n",
      "\n",
      "**출처**  \n",
      "- 금융감독원, “가계대출 한도·금리 안내”, 2023년, https://www.fss.or.kr/... (인용: “연소득 × …”)  \n",
      "- 주택도시보증공사, “보증대출 상품개요”, 2024, https://www.hug.or.kr/... (인용: “보증·연소득 × 6…”)  \n",
      "- 한국은행, “주택·전세자금 대출 현황”, 2023, https://www.bok.or.kr/... (인용: “전세자금 연소득 × 4…”)  \n",
      "\n",
      "청킹 방법 context 사용 없음\n",
      "임베딩 모델 context 사용 없음\n",
      "LLM 모델 openai/gpt-oss-120b\n"
     ]
    }
   ],
   "source": [
    "\n",
    "from openai import OpenAI\n",
    "from langchain_openai import ChatOpenAI\n",
    "\n",
    "load_dotenv()\n",
    "HF_API_KEY = os.getenv(\"HF_API_KEY\")\n",
    "client = OpenAI(\n",
    "    base_url=\"https://router.huggingface.co/v1\",\n",
    "    api_key=HF_API_KEY\n",
    ")\n",
    "# print(formatted_context)\n",
    "summary_completion = client.chat.completions.create(\n",
    "    model=\"openai/gpt-oss-120b\",\n",
    "    messages=[{\n",
    "        \"role\": \"user\", \n",
    "        \"content\": f\"You are an assistant for question-answering tasks. Please keep the answer under 500 characters. Please write your answer in a markdown table format with the main points.  Answer in Korean. \\n#Example Format: \\n(brief summary of the answer) \\n (table) \\n  (detailed answer to the question) \\n**출처** \\n- (file source) (page source and page number and correct full url) (Please write the quoted text within 20 characters and follow it with ... )\\n The question is : 우리 부부의 연소득은 총 합 6800만원이야. 받을 수 있는 대출은 뭐가 있을까?\"\n",
    "        }],\n",
    ")\n",
    "print(\"질문:\", question)\n",
    "print(\"답변:\")\n",
    "print(\"-\" * 40)\n",
    "print(summary_completion.choices[0].message.content)\n",
    "\n",
    "print(\"\\n청킹 방법\", \"context 사용 없음\")\n",
    "print(\"임베딩 모델\", \"context 사용 없음\")\n",
    "print(\"LLM 모델\", \"openai/gpt-oss-120b\")"
   ]
  },
  {
   "cell_type": "markdown",
   "id": "1c3b1b86",
   "metadata": {},
   "source": [
    "## 질의 확장 구현\n",
    "- 챗본으로 만들 경우 첫번째 질문을 이어 받아서 두번째 질문도 답변을 해야하니 질의 확장에 대한 기능이다. (필수 x)"
   ]
  },
  {
   "cell_type": "code",
   "execution_count": 37,
   "id": "565825aa",
   "metadata": {},
   "outputs": [
    {
     "name": "stdout",
     "output_type": "stream",
     "text": [
      "부부의 연소득이 3000만원일 때 받을 수 있는 대출은 무엇인가요?\n"
     ]
    }
   ],
   "source": [
    "from langchain_core.output_parsers import StrOutputParser\n",
    "\n",
    "query_for_other = \"3천만원 일때는?\"\n",
    "\n",
    "query_augmentation_prompt = ChatPromptTemplate.from_messages(\n",
    "    [\n",
    "        MessagesPlaceholder(variable_name=\"messages\"),\n",
    "        (\n",
    "            \"system\",\n",
    "            \"기존의 대화 내용을 활용하여 사용자가 질문한 의도를 파악해서 한 문장의 명료한 질문으로 변환하라. 대명사나 이, 저, 그와 같은 표현을 명확한 명사로 표현하라. : \\n\\n{query}\",\n",
    "        ),\n",
    "    ]\n",
    ")\n",
    "query_augmentation_chain = query_augmentation_prompt | chat | StrOutputParser()\n",
    "\n",
    "augmented_query = query_augmentation_chain.invoke(\n",
    "    {\n",
    "        \"messages\": chat_history.messages,\n",
    "        \"query\": query_for_other,\n",
    "    }\n",
    ")\n",
    "\n",
    "print(augmented_query)"
   ]
  },
  {
   "cell_type": "code",
   "execution_count": null,
   "id": "2076f592",
   "metadata": {},
   "outputs": [
    {
     "name": "stdout",
     "output_type": "stream",
     "text": [
      "질문: 3천만원 일때는?\n",
      "답변:\n",
      "----------------------------------------\n",
      "연소득이 3000만원일 때의 대출 가능성은 다음과 같이 요약할 수 있습니다.\n",
      "\n",
      "| 주요 내용               | 세부 사항                                     |\n",
      "|----------------------|--------------------------------------------|\n",
      "| 연소득               | 3000만원                                    |\n",
      "| 대출한도 — 일반      | 2억원 이내                                   |\n",
      "| 대출한도 — 생애최초  | 2.4억원                                     |\n",
      "| 대출한도 — 신혼·다자녀 | 3.2억원                                     |\n",
      "| 소득 추정 기준       | 5천만원 이하 대출 취급 가능                 |\n",
      "\n",
      "부부의 연소득이 3000만원인 경우, 일반적인 대출한도는 최대 2억원입니다. 또한 생애 최초 주택 구입자나 신혼 및 다자녀 가구의 경우 각각 2.4억원과 3.2억원까지 대출 가능성이 있습니다. 소득이 5천만원 이하이므로 대출 신청이 가능하다는 점 또한 주요합니다.\n",
      "\n",
      "**출처**\n",
      "- 디딤돌대출_업무처리기준.pdf (22페이지) \"소득추정 금액이 60백만원 이하 ...\" \n",
      "\n",
      "청킹 방법 recursive\n",
      "임베딩 모델 text-embedding-3-large\n",
      "LLM 모델 gpt-4o-mini\n"
     ]
    }
   ],
   "source": [
    "docs_other = retriever.invoke(augmented_query)\n",
    "# print(type(docs))\n",
    "# print(docs)\n",
    "formatted_context_other = format_docs_with_source_as_documents(docs_other)\n",
    "\n",
    "chat_history.add_user_message(query_for_other)\n",
    "\n",
    "answer = document_chain.invoke(\n",
    "    {\n",
    "        \"messages\": chat_history.messages,\n",
    "        \"context\": formatted_context_other,\n",
    "    }\n",
    ")\n",
    "\n",
    "chat_history.add_ai_message(answer)\n",
    "\n",
    "print(\"질문:\", query_for_other)\n",
    "print(\"답변:\")\n",
    "print(\"-\" * 40)\n",
    "print(answer)\n",
    "\n",
    "print(\"\\n청킹 방법\", splitter_name)\n",
    "print(\"임베딩 모델\", EB_MODEL)\n",
    "print(\"LLM 모델\", LLM_MODEL)"
   ]
  }
 ],
 "metadata": {
  "kernelspec": {
   "display_name": ".venv",
   "language": "python",
   "name": "python3"
  },
  "language_info": {
   "codemirror_mode": {
    "name": "ipython",
    "version": 3
   },
   "file_extension": ".py",
   "mimetype": "text/x-python",
   "name": "python",
   "nbconvert_exporter": "python",
   "pygments_lexer": "ipython3",
   "version": "3.10.11"
  }
 },
 "nbformat": 4,
 "nbformat_minor": 5
}
